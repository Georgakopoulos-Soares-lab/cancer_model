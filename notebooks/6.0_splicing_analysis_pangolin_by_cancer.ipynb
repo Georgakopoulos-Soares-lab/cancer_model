{
 "cells": [
  {
   "cell_type": "code",
   "execution_count": 1,
   "metadata": {},
   "outputs": [],
   "source": [
    "import os\n",
    "import pandas as pd\n",
    "import matplotlib.pyplot as plt\n",
    "from adjustText import adjust_text\n",
    "import seaborn as sns"
   ]
  },
  {
   "cell_type": "code",
   "execution_count": 2,
   "metadata": {},
   "outputs": [],
   "source": [
    "# input files/dir\n",
    "ANNOTATED_MUTATIONS = \"../data/annotated_snv_mv_indels_by_cancer_subtype\"\n",
    "DRIVER_GENES = \"../data/driver_genes\"\n",
    "PANGOLIN_PREDICTIONS = \"../data/pangolin_predictions\"\n",
    "WHITELISTED_SAMPLES = \"../data/datasets/PCAWG/supplementary Tables/Supplementary Table 1.csv\"\n",
    "GENE_NAME_MAPPING = \"../data/ref/gene_mappings.tsv\"\n",
    "\n",
    "# output files/dir\n",
    "SPLICING_CHANGES = \"../results/splicing_changes\"\n",
    "\n",
    "if not os.path.exists(SPLICING_CHANGES):\n",
    "\tos.makedirs(SPLICING_CHANGES)"
   ]
  },
  {
   "cell_type": "code",
   "execution_count": 3,
   "metadata": {
    "tags": [
     "parameters"
    ]
   },
   "outputs": [],
   "source": [
    "cancer_type =\"Prost-AdenoCA\""
   ]
  },
  {
   "cell_type": "code",
   "execution_count": 4,
   "metadata": {},
   "outputs": [
    {
     "name": "stdout",
     "output_type": "stream",
     "text": [
      "70611\n"
     ]
    }
   ],
   "source": [
    "gene_names = pd.read_csv(GENE_NAME_MAPPING, sep=\"\\t\")\n",
    "# dictionary to map ensemble gene id to gene name\n",
    "gene_dict = dict(zip(gene_names[\"ensembl_gene_id\"], gene_names[\"hgnc_symbol\"]))\n",
    "print(len(gene_dict))"
   ]
  },
  {
   "cell_type": "code",
   "execution_count": 5,
   "metadata": {},
   "outputs": [
    {
     "name": "stdout",
     "output_type": "stream",
     "text": [
      "Number of unique samples in the whitelist: 2583\n"
     ]
    }
   ],
   "source": [
    "whitelisted_data = pd.read_csv(WHITELISTED_SAMPLES, sep=\",\", header=0)\n",
    "whitelisted_samples = whitelisted_data[\"tumour_specimen_aliquot_id\"].unique().tolist()\n",
    "print(f\"Number of unique samples in the whitelist: {len(whitelisted_samples)}\")"
   ]
  },
  {
   "cell_type": "code",
   "execution_count": 6,
   "metadata": {},
   "outputs": [
    {
     "name": "stdout",
     "output_type": "stream",
     "text": [
      "(2257, 2)\n",
      "(2295, 2)\n",
      "(2281, 2)\n",
      "Warnings: ['NoAnnotatedSitesToMaskForThisGene', 'NoAnnotatedSitesToMaskForThisGene']\n",
      "(4562, 4)\n",
      "(35, 4)\n",
      "(28, 2)\n"
     ]
    },
    {
     "data": {
      "application/vnd.microsoft.datawrangler.viewer.v0+json": {
       "columns": [
        {
         "name": "index",
         "rawType": "int64",
         "type": "integer"
        },
        {
         "name": "mutation_loc",
         "rawType": "object",
         "type": "string"
        },
        {
         "name": "splice_change",
         "rawType": "object",
         "type": "string"
        }
       ],
       "conversionMethod": "pd.DataFrame",
       "ref": "540e7439-6559-478e-a292-eec7e69cd0cb",
       "rows": [
        [
         "0",
         "10:89624397:G:A",
         "['PTEN:-3:0.1899999976158142']"
        ],
        [
         "1",
         "10:89711873:A:T",
         "['PTEN:6:0.20000000298023224', 'PTEN:2:-0.8600000143051147']"
        ],
        [
         "2",
         "10:89712019:A:C",
         "['PTEN:-3:-0.8199999928474426']"
        ],
        [
         "3",
         "10:89717609:G:T",
         "['PTEN:9:0.7099999785423279', 'PTEN:1:-0.8700000047683716']"
        ],
        [
         "4",
         "11:108103092:C:G",
         "['ATM:1:0.2800000011920929']"
        ]
       ],
       "shape": {
        "columns": 2,
        "rows": 5
       }
      },
      "text/html": [
       "<div>\n",
       "<style scoped>\n",
       "    .dataframe tbody tr th:only-of-type {\n",
       "        vertical-align: middle;\n",
       "    }\n",
       "\n",
       "    .dataframe tbody tr th {\n",
       "        vertical-align: top;\n",
       "    }\n",
       "\n",
       "    .dataframe thead th {\n",
       "        text-align: right;\n",
       "    }\n",
       "</style>\n",
       "<table border=\"1\" class=\"dataframe\">\n",
       "  <thead>\n",
       "    <tr style=\"text-align: right;\">\n",
       "      <th></th>\n",
       "      <th>mutation_loc</th>\n",
       "      <th>splice_change</th>\n",
       "    </tr>\n",
       "  </thead>\n",
       "  <tbody>\n",
       "    <tr>\n",
       "      <th>0</th>\n",
       "      <td>10:89624397:G:A</td>\n",
       "      <td>[PTEN:-3:0.1899999976158142]</td>\n",
       "    </tr>\n",
       "    <tr>\n",
       "      <th>1</th>\n",
       "      <td>10:89711873:A:T</td>\n",
       "      <td>[PTEN:6:0.20000000298023224, PTEN:2:-0.8600000...</td>\n",
       "    </tr>\n",
       "    <tr>\n",
       "      <th>2</th>\n",
       "      <td>10:89712019:A:C</td>\n",
       "      <td>[PTEN:-3:-0.8199999928474426]</td>\n",
       "    </tr>\n",
       "    <tr>\n",
       "      <th>3</th>\n",
       "      <td>10:89717609:G:T</td>\n",
       "      <td>[PTEN:9:0.7099999785423279, PTEN:1:-0.87000000...</td>\n",
       "    </tr>\n",
       "    <tr>\n",
       "      <th>4</th>\n",
       "      <td>11:108103092:C:G</td>\n",
       "      <td>[ATM:1:0.2800000011920929]</td>\n",
       "    </tr>\n",
       "  </tbody>\n",
       "</table>\n",
       "</div>"
      ],
      "text/plain": [
       "       mutation_loc                                      splice_change\n",
       "0   10:89624397:G:A                       [PTEN:-3:0.1899999976158142]\n",
       "1   10:89711873:A:T  [PTEN:6:0.20000000298023224, PTEN:2:-0.8600000...\n",
       "2   10:89712019:A:C                      [PTEN:-3:-0.8199999928474426]\n",
       "3   10:89717609:G:T  [PTEN:9:0.7099999785423279, PTEN:1:-0.87000000...\n",
       "4  11:108103092:C:G                         [ATM:1:0.2800000011920929]"
      ]
     },
     "execution_count": 6,
     "metadata": {},
     "output_type": "execute_result"
    }
   ],
   "source": [
    "# get pangolin prediction\n",
    "pangolin_df = pd.read_csv(f\"{PANGOLIN_PREDICTIONS}/{cancer_type}_pred.csv\", sep=\"\\t\")\n",
    "pangolin_df.columns = [\"data\"]\n",
    "pangolin_df[\"mutation_loc\"] = pangolin_df[\"data\"].apply(lambda x: ':'.join(x.split(\",\")[:4]))\n",
    "pangolin_df[\"scores\"] = pangolin_df[\"data\"].apply(lambda x: x.split(\",\")[4:])\n",
    "pangolin_df = pangolin_df.drop(columns=[\"data\"])\n",
    "print(pangolin_df.shape)\n",
    "\n",
    "# separate rows for scores for multiple genes\n",
    "pangolin_df = pangolin_df.explode(\"scores\")\n",
    "print(pangolin_df.shape)\n",
    "\n",
    "# drop rows with no scores\n",
    "pangolin_df = pangolin_df[pangolin_df[\"scores\"] != \"\"]\n",
    "print(pangolin_df.shape)\n",
    "\n",
    "# display warnings if any, clean up the data\n",
    "pangolin_df[\"warning\"] = pangolin_df[\"scores\"].apply(lambda x: x.split(\"|Warnings:\")[1] if \"|Warnings:\" in x else \"\")\n",
    "pangolin_df[\"scores\"] = pangolin_df[\"scores\"].apply(lambda x: x.split(\"|Warnings:\")[0])\n",
    "warnings = pangolin_df[pangolin_df[\"warning\"] != \"\"][\"warning\"].tolist()\n",
    "if warnings:\n",
    "\tprint(f\"Warnings: {warnings}\")\n",
    "pangolin_df.drop(columns=[\"warning\"], inplace=True)\n",
    "\n",
    "# parse gene and scores\n",
    "pangolin_df[\"splice_gene_id\"] = pangolin_df[\"scores\"].apply(lambda x: x.split(\"|\")[0])\n",
    "pangolin_df[\"scores\"] = pangolin_df[\"scores\"].apply(lambda x: x.split(\"|\")[1:])\n",
    "pangolin_df = pangolin_df.explode(\"scores\")\n",
    "pangolin_df[\"splice_pos\"] = pangolin_df[\"scores\"].apply(lambda x: x.split(\":\")[0]) # relative position\n",
    "pangolin_df[\"splice_score\"] = pangolin_df[\"scores\"].apply(lambda x: x.split(\":\")[1])\n",
    "pangolin_df.drop(columns=[\"scores\"], inplace=True)\n",
    "print(pangolin_df.shape)\n",
    "\n",
    "# pangolin paper mentions that at a cut-off of 0.14, false sign rate is 5%\n",
    "pangolin_df[\"splice_score\"] = pangolin_df[\"splice_score\"].astype(float)\n",
    "pangolin_df = pangolin_df[abs(pangolin_df[\"splice_score\"]) > 0.14]\n",
    "print(pangolin_df.shape)\n",
    "\n",
    "# get hgnc gene names\n",
    "pangolin_df[\"splice_gene\"] = pangolin_df[\"splice_gene_id\"].apply(lambda x: \\\n",
    "\t\t\t\t\t\t\t\t\tgene_dict[x.split('.')[0]] if x.split('.')[0] in gene_dict else None)\n",
    "pangolin_df.drop(columns=[\"splice_gene_id\"], inplace=True)\n",
    "\n",
    "# splicing changes in the format gene:pos:score for each mutation\n",
    "pangolin_df[\"splice_change\"] = pangolin_df.apply(lambda x: f\"{x['splice_gene']}:{x['splice_pos']}:{x['splice_score']}\", axis=1)\n",
    "pangolin_df.drop(columns=[\"splice_gene\", \"splice_pos\", \"splice_score\"], inplace=True)\n",
    "pangolin_df = pangolin_df.groupby([\"mutation_loc\"])[\"splice_change\"].apply(lambda x: list(x)).reset_index()\n",
    "print(pangolin_df.shape)\n",
    "pangolin_df.head()"
   ]
  },
  {
   "cell_type": "code",
   "execution_count": 7,
   "metadata": {},
   "outputs": [
    {
     "name": "stdout",
     "output_type": "stream",
     "text": [
      "(3412, 6)\n",
      "(3412, 7)\n",
      "(3419, 7)\n"
     ]
    },
    {
     "data": {
      "application/vnd.microsoft.datawrangler.viewer.v0+json": {
       "columns": [
        {
         "name": "index",
         "rawType": "int64",
         "type": "integer"
        },
        {
         "name": "Tumor_Sample_Barcode",
         "rawType": "object",
         "type": "string"
        },
        {
         "name": "gene",
         "rawType": "object",
         "type": "string"
        },
        {
         "name": "has_driver",
         "rawType": "bool",
         "type": "boolean"
        },
        {
         "name": "driver",
         "rawType": "bool",
         "type": "boolean"
        },
        {
         "name": "mutation_loc",
         "rawType": "object",
         "type": "string"
        },
        {
         "name": "genic_region",
         "rawType": "object",
         "type": "string"
        },
        {
         "name": "splice_change",
         "rawType": "object",
         "type": "string"
        },
        {
         "name": "driver_status",
         "rawType": "object",
         "type": "string"
        }
       ],
       "conversionMethod": "pd.DataFrame",
       "ref": "9aa87fb5-b615-4a43-8a88-a890a5f507d8",
       "rows": [
        [
         "0",
         "005e85a3-3571-462d-8dc9-2babfc7ace21",
         "LRP1B",
         "False",
         "False",
         "2:142791028:G:A",
         "intronic",
         null,
         "Passengers in absence of driver"
        ],
        [
         "1",
         "005e85a3-3571-462d-8dc9-2babfc7ace21",
         "CSMD3",
         "False",
         "False",
         "8:113286870:C:T",
         "intronic",
         null,
         "Passengers in absence of driver"
        ],
        [
         "2",
         "005e85a3-3571-462d-8dc9-2babfc7ace21",
         "CSMD3",
         "False",
         "False",
         "8:113964540:T:A",
         "intronic",
         null,
         "Passengers in absence of driver"
        ],
        [
         "3",
         "008aef39-0c97-48ce-9dfd-f12d67116c59",
         "FAT3",
         "False",
         "False",
         "11:92121762:G:A",
         "intronic",
         null,
         "Passengers in absence of driver"
        ],
        [
         "4",
         "008aef39-0c97-48ce-9dfd-f12d67116c59",
         "FOXA1",
         "True",
         "True",
         "14:38061528:C:T",
         "exonic",
         null,
         "Drivers"
        ]
       ],
       "shape": {
        "columns": 8,
        "rows": 5
       }
      },
      "text/html": [
       "<div>\n",
       "<style scoped>\n",
       "    .dataframe tbody tr th:only-of-type {\n",
       "        vertical-align: middle;\n",
       "    }\n",
       "\n",
       "    .dataframe tbody tr th {\n",
       "        vertical-align: top;\n",
       "    }\n",
       "\n",
       "    .dataframe thead th {\n",
       "        text-align: right;\n",
       "    }\n",
       "</style>\n",
       "<table border=\"1\" class=\"dataframe\">\n",
       "  <thead>\n",
       "    <tr style=\"text-align: right;\">\n",
       "      <th></th>\n",
       "      <th>Tumor_Sample_Barcode</th>\n",
       "      <th>gene</th>\n",
       "      <th>has_driver</th>\n",
       "      <th>driver</th>\n",
       "      <th>mutation_loc</th>\n",
       "      <th>genic_region</th>\n",
       "      <th>splice_change</th>\n",
       "      <th>driver_status</th>\n",
       "    </tr>\n",
       "  </thead>\n",
       "  <tbody>\n",
       "    <tr>\n",
       "      <th>0</th>\n",
       "      <td>005e85a3-3571-462d-8dc9-2babfc7ace21</td>\n",
       "      <td>LRP1B</td>\n",
       "      <td>False</td>\n",
       "      <td>False</td>\n",
       "      <td>2:142791028:G:A</td>\n",
       "      <td>intronic</td>\n",
       "      <td>NaN</td>\n",
       "      <td>Passengers in absence of driver</td>\n",
       "    </tr>\n",
       "    <tr>\n",
       "      <th>1</th>\n",
       "      <td>005e85a3-3571-462d-8dc9-2babfc7ace21</td>\n",
       "      <td>CSMD3</td>\n",
       "      <td>False</td>\n",
       "      <td>False</td>\n",
       "      <td>8:113286870:C:T</td>\n",
       "      <td>intronic</td>\n",
       "      <td>NaN</td>\n",
       "      <td>Passengers in absence of driver</td>\n",
       "    </tr>\n",
       "    <tr>\n",
       "      <th>2</th>\n",
       "      <td>005e85a3-3571-462d-8dc9-2babfc7ace21</td>\n",
       "      <td>CSMD3</td>\n",
       "      <td>False</td>\n",
       "      <td>False</td>\n",
       "      <td>8:113964540:T:A</td>\n",
       "      <td>intronic</td>\n",
       "      <td>NaN</td>\n",
       "      <td>Passengers in absence of driver</td>\n",
       "    </tr>\n",
       "    <tr>\n",
       "      <th>3</th>\n",
       "      <td>008aef39-0c97-48ce-9dfd-f12d67116c59</td>\n",
       "      <td>FAT3</td>\n",
       "      <td>False</td>\n",
       "      <td>False</td>\n",
       "      <td>11:92121762:G:A</td>\n",
       "      <td>intronic</td>\n",
       "      <td>NaN</td>\n",
       "      <td>Passengers in absence of driver</td>\n",
       "    </tr>\n",
       "    <tr>\n",
       "      <th>4</th>\n",
       "      <td>008aef39-0c97-48ce-9dfd-f12d67116c59</td>\n",
       "      <td>FOXA1</td>\n",
       "      <td>True</td>\n",
       "      <td>True</td>\n",
       "      <td>14:38061528:C:T</td>\n",
       "      <td>exonic</td>\n",
       "      <td>NaN</td>\n",
       "      <td>Drivers</td>\n",
       "    </tr>\n",
       "  </tbody>\n",
       "</table>\n",
       "</div>"
      ],
      "text/plain": [
       "                   Tumor_Sample_Barcode   gene  has_driver  driver  \\\n",
       "0  005e85a3-3571-462d-8dc9-2babfc7ace21  LRP1B       False   False   \n",
       "1  005e85a3-3571-462d-8dc9-2babfc7ace21  CSMD3       False   False   \n",
       "2  005e85a3-3571-462d-8dc9-2babfc7ace21  CSMD3       False   False   \n",
       "3  008aef39-0c97-48ce-9dfd-f12d67116c59   FAT3       False   False   \n",
       "4  008aef39-0c97-48ce-9dfd-f12d67116c59  FOXA1        True    True   \n",
       "\n",
       "      mutation_loc genic_region splice_change                    driver_status  \n",
       "0  2:142791028:G:A     intronic           NaN  Passengers in absence of driver  \n",
       "1  8:113286870:C:T     intronic           NaN  Passengers in absence of driver  \n",
       "2  8:113964540:T:A     intronic           NaN  Passengers in absence of driver  \n",
       "3  11:92121762:G:A     intronic           NaN  Passengers in absence of driver  \n",
       "4  14:38061528:C:T       exonic           NaN                          Drivers  "
      ]
     },
     "execution_count": 7,
     "metadata": {},
     "output_type": "execute_result"
    }
   ],
   "source": [
    "# get all mutations in driver genes\n",
    "mut_df = pd.read_csv(f\"{ANNOTATED_MUTATIONS}/{cancer_type}.tsv\", sep=\"\\t\")\n",
    "driver_genes = pd.read_csv(f\"{DRIVER_GENES}/{cancer_type}.tsv\", sep=\"\\t\")\n",
    "driver_genes_list = driver_genes[\"gene\"].tolist()\n",
    "mut_df = mut_df[mut_df[\"gene\"].isin(driver_genes_list)]\n",
    "mut_df = mut_df[[\"Tumor_Sample_Barcode\", \"gene\", \"has_driver\", \"driver\", \"mutation_loc\", \"genic_region\"]]\n",
    "print(mut_df.shape)\n",
    "mut_df = pd.merge(mut_df, pangolin_df, on=\"mutation_loc\", how=\"left\")\n",
    "print(mut_df.shape)\n",
    "mut_df = mut_df.explode(\"splice_change\")\n",
    "print(mut_df.shape)\n",
    "\n",
    "# get driver status\n",
    "mut_df[\"driver_status\"] = mut_df.apply(lambda x: \"Passengers in presence of driver\" if x[\"has_driver\"] else \"Passengers in absence of driver\", axis=1)\n",
    "mut_df[\"driver_status\"] = mut_df.apply(lambda x: \"Drivers\" if x[\"driver\"] else x[\"driver_status\"], axis=1)\n",
    "mut_df.head()"
   ]
  },
  {
   "cell_type": "code",
   "execution_count": 8,
   "metadata": {},
   "outputs": [
    {
     "name": "stdout",
     "output_type": "stream",
     "text": [
      "(3419, 8)\n",
      "(2095, 8)\n"
     ]
    }
   ],
   "source": [
    "print(mut_df.shape)\n",
    "# filter out samples that are not in the whitelist\n",
    "mut_df = mut_df[mut_df[\"Tumor_Sample_Barcode\"].isin(whitelisted_samples)]\n",
    "print(mut_df.shape)"
   ]
  },
  {
   "cell_type": "code",
   "execution_count": 9,
   "metadata": {},
   "outputs": [
    {
     "name": "stdout",
     "output_type": "stream",
     "text": [
      "(2095, 5)\n",
      "No. of mutations: 2095\n",
      "(30, 5)\n",
      "(30, 10)\n"
     ]
    },
    {
     "name": "stderr",
     "output_type": "stream",
     "text": [
      "/var/folders/1r/lnpzqmmd429dz0fv3s3z1hdh0000gr/T/ipykernel_11971/2982984868.py:6: SettingWithCopyWarning: \n",
      "A value is trying to be set on a copy of a slice from a DataFrame\n",
      "\n",
      "See the caveats in the documentation: https://pandas.pydata.org/pandas-docs/stable/user_guide/indexing.html#returning-a-view-versus-a-copy\n",
      "  plot_df.dropna(subset=[\"splice_change\"], inplace=True)\n"
     ]
    },
    {
     "data": {
      "application/vnd.microsoft.datawrangler.viewer.v0+json": {
       "columns": [
        {
         "name": "index",
         "rawType": "int64",
         "type": "integer"
        },
        {
         "name": "splice_change",
         "rawType": "object",
         "type": "string"
        },
        {
         "name": "mutation_loc",
         "rawType": "object",
         "type": "string"
        },
        {
         "name": "driver_status",
         "rawType": "object",
         "type": "string"
        },
        {
         "name": "driver",
         "rawType": "bool",
         "type": "boolean"
        },
        {
         "name": "gene",
         "rawType": "object",
         "type": "string"
        },
        {
         "name": "count",
         "rawType": "int64",
         "type": "integer"
        },
        {
         "name": "pos",
         "rawType": "int64",
         "type": "integer"
        },
        {
         "name": "splice_gene",
         "rawType": "object",
         "type": "string"
        },
        {
         "name": "score",
         "rawType": "float64",
         "type": "float"
        },
        {
         "name": "marker_size",
         "rawType": "int64",
         "type": "integer"
        }
       ],
       "conversionMethod": "pd.DataFrame",
       "ref": "21b23e34-19d4-475f-bca7-2dd17f3a36cf",
       "rows": [
        [
         "0",
         "ATM:-25:-0.1599999964237213",
         "11:108188125:A:T",
         "Drivers",
         "True",
         "ATM",
         "1",
         "-25",
         "ATM",
         "-0.1599999964237213",
         "200"
        ],
        [
         "1",
         "ATM:-32:-0.15000000596046448",
         "11:108190713:C:G",
         "Drivers",
         "True",
         "ATM",
         "1",
         "-32",
         "ATM",
         "-0.15000000596046448",
         "200"
        ],
        [
         "2",
         "ATM:-5:-0.8600000143051147",
         "11:108129807:G:T",
         "Passengers in presence of driver",
         "False",
         "ATM",
         "1",
         "-5",
         "ATM",
         "-0.8600000143051147",
         "200"
        ],
        [
         "3",
         "ATM:0:-0.8100000023841858",
         "11:108190785:G:A",
         "Drivers",
         "True",
         "ATM",
         "1",
         "0",
         "ATM",
         "-0.8100000023841858",
         "200"
        ],
        [
         "4",
         "ATM:24:0.30000001192092896",
         "11:108188125:A:T",
         "Drivers",
         "True",
         "ATM",
         "1",
         "24",
         "ATM",
         "0.30000001192092896",
         "200"
        ]
       ],
       "shape": {
        "columns": 10,
        "rows": 5
       }
      },
      "text/html": [
       "<div>\n",
       "<style scoped>\n",
       "    .dataframe tbody tr th:only-of-type {\n",
       "        vertical-align: middle;\n",
       "    }\n",
       "\n",
       "    .dataframe tbody tr th {\n",
       "        vertical-align: top;\n",
       "    }\n",
       "\n",
       "    .dataframe thead th {\n",
       "        text-align: right;\n",
       "    }\n",
       "</style>\n",
       "<table border=\"1\" class=\"dataframe\">\n",
       "  <thead>\n",
       "    <tr style=\"text-align: right;\">\n",
       "      <th></th>\n",
       "      <th>splice_change</th>\n",
       "      <th>mutation_loc</th>\n",
       "      <th>driver_status</th>\n",
       "      <th>driver</th>\n",
       "      <th>gene</th>\n",
       "      <th>count</th>\n",
       "      <th>pos</th>\n",
       "      <th>splice_gene</th>\n",
       "      <th>score</th>\n",
       "      <th>marker_size</th>\n",
       "    </tr>\n",
       "  </thead>\n",
       "  <tbody>\n",
       "    <tr>\n",
       "      <th>0</th>\n",
       "      <td>ATM:-25:-0.1599999964237213</td>\n",
       "      <td>11:108188125:A:T</td>\n",
       "      <td>Drivers</td>\n",
       "      <td>True</td>\n",
       "      <td>ATM</td>\n",
       "      <td>1</td>\n",
       "      <td>-25</td>\n",
       "      <td>ATM</td>\n",
       "      <td>-0.16</td>\n",
       "      <td>200</td>\n",
       "    </tr>\n",
       "    <tr>\n",
       "      <th>1</th>\n",
       "      <td>ATM:-32:-0.15000000596046448</td>\n",
       "      <td>11:108190713:C:G</td>\n",
       "      <td>Drivers</td>\n",
       "      <td>True</td>\n",
       "      <td>ATM</td>\n",
       "      <td>1</td>\n",
       "      <td>-32</td>\n",
       "      <td>ATM</td>\n",
       "      <td>-0.15</td>\n",
       "      <td>200</td>\n",
       "    </tr>\n",
       "    <tr>\n",
       "      <th>2</th>\n",
       "      <td>ATM:-5:-0.8600000143051147</td>\n",
       "      <td>11:108129807:G:T</td>\n",
       "      <td>Passengers in presence of driver</td>\n",
       "      <td>False</td>\n",
       "      <td>ATM</td>\n",
       "      <td>1</td>\n",
       "      <td>-5</td>\n",
       "      <td>ATM</td>\n",
       "      <td>-0.86</td>\n",
       "      <td>200</td>\n",
       "    </tr>\n",
       "    <tr>\n",
       "      <th>3</th>\n",
       "      <td>ATM:0:-0.8100000023841858</td>\n",
       "      <td>11:108190785:G:A</td>\n",
       "      <td>Drivers</td>\n",
       "      <td>True</td>\n",
       "      <td>ATM</td>\n",
       "      <td>1</td>\n",
       "      <td>0</td>\n",
       "      <td>ATM</td>\n",
       "      <td>-0.81</td>\n",
       "      <td>200</td>\n",
       "    </tr>\n",
       "    <tr>\n",
       "      <th>4</th>\n",
       "      <td>ATM:24:0.30000001192092896</td>\n",
       "      <td>11:108188125:A:T</td>\n",
       "      <td>Drivers</td>\n",
       "      <td>True</td>\n",
       "      <td>ATM</td>\n",
       "      <td>1</td>\n",
       "      <td>24</td>\n",
       "      <td>ATM</td>\n",
       "      <td>0.30</td>\n",
       "      <td>200</td>\n",
       "    </tr>\n",
       "  </tbody>\n",
       "</table>\n",
       "</div>"
      ],
      "text/plain": [
       "                  splice_change      mutation_loc  \\\n",
       "0   ATM:-25:-0.1599999964237213  11:108188125:A:T   \n",
       "1  ATM:-32:-0.15000000596046448  11:108190713:C:G   \n",
       "2    ATM:-5:-0.8600000143051147  11:108129807:G:T   \n",
       "3     ATM:0:-0.8100000023841858  11:108190785:G:A   \n",
       "4    ATM:24:0.30000001192092896  11:108188125:A:T   \n",
       "\n",
       "                      driver_status  driver gene  count  pos splice_gene  \\\n",
       "0                           Drivers    True  ATM      1  -25         ATM   \n",
       "1                           Drivers    True  ATM      1  -32         ATM   \n",
       "2  Passengers in presence of driver   False  ATM      1   -5         ATM   \n",
       "3                           Drivers    True  ATM      1    0         ATM   \n",
       "4                           Drivers    True  ATM      1   24         ATM   \n",
       "\n",
       "   score  marker_size  \n",
       "0  -0.16          200  \n",
       "1  -0.15          200  \n",
       "2  -0.86          200  \n",
       "3  -0.81          200  \n",
       "4   0.30          200  "
      ]
     },
     "execution_count": 9,
     "metadata": {},
     "output_type": "execute_result"
    }
   ],
   "source": [
    "plot_df = mut_df[[\"mutation_loc\", \"driver_status\", \"gene\", \"splice_change\", \"driver\"]]\n",
    "print(plot_df.shape)\n",
    "num_mutations = plot_df.shape[0]\n",
    "print(\"No. of mutations:\", num_mutations)\n",
    "\n",
    "plot_df.dropna(subset=[\"splice_change\"], inplace=True)\n",
    "print(plot_df.shape)\n",
    "plot_df = plot_df.groupby([\"splice_change\", \"mutation_loc\", \"driver_status\", \"driver\", \"gene\"]).size().reset_index(name=\"count\")\n",
    "plot_df[\"pos\"] = plot_df[\"splice_change\"].apply(lambda x: int(x.split(\":\")[1]))\n",
    "plot_df[\"splice_gene\"] = plot_df[\"splice_change\"].apply(lambda x: x.split(\":\")[0])\n",
    "plot_df[\"score\"] = plot_df[\"splice_change\"].apply(lambda x: float(x.split(\":\")[2]))\n",
    "plot_df[\"marker_size\"] = plot_df[\"count\"] * 200\n",
    "print(plot_df.shape)\n",
    "plot_df.head()"
   ]
  },
  {
   "cell_type": "code",
   "execution_count": 17,
   "metadata": {},
   "outputs": [
    {
     "data": {
      "image/png": "[encoded data removed]",
      "text/plain": [
       "<Figure size 600x400 with 1 Axes>"
      ]
     },
     "metadata": {},
     "output_type": "display_data"
    }
   ],
   "source": [
    "\n",
    "colors = [\"#CC6677\", \"#106C9A\", \"#529267\"]\n",
    "cmap = sns.color_palette(colors)\n",
    "plt.figure(figsize=(6, 4))\n",
    "hue_order = [\"Passengers in presence of driver\", \"Passengers in absence of driver\", \"Drivers\"]\n",
    "# add gene annotations\n",
    "sns.scatterplot(\n",
    "    x=\"pos\", \n",
    "    y=\"score\", \n",
    "    palette=cmap,\n",
    "    hue=\"driver_status\", \n",
    "\tsize=\"count\",\n",
    "\tsizes=(50, 150),\n",
    "\thue_order=hue_order,\n",
    "    data=plot_df,\n",
    "    alpha=0.7,\n",
    "    edgecolor=None,\n",
    "\tlegend=False\n",
    ")\n",
    "plt.axhline(y=0, linestyle='--', color=\"black\", alpha=0.5)\n",
    "plt.axvline(x=0, linestyle='--', color=\"black\", alpha=0.5)\n",
    "# annotate passenger mutations that cause big splicing changes (>= 50% change in probablity)\n",
    "# avoid overlapping text\n",
    "splice_annot = []\n",
    "for index, row in plot_df.iterrows():\n",
    "\tcolor = 'black' if row[\"driver_status\"] == \"Passengers in absence of driver\" else 'maroon'\n",
    "\tif row[\"score\"] >= 0.8 and row[\"driver\"] == False:\n",
    "\t\tsplice_annot.append(plt.text(row[\"pos\"], row[\"score\"], row[\"gene\"], fontsize=14, ha='center', va='bottom', color=color))\n",
    "\telif row[\"score\"] <= -0.8 and row[\"driver\"] == False:\n",
    "\t\tsplice_annot.append(plt.text(row[\"pos\"], row[\"score\"], row[\"gene\"], fontsize=14, ha='center', va='top', color=color))\n",
    "adjust_text(splice_annot)\n",
    "\n",
    "# formatting\n",
    "plt.xlim(-55, 55)\n",
    "plt.ylim(-1.1, 1.1)\n",
    "plt.xticks(fontsize=14)\n",
    "plt.xlabel(\"Position of splice change relative to mutation\", fontsize=15, labelpad=10)\n",
    "plt.yticks(fontsize=13)\n",
    "plt.ylabel(\"Pangolin splicing score\", fontsize=17, labelpad=10)\n",
    "plt.title(cancer_type, fontsize=16)\n",
    "\n",
    "# # custom legend for driver status\n",
    "# handles = [plt.Line2D([0], [0], marker='o', color='w', markerfacecolor=cmap[i], markersize=10) for i in range(3)]\n",
    "# plt.legend(handles, hue_order, title=\"Driver status\", title_fontsize=\"11\", fontsize=\"11\", bbox_to_anchor=(1.35, 1), loc='upper right')\n",
    "plt.legend([])\n",
    "\n",
    "plt.tight_layout()\n",
    "plt.savefig(f\"{SPLICING_CHANGES}/{cancer_type}.png\")"
   ]
  }
 ],
 "metadata": {
  "kernelspec": {
   "display_name": "cancer-model",
   "language": "python",
   "name": "python3"
  },
  "language_info": {
   "codemirror_mode": {
    "name": "ipython",
    "version": 3
   },
   "file_extension": ".py",
   "mimetype": "text/x-python",
   "name": "python",
   "nbconvert_exporter": "python",
   "pygments_lexer": "ipython3",
   "version": "3.9.19"
  }
 },
 "nbformat": 4,
 "nbformat_minor": 2
}
