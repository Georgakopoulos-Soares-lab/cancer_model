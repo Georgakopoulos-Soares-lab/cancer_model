{
 "cells": [
  {
   "cell_type": "code",
   "execution_count": 1,
   "metadata": {},
   "outputs": [],
   "source": [
    "import os\n",
    "import pandas as pd\n",
    "import matplotlib.pyplot as plt\n",
    "import seaborn as sns"
   ]
  },
  {
   "cell_type": "code",
   "execution_count": null,
   "metadata": {},
   "outputs": [],
   "source": [
    "# input files/dir\n",
    "ANNOTATED_MUTATIONS = \"../data/annotated_snv_mv_indels_by_cancer_subtype\"\n",
    "GENOME_WIDE_MUTATIONS = \"../data/genome_wide_mutation_data.tsv\"\n",
    "DRIVER_GENES = \"../data/driver_genes\"\n",
    "WHITELISTED_SAMPLES = \"../data/datasets/PCAWG/supplementary Tables/Supplementary Table 1.csv\"\n",
    "\n",
    "# output files/dirs\n",
    "CADD_SCORE_ENRICHMENT = \"../results/cadd_score_enrichment\"\n",
    "CADD_SCORES_GENIC_REGIONS = \"../results/cadd_scores_genic_regions\"\n",
    "\n",
    "if not os.path.exists(CADD_SCORE_ENRICHMENT):\n",
    "    os.makedirs(CADD_SCORE_ENRICHMENT)\n",
    "    \n",
    "if not os.path.exists(CADD_SCORES_GENIC_REGIONS):\n",
    "    os.makedirs(CADD_SCORES_GENIC_REGIONS)"
   ]
  },
  {
   "cell_type": "code",
   "execution_count": 3,
   "metadata": {
    "tags": [
     "parameters"
    ]
   },
   "outputs": [],
   "source": [
    "cancer_type = \"Liver-HCC\""
   ]
  },
  {
   "cell_type": "code",
   "execution_count": null,
   "metadata": {},
   "outputs": [],
   "source": [
    "whitelisted_data = pd.read_csv(WHITELISTED_SAMPLES, sep=\",\", header=0)\n",
    "whitelisted_samples = whitelisted_data[\"tumour_specimen_aliquot_id\"].unique().tolist()\n",
    "print(f\"Number of unique samples in the whitelist: {len(whitelisted_samples)}\")"
   ]
  },
  {
   "cell_type": "code",
   "execution_count": 4,
   "metadata": {},
   "outputs": [
    {
     "data": {
      "application/vnd.microsoft.datawrangler.viewer.v0+json": {
       "columns": [
        {
         "name": "index",
         "rawType": "int64",
         "type": "integer"
        },
        {
         "name": "gene",
         "rawType": "object",
         "type": "string"
        },
        {
         "name": "Strand",
         "rawType": "object",
         "type": "string"
        },
        {
         "name": "Variant_Classification",
         "rawType": "object",
         "type": "string"
        },
        {
         "name": "Tumor_Sample_Barcode",
         "rawType": "object",
         "type": "string"
        },
        {
         "name": "Patient_ID",
         "rawType": "object",
         "type": "string"
        },
        {
         "name": "mutation",
         "rawType": "object",
         "type": "string"
        },
        {
         "name": "mutation_loc",
         "rawType": "object",
         "type": "string"
        },
        {
         "name": "driver",
         "rawType": "bool",
         "type": "boolean"
        },
        {
         "name": "driver_mutation_type",
         "rawType": "object",
         "type": "string"
        },
        {
         "name": "has_driver",
         "rawType": "bool",
         "type": "boolean"
        },
        {
         "name": "genic_region",
         "rawType": "object",
         "type": "string"
        },
        {
         "name": "CADD_score_raw",
         "rawType": "float64",
         "type": "float"
        },
        {
         "name": "CADD_score_PHRED",
         "rawType": "float64",
         "type": "float"
        },
        {
         "name": "gene_length",
         "rawType": "int64",
         "type": "integer"
        }
       ],
       "conversionMethod": "pd.DataFrame",
       "ref": "4c82973c-9909-4010-99a5-3f47f4d498fd",
       "rows": [
        [
         "0",
         "ARID1A",
         "+",
         "Intron",
         "0040b1b6-b07a-4b6e-90ef-133523eaf412",
         "DO45049",
         "1:27077925-27077925:A:G",
         "1:27077925:A:G",
         "False",
         "None",
         "False",
         "intronic",
         "-0.316733",
         "0.4",
         "86072"
        ],
        [
         "1",
         "SETDB1",
         "+",
         "Intron",
         "0040b1b6-b07a-4b6e-90ef-133523eaf412",
         "DO45049",
         "1:150909417-150909417:A:G",
         "1:150909417:A:G",
         "False",
         "mutational",
         "True",
         "intronic",
         "0.110056",
         "3.182",
         "38475"
        ],
        [
         "2",
         "SETDB1",
         "+",
         "Missense_Mutation",
         "0040b1b6-b07a-4b6e-90ef-133523eaf412",
         "DO45049",
         "1:150933317-150933317:A:C",
         "1:150933317:A:C",
         "True",
         "mutational",
         "True",
         "exonic",
         "5.224169",
         "27.7",
         "38475"
        ],
        [
         "3",
         "ARID2",
         "+",
         "Intron",
         "0040b1b6-b07a-4b6e-90ef-133523eaf412",
         "DO45049",
         "12:46151744-46151744:A:T",
         "12:46151744:A:T",
         "False",
         "None",
         "False",
         "intronic",
         "0.872451",
         "11.09",
         "178376"
        ],
        [
         "4",
         "ARID2",
         "+",
         "Intron",
         "0040b1b6-b07a-4b6e-90ef-133523eaf412",
         "DO45049",
         "12:46259757-46259757:T:G",
         "12:46259757:T:G",
         "False",
         "None",
         "False",
         "intronic",
         "-0.196762",
         "0.71",
         "178376"
        ]
       ],
       "shape": {
        "columns": 14,
        "rows": 5
       }
      },
      "text/html": [
       "<div>\n",
       "<style scoped>\n",
       "    .dataframe tbody tr th:only-of-type {\n",
       "        vertical-align: middle;\n",
       "    }\n",
       "\n",
       "    .dataframe tbody tr th {\n",
       "        vertical-align: top;\n",
       "    }\n",
       "\n",
       "    .dataframe thead th {\n",
       "        text-align: right;\n",
       "    }\n",
       "</style>\n",
       "<table border=\"1\" class=\"dataframe\">\n",
       "  <thead>\n",
       "    <tr style=\"text-align: right;\">\n",
       "      <th></th>\n",
       "      <th>gene</th>\n",
       "      <th>Strand</th>\n",
       "      <th>Variant_Classification</th>\n",
       "      <th>Tumor_Sample_Barcode</th>\n",
       "      <th>Patient_ID</th>\n",
       "      <th>mutation</th>\n",
       "      <th>mutation_loc</th>\n",
       "      <th>driver</th>\n",
       "      <th>driver_mutation_type</th>\n",
       "      <th>has_driver</th>\n",
       "      <th>genic_region</th>\n",
       "      <th>CADD_score_raw</th>\n",
       "      <th>CADD_score_PHRED</th>\n",
       "      <th>gene_length</th>\n",
       "    </tr>\n",
       "  </thead>\n",
       "  <tbody>\n",
       "    <tr>\n",
       "      <th>0</th>\n",
       "      <td>ARID1A</td>\n",
       "      <td>+</td>\n",
       "      <td>Intron</td>\n",
       "      <td>0040b1b6-b07a-4b6e-90ef-133523eaf412</td>\n",
       "      <td>DO45049</td>\n",
       "      <td>1:27077925-27077925:A:G</td>\n",
       "      <td>1:27077925:A:G</td>\n",
       "      <td>False</td>\n",
       "      <td>None</td>\n",
       "      <td>False</td>\n",
       "      <td>intronic</td>\n",
       "      <td>-0.316733</td>\n",
       "      <td>0.400</td>\n",
       "      <td>86072</td>\n",
       "    </tr>\n",
       "    <tr>\n",
       "      <th>1</th>\n",
       "      <td>SETDB1</td>\n",
       "      <td>+</td>\n",
       "      <td>Intron</td>\n",
       "      <td>0040b1b6-b07a-4b6e-90ef-133523eaf412</td>\n",
       "      <td>DO45049</td>\n",
       "      <td>1:150909417-150909417:A:G</td>\n",
       "      <td>1:150909417:A:G</td>\n",
       "      <td>False</td>\n",
       "      <td>mutational</td>\n",
       "      <td>True</td>\n",
       "      <td>intronic</td>\n",
       "      <td>0.110056</td>\n",
       "      <td>3.182</td>\n",
       "      <td>38475</td>\n",
       "    </tr>\n",
       "    <tr>\n",
       "      <th>2</th>\n",
       "      <td>SETDB1</td>\n",
       "      <td>+</td>\n",
       "      <td>Missense_Mutation</td>\n",
       "      <td>0040b1b6-b07a-4b6e-90ef-133523eaf412</td>\n",
       "      <td>DO45049</td>\n",
       "      <td>1:150933317-150933317:A:C</td>\n",
       "      <td>1:150933317:A:C</td>\n",
       "      <td>True</td>\n",
       "      <td>mutational</td>\n",
       "      <td>True</td>\n",
       "      <td>exonic</td>\n",
       "      <td>5.224169</td>\n",
       "      <td>27.700</td>\n",
       "      <td>38475</td>\n",
       "    </tr>\n",
       "    <tr>\n",
       "      <th>3</th>\n",
       "      <td>ARID2</td>\n",
       "      <td>+</td>\n",
       "      <td>Intron</td>\n",
       "      <td>0040b1b6-b07a-4b6e-90ef-133523eaf412</td>\n",
       "      <td>DO45049</td>\n",
       "      <td>12:46151744-46151744:A:T</td>\n",
       "      <td>12:46151744:A:T</td>\n",
       "      <td>False</td>\n",
       "      <td>None</td>\n",
       "      <td>False</td>\n",
       "      <td>intronic</td>\n",
       "      <td>0.872451</td>\n",
       "      <td>11.090</td>\n",
       "      <td>178376</td>\n",
       "    </tr>\n",
       "    <tr>\n",
       "      <th>4</th>\n",
       "      <td>ARID2</td>\n",
       "      <td>+</td>\n",
       "      <td>Intron</td>\n",
       "      <td>0040b1b6-b07a-4b6e-90ef-133523eaf412</td>\n",
       "      <td>DO45049</td>\n",
       "      <td>12:46259757-46259757:T:G</td>\n",
       "      <td>12:46259757:T:G</td>\n",
       "      <td>False</td>\n",
       "      <td>None</td>\n",
       "      <td>False</td>\n",
       "      <td>intronic</td>\n",
       "      <td>-0.196762</td>\n",
       "      <td>0.710</td>\n",
       "      <td>178376</td>\n",
       "    </tr>\n",
       "  </tbody>\n",
       "</table>\n",
       "</div>"
      ],
      "text/plain": [
       "     gene Strand Variant_Classification                  Tumor_Sample_Barcode  \\\n",
       "0  ARID1A      +                 Intron  0040b1b6-b07a-4b6e-90ef-133523eaf412   \n",
       "1  SETDB1      +                 Intron  0040b1b6-b07a-4b6e-90ef-133523eaf412   \n",
       "2  SETDB1      +      Missense_Mutation  0040b1b6-b07a-4b6e-90ef-133523eaf412   \n",
       "3   ARID2      +                 Intron  0040b1b6-b07a-4b6e-90ef-133523eaf412   \n",
       "4   ARID2      +                 Intron  0040b1b6-b07a-4b6e-90ef-133523eaf412   \n",
       "\n",
       "  Patient_ID                   mutation     mutation_loc  driver  \\\n",
       "0    DO45049    1:27077925-27077925:A:G   1:27077925:A:G   False   \n",
       "1    DO45049  1:150909417-150909417:A:G  1:150909417:A:G   False   \n",
       "2    DO45049  1:150933317-150933317:A:C  1:150933317:A:C    True   \n",
       "3    DO45049   12:46151744-46151744:A:T  12:46151744:A:T   False   \n",
       "4    DO45049   12:46259757-46259757:T:G  12:46259757:T:G   False   \n",
       "\n",
       "  driver_mutation_type  has_driver genic_region  CADD_score_raw  \\\n",
       "0                 None       False     intronic       -0.316733   \n",
       "1           mutational        True     intronic        0.110056   \n",
       "2           mutational        True       exonic        5.224169   \n",
       "3                 None       False     intronic        0.872451   \n",
       "4                 None       False     intronic       -0.196762   \n",
       "\n",
       "   CADD_score_PHRED  gene_length  \n",
       "0             0.400        86072  \n",
       "1             3.182        38475  \n",
       "2            27.700        38475  \n",
       "3            11.090       178376  \n",
       "4             0.710       178376  "
      ]
     },
     "execution_count": 4,
     "metadata": {},
     "output_type": "execute_result"
    }
   ],
   "source": [
    "# get all mutations in driver genes\n",
    "mut_df = pd.read_csv(os.path.join(ANNOTATED_MUTATIONS, cancer_type + \".tsv\"), sep=\"\\t\")\n",
    "driver_genes = pd.read_csv(os.path.join(DRIVER_GENES, cancer_type + \".tsv\"), sep=\"\\t\")\n",
    "driver_genes_list = driver_genes[\"gene\"].tolist()\n",
    "mut_df = mut_df[mut_df[\"gene\"].isin(driver_genes_list)]\n",
    "mut_df = pd.merge(mut_df, driver_genes[[\"gene\", \"gene_length\"]], on=\"gene\", how=\"left\")\n",
    "mut_df.head()"
   ]
  },
  {
   "cell_type": "code",
   "execution_count": null,
   "metadata": {},
   "outputs": [],
   "source": [
    "print(mut_df.shape)\n",
    "# filter out samples that are not in the whitelist\n",
    "mut_df = mut_df[mut_df[\"Tumor_Sample_Barcode\"].isin(whitelisted_samples)]\n",
    "print(mut_df.shape)"
   ]
  },
  {
   "cell_type": "code",
   "execution_count": 5,
   "metadata": {},
   "outputs": [
    {
     "name": "stdout",
     "output_type": "stream",
     "text": [
      "(6275, 14)\n",
      "(5781, 14)\n",
      "(5781, 15)\n"
     ]
    },
    {
     "data": {
      "application/vnd.microsoft.datawrangler.viewer.v0+json": {
       "columns": [
        {
         "name": "index",
         "rawType": "int64",
         "type": "integer"
        },
        {
         "name": "index",
         "rawType": "int64",
         "type": "integer"
        },
        {
         "name": "gene",
         "rawType": "object",
         "type": "string"
        },
        {
         "name": "Strand",
         "rawType": "object",
         "type": "string"
        },
        {
         "name": "Variant_Classification",
         "rawType": "object",
         "type": "string"
        },
        {
         "name": "Tumor_Sample_Barcode",
         "rawType": "object",
         "type": "string"
        },
        {
         "name": "Patient_ID",
         "rawType": "object",
         "type": "string"
        },
        {
         "name": "mutation",
         "rawType": "object",
         "type": "string"
        },
        {
         "name": "mutation_loc",
         "rawType": "object",
         "type": "string"
        },
        {
         "name": "driver",
         "rawType": "bool",
         "type": "boolean"
        },
        {
         "name": "driver_mutation_type",
         "rawType": "object",
         "type": "string"
        },
        {
         "name": "has_driver",
         "rawType": "object",
         "type": "string"
        },
        {
         "name": "genic_region",
         "rawType": "object",
         "type": "string"
        },
        {
         "name": "CADD_score_raw",
         "rawType": "float64",
         "type": "float"
        },
        {
         "name": "CADD_score_PHRED",
         "rawType": "float64",
         "type": "float"
        },
        {
         "name": "gene_length",
         "rawType": "int64",
         "type": "integer"
        },
        {
         "name": "CADD_score_normalized",
         "rawType": "float64",
         "type": "float"
        }
       ],
       "conversionMethod": "pd.DataFrame",
       "ref": "60e20c69-fb1f-42dc-81ec-24ab304cf5f3",
       "rows": [
        [
         "0",
         "0",
         "ARID1A",
         "+",
         "Intron",
         "0040b1b6-b07a-4b6e-90ef-133523eaf412",
         "DO45049",
         "1:27077925-27077925:A:G",
         "1:27077925:A:G",
         "False",
         "None",
         "Passengers in absence of driver",
         "intronic",
         "-0.316733",
         "0.4",
         "86072",
         "0.05616888170129045"
        ],
        [
         "1",
         "1",
         "SETDB1",
         "+",
         "Intron",
         "0040b1b6-b07a-4b6e-90ef-133523eaf412",
         "DO45049",
         "1:150909417-150909417:A:G",
         "1:150909417:A:G",
         "False",
         "mutational",
         "Passengers in presence of driver",
         "intronic",
         "0.110056",
         "3.182",
         "38475",
         "0.2064213864630185"
        ],
        [
         "2",
         "2",
         "SETDB1",
         "+",
         "Missense_Mutation",
         "0040b1b6-b07a-4b6e-90ef-133523eaf412",
         "DO45049",
         "1:150933317-150933317:A:C",
         "1:150933317:A:C",
         "True",
         "mutational",
         "Drivers",
         "exonic",
         "5.224169",
         "27.7",
         "38475",
         "0.9326837542362"
        ],
        [
         "3",
         "3",
         "ARID2",
         "+",
         "Intron",
         "0040b1b6-b07a-4b6e-90ef-133523eaf412",
         "DO45049",
         "12:46151744-46151744:A:T",
         "12:46151744:A:T",
         "False",
         "None",
         "Passengers in absence of driver",
         "intronic",
         "0.872451",
         "11.09",
         "178376",
         "0.1834857205986345"
        ],
        [
         "4",
         "4",
         "ARID2",
         "+",
         "Intron",
         "0040b1b6-b07a-4b6e-90ef-133523eaf412",
         "DO45049",
         "12:46259757-46259757:T:G",
         "12:46259757:T:G",
         "False",
         "None",
         "Passengers in absence of driver",
         "intronic",
         "-0.196762",
         "0.71",
         "178376",
         "0.09675849161346863"
        ]
       ],
       "shape": {
        "columns": 16,
        "rows": 5
       }
      },
      "text/html": [
       "<div>\n",
       "<style scoped>\n",
       "    .dataframe tbody tr th:only-of-type {\n",
       "        vertical-align: middle;\n",
       "    }\n",
       "\n",
       "    .dataframe tbody tr th {\n",
       "        vertical-align: top;\n",
       "    }\n",
       "\n",
       "    .dataframe thead th {\n",
       "        text-align: right;\n",
       "    }\n",
       "</style>\n",
       "<table border=\"1\" class=\"dataframe\">\n",
       "  <thead>\n",
       "    <tr style=\"text-align: right;\">\n",
       "      <th></th>\n",
       "      <th>index</th>\n",
       "      <th>gene</th>\n",
       "      <th>Strand</th>\n",
       "      <th>Variant_Classification</th>\n",
       "      <th>Tumor_Sample_Barcode</th>\n",
       "      <th>Patient_ID</th>\n",
       "      <th>mutation</th>\n",
       "      <th>mutation_loc</th>\n",
       "      <th>driver</th>\n",
       "      <th>driver_mutation_type</th>\n",
       "      <th>has_driver</th>\n",
       "      <th>genic_region</th>\n",
       "      <th>CADD_score_raw</th>\n",
       "      <th>CADD_score_PHRED</th>\n",
       "      <th>gene_length</th>\n",
       "      <th>CADD_score_normalized</th>\n",
       "    </tr>\n",
       "  </thead>\n",
       "  <tbody>\n",
       "    <tr>\n",
       "      <th>0</th>\n",
       "      <td>0</td>\n",
       "      <td>ARID1A</td>\n",
       "      <td>+</td>\n",
       "      <td>Intron</td>\n",
       "      <td>0040b1b6-b07a-4b6e-90ef-133523eaf412</td>\n",
       "      <td>DO45049</td>\n",
       "      <td>1:27077925-27077925:A:G</td>\n",
       "      <td>1:27077925:A:G</td>\n",
       "      <td>False</td>\n",
       "      <td>None</td>\n",
       "      <td>Passengers in absence of driver</td>\n",
       "      <td>intronic</td>\n",
       "      <td>-0.316733</td>\n",
       "      <td>0.400</td>\n",
       "      <td>86072</td>\n",
       "      <td>0.056169</td>\n",
       "    </tr>\n",
       "    <tr>\n",
       "      <th>1</th>\n",
       "      <td>1</td>\n",
       "      <td>SETDB1</td>\n",
       "      <td>+</td>\n",
       "      <td>Intron</td>\n",
       "      <td>0040b1b6-b07a-4b6e-90ef-133523eaf412</td>\n",
       "      <td>DO45049</td>\n",
       "      <td>1:150909417-150909417:A:G</td>\n",
       "      <td>1:150909417:A:G</td>\n",
       "      <td>False</td>\n",
       "      <td>mutational</td>\n",
       "      <td>Passengers in presence of driver</td>\n",
       "      <td>intronic</td>\n",
       "      <td>0.110056</td>\n",
       "      <td>3.182</td>\n",
       "      <td>38475</td>\n",
       "      <td>0.206421</td>\n",
       "    </tr>\n",
       "    <tr>\n",
       "      <th>2</th>\n",
       "      <td>2</td>\n",
       "      <td>SETDB1</td>\n",
       "      <td>+</td>\n",
       "      <td>Missense_Mutation</td>\n",
       "      <td>0040b1b6-b07a-4b6e-90ef-133523eaf412</td>\n",
       "      <td>DO45049</td>\n",
       "      <td>1:150933317-150933317:A:C</td>\n",
       "      <td>1:150933317:A:C</td>\n",
       "      <td>True</td>\n",
       "      <td>mutational</td>\n",
       "      <td>Drivers</td>\n",
       "      <td>exonic</td>\n",
       "      <td>5.224169</td>\n",
       "      <td>27.700</td>\n",
       "      <td>38475</td>\n",
       "      <td>0.932684</td>\n",
       "    </tr>\n",
       "    <tr>\n",
       "      <th>3</th>\n",
       "      <td>3</td>\n",
       "      <td>ARID2</td>\n",
       "      <td>+</td>\n",
       "      <td>Intron</td>\n",
       "      <td>0040b1b6-b07a-4b6e-90ef-133523eaf412</td>\n",
       "      <td>DO45049</td>\n",
       "      <td>12:46151744-46151744:A:T</td>\n",
       "      <td>12:46151744:A:T</td>\n",
       "      <td>False</td>\n",
       "      <td>None</td>\n",
       "      <td>Passengers in absence of driver</td>\n",
       "      <td>intronic</td>\n",
       "      <td>0.872451</td>\n",
       "      <td>11.090</td>\n",
       "      <td>178376</td>\n",
       "      <td>0.183486</td>\n",
       "    </tr>\n",
       "    <tr>\n",
       "      <th>4</th>\n",
       "      <td>4</td>\n",
       "      <td>ARID2</td>\n",
       "      <td>+</td>\n",
       "      <td>Intron</td>\n",
       "      <td>0040b1b6-b07a-4b6e-90ef-133523eaf412</td>\n",
       "      <td>DO45049</td>\n",
       "      <td>12:46259757-46259757:T:G</td>\n",
       "      <td>12:46259757:T:G</td>\n",
       "      <td>False</td>\n",
       "      <td>None</td>\n",
       "      <td>Passengers in absence of driver</td>\n",
       "      <td>intronic</td>\n",
       "      <td>-0.196762</td>\n",
       "      <td>0.710</td>\n",
       "      <td>178376</td>\n",
       "      <td>0.096758</td>\n",
       "    </tr>\n",
       "  </tbody>\n",
       "</table>\n",
       "</div>"
      ],
      "text/plain": [
       "   index    gene Strand Variant_Classification  \\\n",
       "0      0  ARID1A      +                 Intron   \n",
       "1      1  SETDB1      +                 Intron   \n",
       "2      2  SETDB1      +      Missense_Mutation   \n",
       "3      3   ARID2      +                 Intron   \n",
       "4      4   ARID2      +                 Intron   \n",
       "\n",
       "                   Tumor_Sample_Barcode Patient_ID                   mutation  \\\n",
       "0  0040b1b6-b07a-4b6e-90ef-133523eaf412    DO45049    1:27077925-27077925:A:G   \n",
       "1  0040b1b6-b07a-4b6e-90ef-133523eaf412    DO45049  1:150909417-150909417:A:G   \n",
       "2  0040b1b6-b07a-4b6e-90ef-133523eaf412    DO45049  1:150933317-150933317:A:C   \n",
       "3  0040b1b6-b07a-4b6e-90ef-133523eaf412    DO45049   12:46151744-46151744:A:T   \n",
       "4  0040b1b6-b07a-4b6e-90ef-133523eaf412    DO45049   12:46259757-46259757:T:G   \n",
       "\n",
       "      mutation_loc  driver driver_mutation_type  \\\n",
       "0   1:27077925:A:G   False                 None   \n",
       "1  1:150909417:A:G   False           mutational   \n",
       "2  1:150933317:A:C    True           mutational   \n",
       "3  12:46151744:A:T   False                 None   \n",
       "4  12:46259757:T:G   False                 None   \n",
       "\n",
       "                         has_driver genic_region  CADD_score_raw  \\\n",
       "0   Passengers in absence of driver     intronic       -0.316733   \n",
       "1  Passengers in presence of driver     intronic        0.110056   \n",
       "2                           Drivers       exonic        5.224169   \n",
       "3   Passengers in absence of driver     intronic        0.872451   \n",
       "4   Passengers in absence of driver     intronic       -0.196762   \n",
       "\n",
       "   CADD_score_PHRED  gene_length  CADD_score_normalized  \n",
       "0             0.400        86072               0.056169  \n",
       "1             3.182        38475               0.206421  \n",
       "2            27.700        38475               0.932684  \n",
       "3            11.090       178376               0.183486  \n",
       "4             0.710       178376               0.096758  "
      ]
     },
     "execution_count": 5,
     "metadata": {},
     "output_type": "execute_result"
    }
   ],
   "source": [
    "# filter out indels and MNVs without CADD scores\n",
    "print(mut_df.shape)\n",
    "mut_df = mut_df[mut_df[\"CADD_score_raw\"].notnull()]\n",
    "print(mut_df.shape)\n",
    "mut_df.reset_index(inplace=True)\n",
    "print(mut_df.shape)\n",
    "\n",
    "# normalize CADD scores for each gene\n",
    "mut_df[\"CADD_score_normalized\"] = mut_df.groupby([\"gene\"])[\"CADD_score_raw\"].transform(lambda x: (x - x.min()) / (x.max() - x.min()) if x.max() != x.min() else 0.5)\n",
    "\n",
    "# get driver status\n",
    "mut_df[\"has_driver\"] = mut_df[\"has_driver\"].apply(lambda x: \"Passengers in presence of driver\" if x else \"Passengers in absence of driver\")\n",
    "mut_df[\"has_driver\"] = mut_df.apply(lambda x: \"Drivers\" if x[\"driver\"] == True else x[\"has_driver\"], axis=1)\n",
    "mut_df.head()"
   ]
  },
  {
   "cell_type": "code",
   "execution_count": 6,
   "metadata": {},
   "outputs": [
    {
     "name": "stdout",
     "output_type": "stream",
     "text": [
      "intronic          5233\n",
      "exonic             330\n",
      "ncRNA_intronic      72\n",
      "intergenic          65\n",
      "upstream            20\n",
      "splicing            19\n",
      "UTR3                15\n",
      "ncRNA_exonic        13\n",
      "downstream          10\n",
      "UTR5                 4\n",
      "Name: genic_region, dtype: int64\n"
     ]
    },
    {
     "data": {
      "text/plain": [
       "intronic      5233\n",
       "exonic         330\n",
       "ncRNA           85\n",
       "intergenic      65\n",
       "upstream        20\n",
       "splicing        19\n",
       "UTR3            15\n",
       "downstream      10\n",
       "UTR5             4\n",
       "Name: genic_region, dtype: int64"
      ]
     },
     "execution_count": 6,
     "metadata": {},
     "output_type": "execute_result"
    }
   ],
   "source": [
    "print(mut_df[\"genic_region\"].value_counts())\n",
    "mut_df[\"genic_region\"] = mut_df[\"genic_region\"].replace({\n",
    "    \"ncRNA_exonic\": \"ncRNA\",\n",
    "    \"ncRNA_intronic\": \"ncRNA\"\n",
    "})\n",
    "regions = [\"UTR5\", \"UTR3\", \"ncRNA\", \"exonic\", \"intronic\", \"splicing\", \"upstream\", \"downstream\", \"intergenic\"]\n",
    "mut_df[\"genic_region\"] = mut_df[\"genic_region\"].apply(lambda x: x if x in regions else \"-\")\n",
    "mut_df.to_csv(f\"{CADD_SCORES_GENIC_REGIONS}/{cancer_type}.tsv\", sep=\"\\t\", index=False)\n",
    "mut_df[\"genic_region\"].value_counts()"
   ]
  },
  {
   "cell_type": "code",
   "execution_count": 7,
   "metadata": {},
   "outputs": [
    {
     "data": {
      "image/png": "[encoded data removed]",
      "text/plain": [
       "<Figure size 1000x500 with 1 Axes>"
      ]
     },
     "metadata": {},
     "output_type": "display_data"
    }
   ],
   "source": [
    "plt.figure(figsize=(10, 5))\n",
    "colors = [\"#CC6677\", \"#106C9A\", \"#529267\"]\n",
    "cmap = sns.color_palette(colors)\n",
    "hue_order = [\"Passengers in presence of driver\", \"Passengers in absence of driver\", \"Drivers\"]\n",
    "sns.boxplot(\n",
    "    x=\"genic_region\", \n",
    "    y=\"CADD_score_normalized\",\n",
    "    hue=\"has_driver\",\n",
    "    data=mut_df,\n",
    "    palette=cmap,\n",
    "    order=regions,\n",
    "    hue_order=hue_order,\n",
    "    showfliers=False,\n",
    ")\n",
    "plt.xlabel(\"Genic Region\")\n",
    "plt.ylabel(\"Normalized CADD Score\")\n",
    "plt.legend(title=\"Mutation Status\")\n",
    "plt.title(f\"{cancer_type} - CADD score distribution by Genic Regions\")\n",
    "plt.savefig(f\"{CADD_SCORES_GENIC_REGIONS}/{cancer_type}.png\", dpi=300, bbox_inches=\"tight\")"
   ]
  },
  {
   "cell_type": "code",
   "execution_count": null,
   "metadata": {},
   "outputs": [
    {
     "name": "stderr",
     "output_type": "stream",
     "text": [
      "/var/folders/1r/lnpzqmmd429dz0fv3s3z1hdh0000gr/T/ipykernel_18631/128827818.py:3: SettingWithCopyWarning: \n",
      "A value is trying to be set on a copy of a slice from a DataFrame.\n",
      "Try using .loc[row_indexer,col_indexer] = value instead\n",
      "\n",
      "See the caveats in the documentation: https://pandas.pydata.org/pandas-docs/stable/user_guide/indexing.html#returning-a-view-versus-a-copy\n",
      "  passenger_mut_df[\"has_driver\"] = passenger_mut_df[\"has_driver\"].apply(lambda x: True if x == \"Passengers in presence of driver\" else False)\n"
     ]
    },
    {
     "data": {
      "application/vnd.microsoft.datawrangler.viewer.v0+json": {
       "columns": [
        {
         "name": "genic_region",
         "rawType": "object",
         "type": "string"
        },
        {
         "name": "False",
         "rawType": "float64",
         "type": "float"
        },
        {
         "name": "True",
         "rawType": "float64",
         "type": "float"
        },
        {
         "name": "enrichment",
         "rawType": "float64",
         "type": "float"
        }
       ],
       "conversionMethod": "pd.DataFrame",
       "ref": "11070377-9845-45b7-a7e4-96e078dd0acd",
       "rows": [
        [
         "UTR3",
         "0.1918105615070213",
         "0.35434008383153415",
         "0.541317707812298"
        ],
        [
         "UTR5",
         "0.1689509150136589",
         "0.0",
         "168950916.01365888"
        ],
        [
         "downstream",
         "0.22346053137168684",
         "0.09536141891745954",
         "2.343301227740778"
        ],
        [
         "exonic",
         "0.6188973264821629",
         "0.5169729032864906",
         "1.197156219118186"
        ],
        [
         "intergenic",
         "0.1494780183053146",
         "0.10600652303082486",
         "1.4100832064057585"
        ],
        [
         "intronic",
         "0.20413363914736513",
         "0.09035489158642185",
         "2.259242795868715"
        ],
        [
         "ncRNA",
         "0.11127901495109194",
         "0.0",
         "111279015.95109193"
        ],
        [
         "splicing",
         "0.8744306140029443",
         "0.0",
         "874430615.0029442"
        ],
        [
         "upstream",
         "0.1565970783616948",
         "0.0",
         "156597079.3616948"
        ]
       ],
       "shape": {
        "columns": 3,
        "rows": 9
       }
      },
      "text/html": [
       "<div>\n",
       "<style scoped>\n",
       "    .dataframe tbody tr th:only-of-type {\n",
       "        vertical-align: middle;\n",
       "    }\n",
       "\n",
       "    .dataframe tbody tr th {\n",
       "        vertical-align: top;\n",
       "    }\n",
       "\n",
       "    .dataframe thead th {\n",
       "        text-align: right;\n",
       "    }\n",
       "</style>\n",
       "<table border=\"1\" class=\"dataframe\">\n",
       "  <thead>\n",
       "    <tr style=\"text-align: right;\">\n",
       "      <th>has_driver</th>\n",
       "      <th>False</th>\n",
       "      <th>True</th>\n",
       "      <th>enrichment</th>\n",
       "    </tr>\n",
       "    <tr>\n",
       "      <th>genic_region</th>\n",
       "      <th></th>\n",
       "      <th></th>\n",
       "      <th></th>\n",
       "    </tr>\n",
       "  </thead>\n",
       "  <tbody>\n",
       "    <tr>\n",
       "      <th>UTR3</th>\n",
       "      <td>0.191811</td>\n",
       "      <td>0.354340</td>\n",
       "      <td>5.413177e-01</td>\n",
       "    </tr>\n",
       "    <tr>\n",
       "      <th>UTR5</th>\n",
       "      <td>0.168951</td>\n",
       "      <td>0.000000</td>\n",
       "      <td>1.689509e+08</td>\n",
       "    </tr>\n",
       "    <tr>\n",
       "      <th>downstream</th>\n",
       "      <td>0.223461</td>\n",
       "      <td>0.095361</td>\n",
       "      <td>2.343301e+00</td>\n",
       "    </tr>\n",
       "    <tr>\n",
       "      <th>exonic</th>\n",
       "      <td>0.618897</td>\n",
       "      <td>0.516973</td>\n",
       "      <td>1.197156e+00</td>\n",
       "    </tr>\n",
       "    <tr>\n",
       "      <th>intergenic</th>\n",
       "      <td>0.149478</td>\n",
       "      <td>0.106007</td>\n",
       "      <td>1.410083e+00</td>\n",
       "    </tr>\n",
       "    <tr>\n",
       "      <th>intronic</th>\n",
       "      <td>0.204134</td>\n",
       "      <td>0.090355</td>\n",
       "      <td>2.259243e+00</td>\n",
       "    </tr>\n",
       "    <tr>\n",
       "      <th>ncRNA</th>\n",
       "      <td>0.111279</td>\n",
       "      <td>0.000000</td>\n",
       "      <td>1.112790e+08</td>\n",
       "    </tr>\n",
       "    <tr>\n",
       "      <th>splicing</th>\n",
       "      <td>0.874431</td>\n",
       "      <td>0.000000</td>\n",
       "      <td>8.744306e+08</td>\n",
       "    </tr>\n",
       "    <tr>\n",
       "      <th>upstream</th>\n",
       "      <td>0.156597</td>\n",
       "      <td>0.000000</td>\n",
       "      <td>1.565971e+08</td>\n",
       "    </tr>\n",
       "  </tbody>\n",
       "</table>\n",
       "</div>"
      ],
      "text/plain": [
       "has_driver       False      True    enrichment\n",
       "genic_region                                  \n",
       "UTR3          0.191811  0.354340  5.413177e-01\n",
       "UTR5          0.168951  0.000000  1.689509e+08\n",
       "downstream    0.223461  0.095361  2.343301e+00\n",
       "exonic        0.618897  0.516973  1.197156e+00\n",
       "intergenic    0.149478  0.106007  1.410083e+00\n",
       "intronic      0.204134  0.090355  2.259243e+00\n",
       "ncRNA         0.111279  0.000000  1.112790e+08\n",
       "splicing      0.874431  0.000000  8.744306e+08\n",
       "upstream      0.156597  0.000000  1.565971e+08"
      ]
     },
     "execution_count": 8,
     "metadata": {},
     "output_type": "execute_result"
    }
   ],
   "source": [
    "# Enrichment of median CADD scores of samples without driver mutations over samples with driver mutations\n",
    "passenger_mut_df = mut_df[~mut_df[\"driver\"]] # only passenger mutations\n",
    "passenger_mut_df[\"has_driver\"] = passenger_mut_df[\"has_driver\"].apply(lambda x: True if x == \"Passengers in presence of driver\" else False)\n",
    "group1_median = passenger_mut_df[passenger_mut_df[\"has_driver\"] == \"Passengers in presence of driver\"]\n",
    "group2_median = passenger_mut_df[passenger_mut_df[\"has_driver\"] == \"Passengers in absence of driver\"]\n",
    "\n",
    "tumor_mut_grouped_df = passenger_mut_df.groupby([\"has_driver\", \"genic_region\"]).agg({\n",
    "    \"CADD_score_normalized\": \"median\"\n",
    "}).reset_index()\n",
    "tumor_mut_grouped_df = tumor_mut_grouped_df.pivot(index=\"genic_region\", columns=\"has_driver\", values=\"CADD_score_normalized\").fillna(0)\n",
    "# add True and False columns if they don't exist\n",
    "if True not in tumor_mut_grouped_df.columns:\n",
    "    tumor_mut_grouped_df[True] = 0\n",
    "if False not in tumor_mut_grouped_df.columns:\n",
    "\ttumor_mut_grouped_df[False] = 0\n",
    "tumor_mut_grouped_df[\"enrichment\"] = (tumor_mut_grouped_df[False] + 1e-6) / (tumor_mut_grouped_df[True] + 1e-6)\n",
    "tumor_mut_grouped_df.to_csv(f\"{CADD_SCORE_ENRICHMENT}/{cancer_type}.tsv\", sep=\"\\t\")\n",
    "tumor_mut_grouped_df"
   ]
  }
 ],
 "metadata": {
  "kernelspec": {
   "display_name": "cancer-model",
   "language": "python",
   "name": "python3"
  },
  "language_info": {
   "codemirror_mode": {
    "name": "ipython",
    "version": 3
   },
   "file_extension": ".py",
   "mimetype": "text/x-python",
   "name": "python",
   "nbconvert_exporter": "python",
   "pygments_lexer": "ipython3",
   "version": "3.9.19"
  }
 },
 "nbformat": 4,
 "nbformat_minor": 2
}
