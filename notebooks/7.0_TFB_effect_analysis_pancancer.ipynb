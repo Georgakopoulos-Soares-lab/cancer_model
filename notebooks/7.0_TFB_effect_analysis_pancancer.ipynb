{
 "cells": [
  {
   "cell_type": "code",
   "execution_count": 1,
   "metadata": {},
   "outputs": [],
   "source": [
    "import os\n",
    "import pandas as pd\n",
    "import pyfaidx\n",
    "import pysam\n",
    "from numpy import var, mean, sqrt\n",
    "from scipy.stats import mannwhitneyu\n",
    "import matplotlib.pyplot as plt\n",
    "import seaborn as sns\n",
    "from statannotations.Annotator import Annotator"
   ]
  },
  {
   "cell_type": "code",
   "execution_count": 2,
   "metadata": {},
   "outputs": [],
   "source": [
    "import matplotlib\n",
    "matplotlib.rcParams['pdf.fonttype'] = 42\n",
    "matplotlib.rcParams['ps.fonttype'] = 42"
   ]
  },
  {
   "cell_type": "code",
   "execution_count": 3,
   "metadata": {},
   "outputs": [
    {
     "name": "stdout",
     "output_type": "stream",
     "text": [
      "31 ['Biliary-AdenoCA', 'Bladder-TCC', 'Bone-Leiomyo', 'Bone-Osteosarc', 'Breast-AdenoCa', 'Breast-LobularCa', 'CNS-GBM', 'CNS-Medullo', 'CNS-Oligo', 'CNS-PiloAstro', 'Cervix-SCC', 'ColoRect-AdenoCA', 'Eso-AdenoCa', 'Head-SCC', 'Kidney-ChRCC', 'Kidney-RCC', 'Liver-HCC', 'Lung-AdenoCA', 'Lung-SCC', 'Lymph-BNHL', 'Lymph-CLL', 'Myeloid-AML', 'Myeloid-MPN', 'Ovary-AdenoCA', 'Panc-AdenoCA', 'Panc-Endocrine', 'Prost-AdenoCA', 'Skin-Melanoma', 'Stomach-AdenoCA', 'Thy-AdenoCA', 'Uterus-AdenoCA']\n"
     ]
    }
   ],
   "source": [
    "# input files/dir\n",
    "MUT_DATA = \"../data/annotated_snv_mv_indels_by_cancer_subtype\"\n",
    "DRIVER_GENES = \"../data/driver_genes\"\n",
    "TFBS_DATA = \"../data/TFBS_data_diff\"\n",
    "REF_FASTA = \"../data/ref/hg19.fa\"\n",
    "WHITELISTED_SAMPLES = \"../data/datasets/PCAWG/supplementary Tables/Supplementary Table 1.csv\"\n",
    "\n",
    "# output files/dir\n",
    "TFBS_CHANGES = \"../results/tfbs_changes\"\n",
    "\n",
    "if not os.path.exists(TFBS_CHANGES):\n",
    "\tos.makedirs(TFBS_CHANGES)\n",
    "\n",
    "# Fasta sequence extractor\n",
    "pyfaidx.Faidx(REF_FASTA)\n",
    "REF_GENOME_OPEN = pysam.Fastafile(REF_FASTA) \n",
    "\n",
    "CANCER_TYPES = os.listdir(TFBS_DATA)\n",
    "CANCER_TYPES = [cancer_type for cancer_type in CANCER_TYPES if cancer_type.endswith(\".tsv\")]\n",
    "CANCER_TYPES = [cancer_type.replace(\".tsv\", \"\") for cancer_type in CANCER_TYPES]\n",
    "CANCER_TYPES.sort()\n",
    "print(len(CANCER_TYPES), CANCER_TYPES)"
   ]
  },
  {
   "cell_type": "code",
   "execution_count": 4,
   "metadata": {},
   "outputs": [
    {
     "name": "stdout",
     "output_type": "stream",
     "text": [
      "Number of unique samples in the whitelist: 2583\n"
     ]
    }
   ],
   "source": [
    "whitelisted_data = pd.read_csv(WHITELISTED_SAMPLES, sep=\",\", header=0)\n",
    "whitelisted_samples = whitelisted_data[\"tumour_specimen_aliquot_id\"].unique().tolist()\n",
    "print(f\"Number of unique samples in the whitelist: {len(whitelisted_samples)}\")"
   ]
  },
  {
   "cell_type": "code",
   "execution_count": 5,
   "metadata": {},
   "outputs": [],
   "source": [
    "def cohen_d(x, y):\n",
    "    # size of samples\n",
    "    n1, n2 = len(x), len(y)\n",
    "    # variance of the samples\n",
    "    s1, s2 = var(x, ddof=1), var(y, ddof=1)\n",
    "    # pooled standard deviation\n",
    "    s = sqrt(((n1 - 1) * s1 + (n2 - 1) * s2) / (n1 + n2 - 2))\n",
    "    # means of the samples\n",
    "    u1, u2 = mean(x), mean(y)\n",
    "    # return the effect size\n",
    "    return (u1 - u2) / s\n",
    "\n",
    "def get_key(mutation):\n",
    "\t'''\n",
    "\tGenerate a key to match the mutation format for TFBS data\n",
    "\tUsed to merge the two dataframes on the mutation\n",
    "\t'''\n",
    "\tchrom, pos, ref, alt = mutation.split(\":\")\n",
    "\tpos = pos.split(\"-\")[0]\n",
    "\t# using 0-based indexing for pysam fetch\n",
    "\tstart = int(pos)-1\n",
    "\tend = int(pos)\n",
    "\t# include the previous base in case of indels and MNVs\n",
    "\tif ref == \"-\":\n",
    "\t\tref = REF_GENOME_OPEN.fetch(f\"chr{chrom}\", start-1, start)\n",
    "\t\talt = REF_GENOME_OPEN.fetch(f\"chr{chrom}\", start-1, end)\n",
    "\t\tpos = int(pos) - 1\n",
    "\telif alt == \"-\":\n",
    "\t\tref = REF_GENOME_OPEN.fetch(f\"chr{chrom}\", start-1, end)\n",
    "\t\talt = REF_GENOME_OPEN.fetch(f\"chr{chrom}\", start-1, start)\n",
    "\t\tpos = int(pos) - 1\n",
    "\telif len(ref) > 1 or len(alt) > 1:\n",
    "\t\tref = REF_GENOME_OPEN.fetch(f\"chr{chrom}\", start-1, end)\n",
    "\t\talt = REF_GENOME_OPEN.fetch(f\"chr{chrom}\", start-1, start) + alt\n",
    "\t\tpos = int(pos) - 1\n",
    "\tkey = f\"chr{chrom}:{pos}{ref}>{alt}\"\n",
    "\treturn key\n",
    "\n",
    "def get_prediction(group1, group2):\n",
    "    if group1.median() <= 0 and group2.median() <= 0:\n",
    "        return \"loss\"\n",
    "    elif group1.median() >= 0 and group2.median() >= 0:\n",
    "        return \"gain\"\n",
    "    elif group1.median() <= 0 and group2.median() >= 0:\n",
    "        return \"loss to gain\"\n",
    "    elif group1.median() >= 0 and group2.median() <= 0:\n",
    "        return \"gain to loss\"\n",
    "    else:\n",
    "        return \"no change\""
   ]
  },
  {
   "cell_type": "code",
   "execution_count": 6,
   "metadata": {},
   "outputs": [
    {
     "name": "stdout",
     "output_type": "stream",
     "text": [
      "(90258, 8)\n",
      "(90258, 9)\n"
     ]
    },
    {
     "data": {
      "application/vnd.microsoft.datawrangler.viewer.v0+json": {
       "columns": [
        {
         "name": "index",
         "rawType": "int64",
         "type": "integer"
        },
        {
         "name": "Tumor_Sample_Barcode",
         "rawType": "object",
         "type": "string"
        },
        {
         "name": "mutation",
         "rawType": "object",
         "type": "string"
        },
        {
         "name": "gene",
         "rawType": "object",
         "type": "string"
        },
        {
         "name": "driver",
         "rawType": "bool",
         "type": "boolean"
        },
        {
         "name": "has_driver",
         "rawType": "bool",
         "type": "boolean"
        },
        {
         "name": "genic_region",
         "rawType": "object",
         "type": "string"
        },
        {
         "name": "cancer_type",
         "rawType": "object",
         "type": "string"
        },
        {
         "name": "driver_status",
         "rawType": "object",
         "type": "string"
        },
        {
         "name": "variant",
         "rawType": "object",
         "type": "string"
        }
       ],
       "conversionMethod": "pd.DataFrame",
       "ref": "6482e029-23e8-47cf-b2cc-7d91efc62cef",
       "rows": [
        [
         "4893",
         "1e2dcbcc-771c-43c5-8c8d-e0eb77cb3494",
         "16:64995960-64995960:T:A",
         "CDH11",
         "False",
         "False",
         "intronic",
         "Biliary-AdenoCA",
         "Passengers in absence of driver",
         "chr16:64995960T>A"
        ],
        [
         "4894",
         "1e2dcbcc-771c-43c5-8c8d-e0eb77cb3494",
         "16:65021115-65021115:G:T",
         "CDH11",
         "False",
         "False",
         "intronic",
         "Biliary-AdenoCA",
         "Passengers in absence of driver",
         "chr16:65021115G>T"
        ],
        [
         "4895",
         "1e2dcbcc-771c-43c5-8c8d-e0eb77cb3494",
         "16:65078980-65078980:C:A",
         "CDH11",
         "False",
         "False",
         "intronic",
         "Biliary-AdenoCA",
         "Passengers in absence of driver",
         "chr16:65078980C>A"
        ],
        [
         "4896",
         "1e2dcbcc-771c-43c5-8c8d-e0eb77cb3494",
         "16:65122834-65122834:C:A",
         "CDH11",
         "False",
         "False",
         "intronic",
         "Biliary-AdenoCA",
         "Passengers in absence of driver",
         "chr16:65122834C>A"
        ],
        [
         "4998",
         "1e2dcbcc-771c-43c5-8c8d-e0eb77cb3494",
         "17:7577560-7577560:A:G",
         "TP53",
         "True",
         "True",
         "exonic",
         "Biliary-AdenoCA",
         "Drivers",
         "chr17:7577560A>G"
        ]
       ],
       "shape": {
        "columns": 9,
        "rows": 5
       }
      },
      "text/html": [
       "<div>\n",
       "<style scoped>\n",
       "    .dataframe tbody tr th:only-of-type {\n",
       "        vertical-align: middle;\n",
       "    }\n",
       "\n",
       "    .dataframe tbody tr th {\n",
       "        vertical-align: top;\n",
       "    }\n",
       "\n",
       "    .dataframe thead th {\n",
       "        text-align: right;\n",
       "    }\n",
       "</style>\n",
       "<table border=\"1\" class=\"dataframe\">\n",
       "  <thead>\n",
       "    <tr style=\"text-align: right;\">\n",
       "      <th></th>\n",
       "      <th>Tumor_Sample_Barcode</th>\n",
       "      <th>mutation</th>\n",
       "      <th>gene</th>\n",
       "      <th>driver</th>\n",
       "      <th>has_driver</th>\n",
       "      <th>genic_region</th>\n",
       "      <th>cancer_type</th>\n",
       "      <th>driver_status</th>\n",
       "      <th>variant</th>\n",
       "    </tr>\n",
       "  </thead>\n",
       "  <tbody>\n",
       "    <tr>\n",
       "      <th>4893</th>\n",
       "      <td>1e2dcbcc-771c-43c5-8c8d-e0eb77cb3494</td>\n",
       "      <td>16:64995960-64995960:T:A</td>\n",
       "      <td>CDH11</td>\n",
       "      <td>False</td>\n",
       "      <td>False</td>\n",
       "      <td>intronic</td>\n",
       "      <td>Biliary-AdenoCA</td>\n",
       "      <td>Passengers in absence of driver</td>\n",
       "      <td>chr16:64995960T&gt;A</td>\n",
       "    </tr>\n",
       "    <tr>\n",
       "      <th>4894</th>\n",
       "      <td>1e2dcbcc-771c-43c5-8c8d-e0eb77cb3494</td>\n",
       "      <td>16:65021115-65021115:G:T</td>\n",
       "      <td>CDH11</td>\n",
       "      <td>False</td>\n",
       "      <td>False</td>\n",
       "      <td>intronic</td>\n",
       "      <td>Biliary-AdenoCA</td>\n",
       "      <td>Passengers in absence of driver</td>\n",
       "      <td>chr16:65021115G&gt;T</td>\n",
       "    </tr>\n",
       "    <tr>\n",
       "      <th>4895</th>\n",
       "      <td>1e2dcbcc-771c-43c5-8c8d-e0eb77cb3494</td>\n",
       "      <td>16:65078980-65078980:C:A</td>\n",
       "      <td>CDH11</td>\n",
       "      <td>False</td>\n",
       "      <td>False</td>\n",
       "      <td>intronic</td>\n",
       "      <td>Biliary-AdenoCA</td>\n",
       "      <td>Passengers in absence of driver</td>\n",
       "      <td>chr16:65078980C&gt;A</td>\n",
       "    </tr>\n",
       "    <tr>\n",
       "      <th>4896</th>\n",
       "      <td>1e2dcbcc-771c-43c5-8c8d-e0eb77cb3494</td>\n",
       "      <td>16:65122834-65122834:C:A</td>\n",
       "      <td>CDH11</td>\n",
       "      <td>False</td>\n",
       "      <td>False</td>\n",
       "      <td>intronic</td>\n",
       "      <td>Biliary-AdenoCA</td>\n",
       "      <td>Passengers in absence of driver</td>\n",
       "      <td>chr16:65122834C&gt;A</td>\n",
       "    </tr>\n",
       "    <tr>\n",
       "      <th>4998</th>\n",
       "      <td>1e2dcbcc-771c-43c5-8c8d-e0eb77cb3494</td>\n",
       "      <td>17:7577560-7577560:A:G</td>\n",
       "      <td>TP53</td>\n",
       "      <td>True</td>\n",
       "      <td>True</td>\n",
       "      <td>exonic</td>\n",
       "      <td>Biliary-AdenoCA</td>\n",
       "      <td>Drivers</td>\n",
       "      <td>chr17:7577560A&gt;G</td>\n",
       "    </tr>\n",
       "  </tbody>\n",
       "</table>\n",
       "</div>"
      ],
      "text/plain": [
       "                      Tumor_Sample_Barcode                  mutation   gene  \\\n",
       "4893  1e2dcbcc-771c-43c5-8c8d-e0eb77cb3494  16:64995960-64995960:T:A  CDH11   \n",
       "4894  1e2dcbcc-771c-43c5-8c8d-e0eb77cb3494  16:65021115-65021115:G:T  CDH11   \n",
       "4895  1e2dcbcc-771c-43c5-8c8d-e0eb77cb3494  16:65078980-65078980:C:A  CDH11   \n",
       "4896  1e2dcbcc-771c-43c5-8c8d-e0eb77cb3494  16:65122834-65122834:C:A  CDH11   \n",
       "4998  1e2dcbcc-771c-43c5-8c8d-e0eb77cb3494    17:7577560-7577560:A:G   TP53   \n",
       "\n",
       "      driver  has_driver genic_region      cancer_type  \\\n",
       "4893   False       False     intronic  Biliary-AdenoCA   \n",
       "4894   False       False     intronic  Biliary-AdenoCA   \n",
       "4895   False       False     intronic  Biliary-AdenoCA   \n",
       "4896   False       False     intronic  Biliary-AdenoCA   \n",
       "4998    True        True       exonic  Biliary-AdenoCA   \n",
       "\n",
       "                        driver_status            variant  \n",
       "4893  Passengers in absence of driver  chr16:64995960T>A  \n",
       "4894  Passengers in absence of driver  chr16:65021115G>T  \n",
       "4895  Passengers in absence of driver  chr16:65078980C>A  \n",
       "4896  Passengers in absence of driver  chr16:65122834C>A  \n",
       "4998                          Drivers   chr17:7577560A>G  "
      ]
     },
     "execution_count": 6,
     "metadata": {},
     "output_type": "execute_result"
    }
   ],
   "source": [
    "mut_df = pd.DataFrame()\n",
    "for cancer_type in CANCER_TYPES:\n",
    "\tmut_cancer_df = pd.read_csv(f\"{MUT_DATA}/{cancer_type}.tsv\", sep=\"\\t\")\n",
    "\t# mutations in driver genes\n",
    "\tdriver_genes = pd.read_csv(f\"{DRIVER_GENES}/{cancer_type}.tsv\", sep=\"\\t\")\n",
    "\tdriver_genes_list = driver_genes[\"gene\"].tolist()\n",
    "\tmut_cancer_df = mut_cancer_df[mut_cancer_df[\"gene\"].isin(driver_genes_list)]\n",
    "\tmut_cancer_df = mut_cancer_df[[\"Tumor_Sample_Barcode\", \"mutation\", \"gene\", \"driver\", \"has_driver\", \"genic_region\"]]\n",
    "\tmut_cancer_df[\"cancer_type\"] = cancer_type\n",
    "\tmut_df = pd.concat([mut_df, mut_cancer_df])\n",
    "# get driver status\n",
    "mut_df[\"driver_status\"] = mut_df.apply(lambda x: \"Passengers in presence of driver\" if x[\"has_driver\"] else \"Passengers in absence of driver\", axis=1)\n",
    "mut_df[\"driver_status\"] = mut_df.apply(lambda x: \"Drivers\" if x[\"driver\"] else x[\"driver_status\"], axis=1)\n",
    "print(mut_df.shape)\n",
    "# add variant column to use as key for TFBS data\n",
    "mut_df[\"variant\"] = mut_df[\"mutation\"].apply(get_key)\n",
    "print(mut_df.shape)\n",
    "mut_df.head()"
   ]
  },
  {
   "cell_type": "code",
   "execution_count": 7,
   "metadata": {},
   "outputs": [
    {
     "name": "stdout",
     "output_type": "stream",
     "text": [
      "(90258, 9)\n",
      "(82512, 9)\n"
     ]
    }
   ],
   "source": [
    "print(mut_df.shape)\n",
    "# filter out samples that are not in the whitelist\n",
    "mut_df = mut_df[mut_df[\"Tumor_Sample_Barcode\"].isin(whitelisted_samples)]\n",
    "print(mut_df.shape)"
   ]
  },
  {
   "cell_type": "code",
   "execution_count": 8,
   "metadata": {},
   "outputs": [
    {
     "name": "stdout",
     "output_type": "stream",
     "text": [
      "(86288302, 5)\n"
     ]
    },
    {
     "data": {
      "application/vnd.microsoft.datawrangler.viewer.v0+json": {
       "columns": [
        {
         "name": "index",
         "rawType": "int64",
         "type": "integer"
        },
        {
         "name": "variant",
         "rawType": "object",
         "type": "string"
        },
        {
         "name": "tf",
         "rawType": "object",
         "type": "string"
        },
        {
         "name": "score",
         "rawType": "float64",
         "type": "float"
        },
        {
         "name": "cancer_type",
         "rawType": "object",
         "type": "string"
        },
        {
         "name": "abs_score",
         "rawType": "float64",
         "type": "float"
        }
       ],
       "conversionMethod": "pd.DataFrame",
       "ref": "043886ce-5224-433c-8a6a-872ef6b0cbad",
       "rows": [
        [
         "0",
         "chr10:123235487CAT>C",
         "ABCF2",
         "-0.0559",
         "Biliary-AdenoCA",
         "0.0559"
        ],
        [
         "1",
         "chr10:123235487CAT>C",
         "ADARB1",
         "-0.0582",
         "Biliary-AdenoCA",
         "0.0582"
        ],
        [
         "2",
         "chr10:123235487CAT>C",
         "AFF4",
         "0.0233",
         "Biliary-AdenoCA",
         "0.0233"
        ],
        [
         "3",
         "chr10:123235487CAT>C",
         "AHR",
         "0.244525",
         "Biliary-AdenoCA",
         "0.244525"
        ],
        [
         "4",
         "chr10:123235487CAT>C",
         "AIRE",
         "-0.2671",
         "Biliary-AdenoCA",
         "0.2671"
        ]
       ],
       "shape": {
        "columns": 5,
        "rows": 5
       }
      },
      "text/html": [
       "<div>\n",
       "<style scoped>\n",
       "    .dataframe tbody tr th:only-of-type {\n",
       "        vertical-align: middle;\n",
       "    }\n",
       "\n",
       "    .dataframe tbody tr th {\n",
       "        vertical-align: top;\n",
       "    }\n",
       "\n",
       "    .dataframe thead th {\n",
       "        text-align: right;\n",
       "    }\n",
       "</style>\n",
       "<table border=\"1\" class=\"dataframe\">\n",
       "  <thead>\n",
       "    <tr style=\"text-align: right;\">\n",
       "      <th></th>\n",
       "      <th>variant</th>\n",
       "      <th>tf</th>\n",
       "      <th>score</th>\n",
       "      <th>cancer_type</th>\n",
       "      <th>abs_score</th>\n",
       "    </tr>\n",
       "  </thead>\n",
       "  <tbody>\n",
       "    <tr>\n",
       "      <th>0</th>\n",
       "      <td>chr10:123235487CAT&gt;C</td>\n",
       "      <td>ABCF2</td>\n",
       "      <td>-0.055900</td>\n",
       "      <td>Biliary-AdenoCA</td>\n",
       "      <td>0.055900</td>\n",
       "    </tr>\n",
       "    <tr>\n",
       "      <th>1</th>\n",
       "      <td>chr10:123235487CAT&gt;C</td>\n",
       "      <td>ADARB1</td>\n",
       "      <td>-0.058200</td>\n",
       "      <td>Biliary-AdenoCA</td>\n",
       "      <td>0.058200</td>\n",
       "    </tr>\n",
       "    <tr>\n",
       "      <th>2</th>\n",
       "      <td>chr10:123235487CAT&gt;C</td>\n",
       "      <td>AFF4</td>\n",
       "      <td>0.023300</td>\n",
       "      <td>Biliary-AdenoCA</td>\n",
       "      <td>0.023300</td>\n",
       "    </tr>\n",
       "    <tr>\n",
       "      <th>3</th>\n",
       "      <td>chr10:123235487CAT&gt;C</td>\n",
       "      <td>AHR</td>\n",
       "      <td>0.244525</td>\n",
       "      <td>Biliary-AdenoCA</td>\n",
       "      <td>0.244525</td>\n",
       "    </tr>\n",
       "    <tr>\n",
       "      <th>4</th>\n",
       "      <td>chr10:123235487CAT&gt;C</td>\n",
       "      <td>AIRE</td>\n",
       "      <td>-0.267100</td>\n",
       "      <td>Biliary-AdenoCA</td>\n",
       "      <td>0.267100</td>\n",
       "    </tr>\n",
       "  </tbody>\n",
       "</table>\n",
       "</div>"
      ],
      "text/plain": [
       "                variant      tf     score      cancer_type  abs_score\n",
       "0  chr10:123235487CAT>C   ABCF2 -0.055900  Biliary-AdenoCA   0.055900\n",
       "1  chr10:123235487CAT>C  ADARB1 -0.058200  Biliary-AdenoCA   0.058200\n",
       "2  chr10:123235487CAT>C    AFF4  0.023300  Biliary-AdenoCA   0.023300\n",
       "3  chr10:123235487CAT>C     AHR  0.244525  Biliary-AdenoCA   0.244525\n",
       "4  chr10:123235487CAT>C    AIRE -0.267100  Biliary-AdenoCA   0.267100"
      ]
     },
     "execution_count": 8,
     "metadata": {},
     "output_type": "execute_result"
    }
   ],
   "source": [
    "# TFBS data\n",
    "tfbs_df = pd.DataFrame()\n",
    "for cancer_type in CANCER_TYPES:\n",
    "\t# read the TFBS data\n",
    "\ttfbs_cancer_df = pd.read_csv(f\"{TFBS_DATA}/{cancer_type}.tsv\", sep=\"\\t\")\n",
    "\ttfbs_cancer_df[\"cancer_type\"] = cancer_type\n",
    "\ttfbs_df = pd.concat([tfbs_df, tfbs_cancer_df])\n",
    "tfbs_df[\"abs_score\"] = tfbs_df[\"score\"].abs()\n",
    "print(tfbs_df.shape)\n",
    "tfbs_df.head()"
   ]
  },
  {
   "cell_type": "code",
   "execution_count": 9,
   "metadata": {},
   "outputs": [
    {
     "name": "stdout",
     "output_type": "stream",
     "text": [
      "(761941, 9)\n",
      "(686784, 9)\n",
      "(671434, 9)\n"
     ]
    },
    {
     "data": {
      "application/vnd.microsoft.datawrangler.viewer.v0+json": {
       "columns": [
        {
         "name": "index",
         "rawType": "int64",
         "type": "integer"
        },
        {
         "name": "variant",
         "rawType": "object",
         "type": "string"
        },
        {
         "name": "tf",
         "rawType": "object",
         "type": "string"
        },
        {
         "name": "score",
         "rawType": "float64",
         "type": "float"
        },
        {
         "name": "cancer_type",
         "rawType": "object",
         "type": "string"
        },
        {
         "name": "abs_score",
         "rawType": "float64",
         "type": "float"
        },
        {
         "name": "gene",
         "rawType": "object",
         "type": "string"
        },
        {
         "name": "genic_region",
         "rawType": "object",
         "type": "string"
        },
        {
         "name": "driver",
         "rawType": "bool",
         "type": "boolean"
        },
        {
         "name": "driver_status",
         "rawType": "object",
         "type": "string"
        }
       ],
       "conversionMethod": "pd.DataFrame",
       "ref": "d1b8c118-73ba-474b-9984-88610d2f2bb4",
       "rows": [
        [
         "0",
         "chr10:123245541C>T",
         "AFF4",
         "-0.7516",
         "Biliary-AdenoCA",
         "0.7516",
         "FGFR2",
         "intronic",
         "False",
         "Passengers in absence of driver"
        ],
        [
         "1",
         "chr10:123245541C>T",
         "AKR1A1",
         "-0.8086",
         "Biliary-AdenoCA",
         "0.8086",
         "FGFR2",
         "intronic",
         "False",
         "Passengers in absence of driver"
        ],
        [
         "2",
         "chr10:123245541C>T",
         "C9ORF156",
         "-0.6514",
         "Biliary-AdenoCA",
         "0.6514",
         "FGFR2",
         "intronic",
         "False",
         "Passengers in absence of driver"
        ],
        [
         "3",
         "chr10:123245541C>T",
         "GPD1",
         "-0.5611",
         "Biliary-AdenoCA",
         "0.5611",
         "FGFR2",
         "intronic",
         "False",
         "Passengers in absence of driver"
        ],
        [
         "4",
         "chr10:123245541C>T",
         "MTHFD1",
         "-0.8425",
         "Biliary-AdenoCA",
         "0.8425",
         "FGFR2",
         "intronic",
         "False",
         "Passengers in absence of driver"
        ]
       ],
       "shape": {
        "columns": 9,
        "rows": 5
       }
      },
      "text/html": [
       "<div>\n",
       "<style scoped>\n",
       "    .dataframe tbody tr th:only-of-type {\n",
       "        vertical-align: middle;\n",
       "    }\n",
       "\n",
       "    .dataframe tbody tr th {\n",
       "        vertical-align: top;\n",
       "    }\n",
       "\n",
       "    .dataframe thead th {\n",
       "        text-align: right;\n",
       "    }\n",
       "</style>\n",
       "<table border=\"1\" class=\"dataframe\">\n",
       "  <thead>\n",
       "    <tr style=\"text-align: right;\">\n",
       "      <th></th>\n",
       "      <th>variant</th>\n",
       "      <th>tf</th>\n",
       "      <th>score</th>\n",
       "      <th>cancer_type</th>\n",
       "      <th>abs_score</th>\n",
       "      <th>gene</th>\n",
       "      <th>genic_region</th>\n",
       "      <th>driver</th>\n",
       "      <th>driver_status</th>\n",
       "    </tr>\n",
       "  </thead>\n",
       "  <tbody>\n",
       "    <tr>\n",
       "      <th>0</th>\n",
       "      <td>chr10:123245541C&gt;T</td>\n",
       "      <td>AFF4</td>\n",
       "      <td>-0.7516</td>\n",
       "      <td>Biliary-AdenoCA</td>\n",
       "      <td>0.7516</td>\n",
       "      <td>FGFR2</td>\n",
       "      <td>intronic</td>\n",
       "      <td>False</td>\n",
       "      <td>Passengers in absence of driver</td>\n",
       "    </tr>\n",
       "    <tr>\n",
       "      <th>1</th>\n",
       "      <td>chr10:123245541C&gt;T</td>\n",
       "      <td>AKR1A1</td>\n",
       "      <td>-0.8086</td>\n",
       "      <td>Biliary-AdenoCA</td>\n",
       "      <td>0.8086</td>\n",
       "      <td>FGFR2</td>\n",
       "      <td>intronic</td>\n",
       "      <td>False</td>\n",
       "      <td>Passengers in absence of driver</td>\n",
       "    </tr>\n",
       "    <tr>\n",
       "      <th>2</th>\n",
       "      <td>chr10:123245541C&gt;T</td>\n",
       "      <td>C9ORF156</td>\n",
       "      <td>-0.6514</td>\n",
       "      <td>Biliary-AdenoCA</td>\n",
       "      <td>0.6514</td>\n",
       "      <td>FGFR2</td>\n",
       "      <td>intronic</td>\n",
       "      <td>False</td>\n",
       "      <td>Passengers in absence of driver</td>\n",
       "    </tr>\n",
       "    <tr>\n",
       "      <th>3</th>\n",
       "      <td>chr10:123245541C&gt;T</td>\n",
       "      <td>GPD1</td>\n",
       "      <td>-0.5611</td>\n",
       "      <td>Biliary-AdenoCA</td>\n",
       "      <td>0.5611</td>\n",
       "      <td>FGFR2</td>\n",
       "      <td>intronic</td>\n",
       "      <td>False</td>\n",
       "      <td>Passengers in absence of driver</td>\n",
       "    </tr>\n",
       "    <tr>\n",
       "      <th>4</th>\n",
       "      <td>chr10:123245541C&gt;T</td>\n",
       "      <td>MTHFD1</td>\n",
       "      <td>-0.8425</td>\n",
       "      <td>Biliary-AdenoCA</td>\n",
       "      <td>0.8425</td>\n",
       "      <td>FGFR2</td>\n",
       "      <td>intronic</td>\n",
       "      <td>False</td>\n",
       "      <td>Passengers in absence of driver</td>\n",
       "    </tr>\n",
       "  </tbody>\n",
       "</table>\n",
       "</div>"
      ],
      "text/plain": [
       "              variant        tf   score      cancer_type  abs_score   gene  \\\n",
       "0  chr10:123245541C>T      AFF4 -0.7516  Biliary-AdenoCA     0.7516  FGFR2   \n",
       "1  chr10:123245541C>T    AKR1A1 -0.8086  Biliary-AdenoCA     0.8086  FGFR2   \n",
       "2  chr10:123245541C>T  C9ORF156 -0.6514  Biliary-AdenoCA     0.6514  FGFR2   \n",
       "3  chr10:123245541C>T      GPD1 -0.5611  Biliary-AdenoCA     0.5611  FGFR2   \n",
       "4  chr10:123245541C>T    MTHFD1 -0.8425  Biliary-AdenoCA     0.8425  FGFR2   \n",
       "\n",
       "  genic_region  driver                    driver_status  \n",
       "0     intronic   False  Passengers in absence of driver  \n",
       "1     intronic   False  Passengers in absence of driver  \n",
       "2     intronic   False  Passengers in absence of driver  \n",
       "3     intronic   False  Passengers in absence of driver  \n",
       "4     intronic   False  Passengers in absence of driver  "
      ]
     },
     "execution_count": 9,
     "metadata": {},
     "output_type": "execute_result"
    }
   ],
   "source": [
    "tfbs_selected = tfbs_df.copy()\n",
    "tfbs_selected = tfbs_selected[tfbs_selected[\"abs_score\"] > 0.5]\n",
    "tfbs_selected = pd.merge(tfbs_selected, mut_df[[\"variant\", \"gene\", \"genic_region\", \"driver\", \"driver_status\"]], on=\"variant\", how=\"inner\")\n",
    "print(tfbs_selected.shape)\n",
    "tfbs_selected.drop_duplicates(inplace=True)\n",
    "print(tfbs_selected.shape)\n",
    "tfbs_selected = tfbs_selected[~tfbs_selected[\"driver\"]]\n",
    "print(tfbs_selected.shape)\n",
    "tfbs_selected.head()"
   ]
  },
  {
   "cell_type": "code",
   "execution_count": 10,
   "metadata": {},
   "outputs": [
    {
     "name": "stdout",
     "output_type": "stream",
     "text": [
      "(82512, 6)\n",
      "(82512, 7)\n"
     ]
    },
    {
     "data": {
      "application/vnd.microsoft.datawrangler.viewer.v0+json": {
       "columns": [
        {
         "name": "index",
         "rawType": "int64",
         "type": "integer"
        },
        {
         "name": "Tumor_Sample_Barcode",
         "rawType": "object",
         "type": "string"
        },
        {
         "name": "cancer_type",
         "rawType": "object",
         "type": "string"
        },
        {
         "name": "gene",
         "rawType": "object",
         "type": "string"
        },
        {
         "name": "variant",
         "rawType": "object",
         "type": "string"
        },
        {
         "name": "driver_status",
         "rawType": "object",
         "type": "string"
        },
        {
         "name": "genic_region",
         "rawType": "object",
         "type": "string"
        },
        {
         "name": "tfbs_effect",
         "rawType": "float64",
         "type": "float"
        }
       ],
       "conversionMethod": "pd.DataFrame",
       "ref": "299e2f98-e3bb-48e8-b95f-4e2b42c6d802",
       "rows": [
        [
         "0",
         "1e2dcbcc-771c-43c5-8c8d-e0eb77cb3494",
         "Biliary-AdenoCA",
         "CDH11",
         "chr16:64995960T>A",
         "Passengers in absence of driver",
         "intronic",
         "0.709"
        ],
        [
         "1",
         "1e2dcbcc-771c-43c5-8c8d-e0eb77cb3494",
         "Biliary-AdenoCA",
         "CDH11",
         "chr16:65021115G>T",
         "Passengers in absence of driver",
         "intronic",
         "0.8161"
        ],
        [
         "2",
         "1e2dcbcc-771c-43c5-8c8d-e0eb77cb3494",
         "Biliary-AdenoCA",
         "CDH11",
         "chr16:65078980C>A",
         "Passengers in absence of driver",
         "intronic",
         "0.8741"
        ],
        [
         "3",
         "1e2dcbcc-771c-43c5-8c8d-e0eb77cb3494",
         "Biliary-AdenoCA",
         "CDH11",
         "chr16:65122834C>A",
         "Passengers in absence of driver",
         "intronic",
         "0.8733"
        ],
        [
         "4",
         "1e2dcbcc-771c-43c5-8c8d-e0eb77cb3494",
         "Biliary-AdenoCA",
         "TP53",
         "chr17:7577560A>G",
         "Drivers",
         "exonic",
         "0.8911"
        ]
       ],
       "shape": {
        "columns": 7,
        "rows": 5
       }
      },
      "text/html": [
       "<div>\n",
       "<style scoped>\n",
       "    .dataframe tbody tr th:only-of-type {\n",
       "        vertical-align: middle;\n",
       "    }\n",
       "\n",
       "    .dataframe tbody tr th {\n",
       "        vertical-align: top;\n",
       "    }\n",
       "\n",
       "    .dataframe thead th {\n",
       "        text-align: right;\n",
       "    }\n",
       "</style>\n",
       "<table border=\"1\" class=\"dataframe\">\n",
       "  <thead>\n",
       "    <tr style=\"text-align: right;\">\n",
       "      <th></th>\n",
       "      <th>Tumor_Sample_Barcode</th>\n",
       "      <th>cancer_type</th>\n",
       "      <th>gene</th>\n",
       "      <th>variant</th>\n",
       "      <th>driver_status</th>\n",
       "      <th>genic_region</th>\n",
       "      <th>tfbs_effect</th>\n",
       "    </tr>\n",
       "  </thead>\n",
       "  <tbody>\n",
       "    <tr>\n",
       "      <th>0</th>\n",
       "      <td>1e2dcbcc-771c-43c5-8c8d-e0eb77cb3494</td>\n",
       "      <td>Biliary-AdenoCA</td>\n",
       "      <td>CDH11</td>\n",
       "      <td>chr16:64995960T&gt;A</td>\n",
       "      <td>Passengers in absence of driver</td>\n",
       "      <td>intronic</td>\n",
       "      <td>0.7090</td>\n",
       "    </tr>\n",
       "    <tr>\n",
       "      <th>1</th>\n",
       "      <td>1e2dcbcc-771c-43c5-8c8d-e0eb77cb3494</td>\n",
       "      <td>Biliary-AdenoCA</td>\n",
       "      <td>CDH11</td>\n",
       "      <td>chr16:65021115G&gt;T</td>\n",
       "      <td>Passengers in absence of driver</td>\n",
       "      <td>intronic</td>\n",
       "      <td>0.8161</td>\n",
       "    </tr>\n",
       "    <tr>\n",
       "      <th>2</th>\n",
       "      <td>1e2dcbcc-771c-43c5-8c8d-e0eb77cb3494</td>\n",
       "      <td>Biliary-AdenoCA</td>\n",
       "      <td>CDH11</td>\n",
       "      <td>chr16:65078980C&gt;A</td>\n",
       "      <td>Passengers in absence of driver</td>\n",
       "      <td>intronic</td>\n",
       "      <td>0.8741</td>\n",
       "    </tr>\n",
       "    <tr>\n",
       "      <th>3</th>\n",
       "      <td>1e2dcbcc-771c-43c5-8c8d-e0eb77cb3494</td>\n",
       "      <td>Biliary-AdenoCA</td>\n",
       "      <td>CDH11</td>\n",
       "      <td>chr16:65122834C&gt;A</td>\n",
       "      <td>Passengers in absence of driver</td>\n",
       "      <td>intronic</td>\n",
       "      <td>0.8733</td>\n",
       "    </tr>\n",
       "    <tr>\n",
       "      <th>4</th>\n",
       "      <td>1e2dcbcc-771c-43c5-8c8d-e0eb77cb3494</td>\n",
       "      <td>Biliary-AdenoCA</td>\n",
       "      <td>TP53</td>\n",
       "      <td>chr17:7577560A&gt;G</td>\n",
       "      <td>Drivers</td>\n",
       "      <td>exonic</td>\n",
       "      <td>0.8911</td>\n",
       "    </tr>\n",
       "  </tbody>\n",
       "</table>\n",
       "</div>"
      ],
      "text/plain": [
       "                   Tumor_Sample_Barcode      cancer_type   gene  \\\n",
       "0  1e2dcbcc-771c-43c5-8c8d-e0eb77cb3494  Biliary-AdenoCA  CDH11   \n",
       "1  1e2dcbcc-771c-43c5-8c8d-e0eb77cb3494  Biliary-AdenoCA  CDH11   \n",
       "2  1e2dcbcc-771c-43c5-8c8d-e0eb77cb3494  Biliary-AdenoCA  CDH11   \n",
       "3  1e2dcbcc-771c-43c5-8c8d-e0eb77cb3494  Biliary-AdenoCA  CDH11   \n",
       "4  1e2dcbcc-771c-43c5-8c8d-e0eb77cb3494  Biliary-AdenoCA   TP53   \n",
       "\n",
       "             variant                    driver_status genic_region  \\\n",
       "0  chr16:64995960T>A  Passengers in absence of driver     intronic   \n",
       "1  chr16:65021115G>T  Passengers in absence of driver     intronic   \n",
       "2  chr16:65078980C>A  Passengers in absence of driver     intronic   \n",
       "3  chr16:65122834C>A  Passengers in absence of driver     intronic   \n",
       "4   chr17:7577560A>G                          Drivers       exonic   \n",
       "\n",
       "   tfbs_effect  \n",
       "0       0.7090  \n",
       "1       0.8161  \n",
       "2       0.8741  \n",
       "3       0.8733  \n",
       "4       0.8911  "
      ]
     },
     "execution_count": 10,
     "metadata": {},
     "output_type": "execute_result"
    }
   ],
   "source": [
    "# get the biggest effects for each mutation\n",
    "tfbs_max = tfbs_df.groupby(\"variant\").agg({\n",
    "    'abs_score': 'max'\n",
    "}).reset_index()\n",
    "mut_data_df = mut_df[[\"Tumor_Sample_Barcode\", \"cancer_type\", \"gene\", \"variant\", \"driver_status\", \"genic_region\"]].copy()\n",
    "print(mut_data_df.shape)\n",
    "mut_data_df[\"genic_region\"] = mut_data_df[\"genic_region\"].replace({\n",
    "    \"ncRNA_exonic\": \"ncRNA\",\n",
    "    \"ncRNA_intronic\": \"ncRNA\"\n",
    "})\n",
    "mut_data_df = mut_data_df.merge(tfbs_max, on=\"variant\", how=\"left\")\n",
    "mut_data_df.rename(columns={\"abs_score\": \"tfbs_effect\"}, inplace=True)\n",
    "mut_data_df[\"tfbs_effect\"] = mut_data_df[\"tfbs_effect\"].fillna(0)\n",
    "print(mut_data_df.shape)\n",
    "mut_data_df.head()"
   ]
  },
  {
   "cell_type": "code",
   "execution_count": 11,
   "metadata": {},
   "outputs": [
    {
     "name": "stdout",
     "output_type": "stream",
     "text": [
      "['UTR5', 'UTR3', 'ncRNA', 'exonic', 'intronic', 'upstream', 'downstream']\n",
      "[(('UTR5', 'Passengers in presence of driver'), ('UTR5', 'Passengers in absence of driver')), (('UTR3', 'Passengers in presence of driver'), ('UTR3', 'Passengers in absence of driver'))]\n",
      "p-value annotation legend:\n",
      "      ns: 5.00e-02 < p <= 1.00e+00\n",
      "       *: 1.00e-02 < p <= 5.00e-02\n",
      "      **: 1.00e-03 < p <= 1.00e-02\n",
      "     ***: 1.00e-04 < p <= 1.00e-03\n",
      "    ****: p <= 1.00e-04\n",
      "\n",
      "p-value annotation legend:\n",
      "      ns: 5.00e-02 < p <= 1.00e+00\n",
      "       *: 1.00e-02 < p <= 5.00e-02\n",
      "      **: 1.00e-03 < p <= 1.00e-02\n",
      "     ***: 1.00e-04 < p <= 1.00e-03\n",
      "    ****: p <= 1.00e-04\n",
      "\n"
     ]
    },
    {
     "data": {
      "image/png": "[encoded data removed]",
      "text/plain": [
       "<Figure size 1500x600 with 1 Axes>"
      ]
     },
     "metadata": {},
     "output_type": "display_data"
    }
   ],
   "source": [
    "plt.figure(figsize=(15, 6))\n",
    "hue_order = [\"Passengers in presence of driver\", \"Passengers in absence of driver\", \"Drivers\"]\n",
    "colors = [\"#CC6677\", \"#106C9A\", \"#529267\"]\n",
    "cmap = sns.color_palette(colors)\n",
    "\n",
    "genic_regions = [\"UTR5\", \"UTR3\", \"ncRNA\", \"exonic\", \"intronic\", \"upstream\", \"downstream\"]\n",
    "print(genic_regions)\n",
    "\n",
    "sns.boxplot(\n",
    "\tx=\"genic_region\",\n",
    "\ty=\"tfbs_effect\",\n",
    "    hue=\"driver_status\",\n",
    "\tdata=mut_data_df,\n",
    "\tpalette=cmap,\n",
    "\torder=genic_regions,\n",
    "\thue_order=hue_order,\n",
    "\tshowfliers=False,\n",
    ")\n",
    "plt.xlabel(\"\")\n",
    "plt.xticks(fontsize=12, rotation=90)\n",
    "plt.ylabel(\"TFBS change score\", fontsize=12, labelpad=10)\n",
    "plt.yticks(fontsize=12)\n",
    "plt.legend(title=\"Mutation status\", fontsize=12, title_fontsize='12')\n",
    "# plt.legend([])\n",
    "\n",
    "# get statistical significance annotations\n",
    "box_pairs = []\n",
    "for region in genic_regions:\n",
    "\tregion_data = mut_data_df[mut_data_df[\"genic_region\"] == region]\n",
    "\tif \"Passengers in presence of driver\" in region_data[\"driver_status\"].unique().tolist() \\\n",
    "\t\t\tand \"Passengers in absence of driver\" in region_data[\"driver_status\"].unique().tolist():\n",
    "\t\tbox_pairs.append(((region, \"Passengers in presence of driver\"), (region, \"Passengers in absence of driver\")))\n",
    "\telse:\n",
    "\t\tcontinue\n",
    "print(box_pairs[:2])\n",
    "\n",
    "annotator = Annotator(\n",
    "    plt.gca(),\n",
    "\tx=\"genic_region\",\n",
    "\ty=\"tfbs_effect\",\n",
    "    hue=\"driver_status\",\n",
    "\tdata=mut_data_df,\n",
    "    order=genic_regions,\n",
    "\thue_order=hue_order,\n",
    "    pairs=box_pairs\n",
    ")\n",
    "annotator.configure(test='Mann-Whitney-gt', text_format='star', loc='outside', hide_non_significant=True, color=colors[0])\n",
    "annotator.configure(comparisons_correction=\"fdr_bh\", verbose=2)\n",
    "annotator.apply_test().annotate()\n",
    "annotator.configure(test='Mann-Whitney-ls', text_format='star', loc='outside', hide_non_significant=True, color=colors[1])\n",
    "annotator.configure(comparisons_correction=\"fdr_bh\", verbose=2)\n",
    "annotator.apply_test().annotate()\n",
    "\n",
    "plt.tight_layout()"
   ]
  },
  {
   "cell_type": "code",
   "execution_count": 12,
   "metadata": {},
   "outputs": [
    {
     "name": "stdout",
     "output_type": "stream",
     "text": [
      "(412, 7)\n"
     ]
    },
    {
     "data": {
      "application/vnd.microsoft.datawrangler.viewer.v0+json": {
       "columns": [
        {
         "name": "index",
         "rawType": "int64",
         "type": "integer"
        },
        {
         "name": "Tumor_Sample_Barcode",
         "rawType": "object",
         "type": "string"
        },
        {
         "name": "cancer_type",
         "rawType": "object",
         "type": "string"
        },
        {
         "name": "gene",
         "rawType": "object",
         "type": "string"
        },
        {
         "name": "variant",
         "rawType": "object",
         "type": "string"
        },
        {
         "name": "driver_status",
         "rawType": "object",
         "type": "string"
        },
        {
         "name": "genic_region",
         "rawType": "object",
         "type": "string"
        },
        {
         "name": "tfbs_effect",
         "rawType": "float64",
         "type": "float"
        }
       ],
       "conversionMethod": "pd.DataFrame",
       "ref": "0d653aea-96c0-4506-b7a1-5255ac753dea",
       "rows": [
        [
         "324",
         "0c7aca3f-e006-4de3-afc2-20b4f727d4fd",
         "Bladder-TCC",
         "TERT",
         "chr5:1295250G>A",
         "Drivers",
         "upstream",
         "0.8873"
        ],
        [
         "350",
         "2b142863-b963-4cc9-8f8f-c72503c93390",
         "Bladder-TCC",
         "TERT",
         "chr5:1295250G>A",
         "Drivers",
         "upstream",
         "0.8873"
        ],
        [
         "360",
         "301d6ce3-4099-4c1d-8e50-c04b7ce91450",
         "Bladder-TCC",
         "KMT2D",
         "chr12:49449996G>C",
         "Passengers in absence of driver",
         "upstream",
         "0.8372"
        ],
        [
         "383",
         "301d6ce3-4099-4c1d-8e50-c04b7ce91450",
         "Bladder-TCC",
         "FGFR3",
         "chr4:1794415C>T",
         "Passengers in presence of driver",
         "upstream",
         "0.7246"
        ],
        [
         "388",
         "301d6ce3-4099-4c1d-8e50-c04b7ce91450",
         "Bladder-TCC",
         "TERT",
         "chr5:1295228G>A",
         "Drivers",
         "upstream",
         "0.8398"
        ]
       ],
       "shape": {
        "columns": 7,
        "rows": 5
       }
      },
      "text/html": [
       "<div>\n",
       "<style scoped>\n",
       "    .dataframe tbody tr th:only-of-type {\n",
       "        vertical-align: middle;\n",
       "    }\n",
       "\n",
       "    .dataframe tbody tr th {\n",
       "        vertical-align: top;\n",
       "    }\n",
       "\n",
       "    .dataframe thead th {\n",
       "        text-align: right;\n",
       "    }\n",
       "</style>\n",
       "<table border=\"1\" class=\"dataframe\">\n",
       "  <thead>\n",
       "    <tr style=\"text-align: right;\">\n",
       "      <th></th>\n",
       "      <th>Tumor_Sample_Barcode</th>\n",
       "      <th>cancer_type</th>\n",
       "      <th>gene</th>\n",
       "      <th>variant</th>\n",
       "      <th>driver_status</th>\n",
       "      <th>genic_region</th>\n",
       "      <th>tfbs_effect</th>\n",
       "    </tr>\n",
       "  </thead>\n",
       "  <tbody>\n",
       "    <tr>\n",
       "      <th>324</th>\n",
       "      <td>0c7aca3f-e006-4de3-afc2-20b4f727d4fd</td>\n",
       "      <td>Bladder-TCC</td>\n",
       "      <td>TERT</td>\n",
       "      <td>chr5:1295250G&gt;A</td>\n",
       "      <td>Drivers</td>\n",
       "      <td>upstream</td>\n",
       "      <td>0.8873</td>\n",
       "    </tr>\n",
       "    <tr>\n",
       "      <th>350</th>\n",
       "      <td>2b142863-b963-4cc9-8f8f-c72503c93390</td>\n",
       "      <td>Bladder-TCC</td>\n",
       "      <td>TERT</td>\n",
       "      <td>chr5:1295250G&gt;A</td>\n",
       "      <td>Drivers</td>\n",
       "      <td>upstream</td>\n",
       "      <td>0.8873</td>\n",
       "    </tr>\n",
       "    <tr>\n",
       "      <th>360</th>\n",
       "      <td>301d6ce3-4099-4c1d-8e50-c04b7ce91450</td>\n",
       "      <td>Bladder-TCC</td>\n",
       "      <td>KMT2D</td>\n",
       "      <td>chr12:49449996G&gt;C</td>\n",
       "      <td>Passengers in absence of driver</td>\n",
       "      <td>upstream</td>\n",
       "      <td>0.8372</td>\n",
       "    </tr>\n",
       "    <tr>\n",
       "      <th>383</th>\n",
       "      <td>301d6ce3-4099-4c1d-8e50-c04b7ce91450</td>\n",
       "      <td>Bladder-TCC</td>\n",
       "      <td>FGFR3</td>\n",
       "      <td>chr4:1794415C&gt;T</td>\n",
       "      <td>Passengers in presence of driver</td>\n",
       "      <td>upstream</td>\n",
       "      <td>0.7246</td>\n",
       "    </tr>\n",
       "    <tr>\n",
       "      <th>388</th>\n",
       "      <td>301d6ce3-4099-4c1d-8e50-c04b7ce91450</td>\n",
       "      <td>Bladder-TCC</td>\n",
       "      <td>TERT</td>\n",
       "      <td>chr5:1295228G&gt;A</td>\n",
       "      <td>Drivers</td>\n",
       "      <td>upstream</td>\n",
       "      <td>0.8398</td>\n",
       "    </tr>\n",
       "  </tbody>\n",
       "</table>\n",
       "</div>"
      ],
      "text/plain": [
       "                     Tumor_Sample_Barcode  cancer_type   gene  \\\n",
       "324  0c7aca3f-e006-4de3-afc2-20b4f727d4fd  Bladder-TCC   TERT   \n",
       "350  2b142863-b963-4cc9-8f8f-c72503c93390  Bladder-TCC   TERT   \n",
       "360  301d6ce3-4099-4c1d-8e50-c04b7ce91450  Bladder-TCC  KMT2D   \n",
       "383  301d6ce3-4099-4c1d-8e50-c04b7ce91450  Bladder-TCC  FGFR3   \n",
       "388  301d6ce3-4099-4c1d-8e50-c04b7ce91450  Bladder-TCC   TERT   \n",
       "\n",
       "               variant                     driver_status genic_region  \\\n",
       "324    chr5:1295250G>A                           Drivers     upstream   \n",
       "350    chr5:1295250G>A                           Drivers     upstream   \n",
       "360  chr12:49449996G>C   Passengers in absence of driver     upstream   \n",
       "383    chr4:1794415C>T  Passengers in presence of driver     upstream   \n",
       "388    chr5:1295228G>A                           Drivers     upstream   \n",
       "\n",
       "     tfbs_effect  \n",
       "324       0.8873  \n",
       "350       0.8873  \n",
       "360       0.8372  \n",
       "383       0.7246  \n",
       "388       0.8398  "
      ]
     },
     "execution_count": 12,
     "metadata": {},
     "output_type": "execute_result"
    }
   ],
   "source": [
    "# get mutations in promoter (upstream) regions\n",
    "mut_data_df = mut_data_df[mut_data_df[\"genic_region\"] == \"upstream\"]\n",
    "# mut_data_df = mut_data_df[mut_data_df[\"tfbs_effect\"] >= 0.2]\n",
    "print(mut_data_df.shape)\n",
    "mut_data_df.head()"
   ]
  },
  {
   "cell_type": "code",
   "execution_count": 13,
   "metadata": {},
   "outputs": [
    {
     "data": {
      "application/vnd.microsoft.datawrangler.viewer.v0+json": {
       "columns": [
        {
         "name": "index",
         "rawType": "int64",
         "type": "integer"
        },
        {
         "name": "cancer_type",
         "rawType": "object",
         "type": "string"
        },
        {
         "name": "driver_status",
         "rawType": "object",
         "type": "string"
        },
        {
         "name": "tfbs_effect",
         "rawType": "float64",
         "type": "float"
        }
       ],
       "conversionMethod": "pd.DataFrame",
       "ref": "93ad8c26-66ba-4eca-bd4f-d9d61570d9a1",
       "rows": [
        [
         "0",
         "Bladder-TCC",
         "Drivers",
         "0.8504"
        ],
        [
         "1",
         "Bladder-TCC",
         "Passengers in absence of driver",
         "0.81215"
        ],
        [
         "2",
         "Bladder-TCC",
         "Passengers in presence of driver",
         "0.7246"
        ],
        [
         "3",
         "Bone-Leiomyo",
         "Passengers in absence of driver",
         "0.7437499999999999"
        ],
        [
         "4",
         "Breast-AdenoCa",
         "Passengers in absence of driver",
         "0.7586"
        ]
       ],
       "shape": {
        "columns": 3,
        "rows": 5
       }
      },
      "text/html": [
       "<div>\n",
       "<style scoped>\n",
       "    .dataframe tbody tr th:only-of-type {\n",
       "        vertical-align: middle;\n",
       "    }\n",
       "\n",
       "    .dataframe tbody tr th {\n",
       "        vertical-align: top;\n",
       "    }\n",
       "\n",
       "    .dataframe thead th {\n",
       "        text-align: right;\n",
       "    }\n",
       "</style>\n",
       "<table border=\"1\" class=\"dataframe\">\n",
       "  <thead>\n",
       "    <tr style=\"text-align: right;\">\n",
       "      <th></th>\n",
       "      <th>cancer_type</th>\n",
       "      <th>driver_status</th>\n",
       "      <th>tfbs_effect</th>\n",
       "    </tr>\n",
       "  </thead>\n",
       "  <tbody>\n",
       "    <tr>\n",
       "      <th>0</th>\n",
       "      <td>Bladder-TCC</td>\n",
       "      <td>Drivers</td>\n",
       "      <td>0.85040</td>\n",
       "    </tr>\n",
       "    <tr>\n",
       "      <th>1</th>\n",
       "      <td>Bladder-TCC</td>\n",
       "      <td>Passengers in absence of driver</td>\n",
       "      <td>0.81215</td>\n",
       "    </tr>\n",
       "    <tr>\n",
       "      <th>2</th>\n",
       "      <td>Bladder-TCC</td>\n",
       "      <td>Passengers in presence of driver</td>\n",
       "      <td>0.72460</td>\n",
       "    </tr>\n",
       "    <tr>\n",
       "      <th>3</th>\n",
       "      <td>Bone-Leiomyo</td>\n",
       "      <td>Passengers in absence of driver</td>\n",
       "      <td>0.74375</td>\n",
       "    </tr>\n",
       "    <tr>\n",
       "      <th>4</th>\n",
       "      <td>Breast-AdenoCa</td>\n",
       "      <td>Passengers in absence of driver</td>\n",
       "      <td>0.75860</td>\n",
       "    </tr>\n",
       "  </tbody>\n",
       "</table>\n",
       "</div>"
      ],
      "text/plain": [
       "      cancer_type                     driver_status  tfbs_effect\n",
       "0     Bladder-TCC                           Drivers      0.85040\n",
       "1     Bladder-TCC   Passengers in absence of driver      0.81215\n",
       "2     Bladder-TCC  Passengers in presence of driver      0.72460\n",
       "3    Bone-Leiomyo   Passengers in absence of driver      0.74375\n",
       "4  Breast-AdenoCa   Passengers in absence of driver      0.75860"
      ]
     },
     "execution_count": 13,
     "metadata": {},
     "output_type": "execute_result"
    }
   ],
   "source": [
    "mut_data_cancer_df = mut_data_df.groupby([\"cancer_type\", \"driver_status\"]).agg({\n",
    "\t\"tfbs_effect\": \"mean\",\n",
    "}).reset_index()\n",
    "mut_data_cancer_df.head()"
   ]
  },
  {
   "cell_type": "code",
   "execution_count": 23,
   "metadata": {},
   "outputs": [
    {
     "name": "stdout",
     "output_type": "stream",
     "text": [
      "p-value annotation legend:\n",
      "      ns: 5.00e-02 < p <= 1.00e+00\n",
      "       *: 1.00e-02 < p <= 5.00e-02\n",
      "      **: 1.00e-03 < p <= 1.00e-02\n",
      "     ***: 1.00e-04 < p <= 1.00e-03\n",
      "    ****: p <= 1.00e-04\n",
      "\n",
      "p-value annotation legend:\n",
      "      ns: 5.00e-02 < p <= 1.00e+00\n",
      "       *: 1.00e-02 < p <= 5.00e-02\n",
      "      **: 1.00e-03 < p <= 1.00e-02\n",
      "     ***: 1.00e-04 < p <= 1.00e-03\n",
      "    ****: p <= 1.00e-04\n",
      "\n",
      "Passengers in presence of driver vs. Passengers in absence of driver: Mann-Whitney-Wilcoxon test smaller with Benjamini-Hochberg correction, P_val:4.399e-02 U_stat=1.587e+03\n",
      "Passengers in absence of driver vs. Drivers: Mann-Whitney-Wilcoxon test smaller with Benjamini-Hochberg correction, P_val:2.494e-03 U_stat=1.430e+04\n"
     ]
    },
    {
     "data": {
      "image/png": "[encoded data removed]",
      "text/plain": [
       "<Figure size 600x500 with 1 Axes>"
      ]
     },
     "metadata": {},
     "output_type": "display_data"
    }
   ],
   "source": [
    "# add grid lines\n",
    "fig, ax = plt.subplots(figsize=(6, 5))\n",
    "order = [\"Passengers in presence of driver\", \"Passengers in absence of driver\", \"Drivers\"]\n",
    "colors = [\"#CC6677\", \"#106C9A\", \"#529267\"]\n",
    "cmap = sns.color_palette(colors)\n",
    "ax.grid(axis='y', alpha=0.4)\n",
    "sns.boxplot(\n",
    "    x=\"driver_status\",\n",
    "\ty=\"tfbs_effect\",\n",
    "\tdata=mut_data_df,\n",
    "\tpalette=cmap,\n",
    "\torder=order,\n",
    "\tshowfliers=False,\n",
    ")\n",
    "plt.xlabel(\"\")\n",
    "plt.ylabel(\"Effect on Transcription Factor Binding\", fontsize=14, labelpad=10)\n",
    "plt.yticks(fontsize=13)\n",
    "# change x labels\n",
    "plt.xticks(ticks=[0, 1, 2], labels=[\"Passengers\\nin presence\\nof driver\", \"Passengers\\nin absence\\nof driver\", \"Drivers\"], fontsize=14)\n",
    "\n",
    "\n",
    "# get statistical significance annotations\n",
    "box_pairs = [(\"Passengers in presence of driver\", \"Passengers in absence of driver\"), \\\n",
    "              (\"Passengers in absence of driver\", \"Drivers\")]\n",
    "\n",
    "annotator = Annotator(\n",
    "    plt.gca(),\n",
    "    x=\"driver_status\",\n",
    "\ty=\"tfbs_effect\",\n",
    "\tdata=mut_data_df,\n",
    "    order=order,\n",
    "    pairs=box_pairs\n",
    ")\n",
    "annotator.configure(test='Mann-Whitney-gt', text_format='star', loc='outside', hide_non_significant=True, color=colors[0])\n",
    "annotator.configure(comparisons_correction=\"fdr_bh\", verbose=2)\n",
    "annotator.apply_test().annotate()\n",
    "annotator.configure(test='Mann-Whitney-ls', text_format='star', loc='outside', hide_non_significant=True, color=colors[1])\n",
    "annotator.configure(comparisons_correction=\"fdr_bh\", verbose=2)\n",
    "annotator.apply_test().annotate()\n",
    "\n",
    "plt.tight_layout()\n",
    "plt.savefig(f\"{TFBS_CHANGES}/Pancancer.png\", dpi=300)"
   ]
  },
  {
   "cell_type": "code",
   "execution_count": 16,
   "metadata": {},
   "outputs": [
    {
     "data": {
      "application/vnd.microsoft.datawrangler.viewer.v0+json": {
       "columns": [
        {
         "name": "index",
         "rawType": "int64",
         "type": "integer"
        },
        {
         "name": "Tumor_Sample_Barcode",
         "rawType": "object",
         "type": "string"
        },
        {
         "name": "driver_status",
         "rawType": "object",
         "type": "string"
        },
        {
         "name": "tfbs_effect",
         "rawType": "float64",
         "type": "float"
        },
        {
         "name": "cancer_type",
         "rawType": "object",
         "type": "string"
        }
       ],
       "conversionMethod": "pd.DataFrame",
       "ref": "5c2bd350-fd5a-4d6a-abd0-1e59e6381034",
       "rows": [
        [
         "0",
         "0040b1b6-b07a-4b6e-90ef-133523eaf412",
         "Drivers",
         "0.8398",
         "Liver-HCC"
        ],
        [
         "1",
         "02917220-6a7a-46a1-8656-907e96bef88e",
         "Passengers in absence of driver",
         "0.8247333333333334",
         "Lymph-BNHL"
        ],
        [
         "2",
         "0332b017-17d5-4083-8fc4-9d6f8fdbbbde",
         "Drivers",
         "0.8398",
         "CNS-GBM"
        ],
        [
         "3",
         "03ad38a6-0902-4aaa-84a3-91ea88fa9883",
         "Passengers in absence of driver",
         "0.8892",
         "Lymph-BNHL"
        ],
        [
         "4",
         "03c88506-d72e-4a44-a34e-a7f0564f1799",
         "Drivers",
         "0.8398",
         "Liver-HCC"
        ]
       ],
       "shape": {
        "columns": 4,
        "rows": 5
       }
      },
      "text/html": [
       "<div>\n",
       "<style scoped>\n",
       "    .dataframe tbody tr th:only-of-type {\n",
       "        vertical-align: middle;\n",
       "    }\n",
       "\n",
       "    .dataframe tbody tr th {\n",
       "        vertical-align: top;\n",
       "    }\n",
       "\n",
       "    .dataframe thead th {\n",
       "        text-align: right;\n",
       "    }\n",
       "</style>\n",
       "<table border=\"1\" class=\"dataframe\">\n",
       "  <thead>\n",
       "    <tr style=\"text-align: right;\">\n",
       "      <th></th>\n",
       "      <th>Tumor_Sample_Barcode</th>\n",
       "      <th>driver_status</th>\n",
       "      <th>tfbs_effect</th>\n",
       "      <th>cancer_type</th>\n",
       "    </tr>\n",
       "  </thead>\n",
       "  <tbody>\n",
       "    <tr>\n",
       "      <th>0</th>\n",
       "      <td>0040b1b6-b07a-4b6e-90ef-133523eaf412</td>\n",
       "      <td>Drivers</td>\n",
       "      <td>0.839800</td>\n",
       "      <td>Liver-HCC</td>\n",
       "    </tr>\n",
       "    <tr>\n",
       "      <th>1</th>\n",
       "      <td>02917220-6a7a-46a1-8656-907e96bef88e</td>\n",
       "      <td>Passengers in absence of driver</td>\n",
       "      <td>0.824733</td>\n",
       "      <td>Lymph-BNHL</td>\n",
       "    </tr>\n",
       "    <tr>\n",
       "      <th>2</th>\n",
       "      <td>0332b017-17d5-4083-8fc4-9d6f8fdbbbde</td>\n",
       "      <td>Drivers</td>\n",
       "      <td>0.839800</td>\n",
       "      <td>CNS-GBM</td>\n",
       "    </tr>\n",
       "    <tr>\n",
       "      <th>3</th>\n",
       "      <td>03ad38a6-0902-4aaa-84a3-91ea88fa9883</td>\n",
       "      <td>Passengers in absence of driver</td>\n",
       "      <td>0.889200</td>\n",
       "      <td>Lymph-BNHL</td>\n",
       "    </tr>\n",
       "    <tr>\n",
       "      <th>4</th>\n",
       "      <td>03c88506-d72e-4a44-a34e-a7f0564f1799</td>\n",
       "      <td>Drivers</td>\n",
       "      <td>0.839800</td>\n",
       "      <td>Liver-HCC</td>\n",
       "    </tr>\n",
       "  </tbody>\n",
       "</table>\n",
       "</div>"
      ],
      "text/plain": [
       "                   Tumor_Sample_Barcode                    driver_status  \\\n",
       "0  0040b1b6-b07a-4b6e-90ef-133523eaf412                          Drivers   \n",
       "1  02917220-6a7a-46a1-8656-907e96bef88e  Passengers in absence of driver   \n",
       "2  0332b017-17d5-4083-8fc4-9d6f8fdbbbde                          Drivers   \n",
       "3  03ad38a6-0902-4aaa-84a3-91ea88fa9883  Passengers in absence of driver   \n",
       "4  03c88506-d72e-4a44-a34e-a7f0564f1799                          Drivers   \n",
       "\n",
       "   tfbs_effect cancer_type  \n",
       "0     0.839800   Liver-HCC  \n",
       "1     0.824733  Lymph-BNHL  \n",
       "2     0.839800     CNS-GBM  \n",
       "3     0.889200  Lymph-BNHL  \n",
       "4     0.839800   Liver-HCC  "
      ]
     },
     "execution_count": 16,
     "metadata": {},
     "output_type": "execute_result"
    }
   ],
   "source": [
    "mut_data_sample_df = mut_data_df.groupby([\"Tumor_Sample_Barcode\", \"driver_status\"]).agg({\n",
    "\t\"tfbs_effect\": \"mean\",\n",
    "    \"cancer_type\": \"first\",\n",
    "}).reset_index()\n",
    "mut_data_sample_df.head()"
   ]
  },
  {
   "cell_type": "code",
   "execution_count": 17,
   "metadata": {},
   "outputs": [
    {
     "name": "stdout",
     "output_type": "stream",
     "text": [
      "['Bladder', 'Bone', 'Breast', 'CNS', 'ColoRect', 'Eso', 'Head', 'Kidney', 'Liver', 'Lung', 'Lymph', 'Ovary', 'Panc', 'Prost', 'Skin', 'Stomach', 'Thy', 'Uterus']\n",
      "[(('Bladder', 'Passengers in presence of driver'), ('Bladder', 'Passengers in absence of driver')), (('CNS', 'Passengers in presence of driver'), ('CNS', 'Passengers in absence of driver'))]\n",
      "p-value annotation legend:\n",
      "      ns: 5.00e-02 < p <= 1.00e+00\n",
      "       *: 1.00e-02 < p <= 5.00e-02\n",
      "      **: 1.00e-03 < p <= 1.00e-02\n",
      "     ***: 1.00e-04 < p <= 1.00e-03\n",
      "    ****: p <= 1.00e-04\n",
      "\n"
     ]
    },
    {
     "name": "stderr",
     "output_type": "stream",
     "text": [
      "/Users/akshatha/miniforge3/envs/cancer-model/lib/python3.9/site-packages/statannotations/stats/StatTest.py:77: RuntimeWarning: Precision loss occurred in moment calculation due to catastrophic cancellation. This occurs when the data are nearly identical. Results may be unreliable.\n",
      "  stat, pval = self._func(group_data1, group_data2, *self.args,\n",
      "/Users/akshatha/miniforge3/envs/cancer-model/lib/python3.9/site-packages/scipy/stats/_stats_py.py:1253: RuntimeWarning: divide by zero encountered in divide\n",
      "  var *= np.divide(n, n-ddof)  # to avoid error on division by zero\n",
      "/Users/akshatha/miniforge3/envs/cancer-model/lib/python3.9/site-packages/scipy/stats/_stats_py.py:1253: RuntimeWarning: invalid value encountered in scalar multiply\n",
      "  var *= np.divide(n, n-ddof)  # to avoid error on division by zero\n"
     ]
    },
    {
     "data": {
      "image/png": "[encoded data removed]",
      "text/plain": [
       "<Figure size 1500x600 with 1 Axes>"
      ]
     },
     "metadata": {},
     "output_type": "display_data"
    }
   ],
   "source": [
    "plt.figure(figsize=(15, 6))\n",
    "hue_order = [\"Passengers in presence of driver\", \"Passengers in absence of driver\"]\n",
    "colors = [\"#CC6677\", \"#106C9A\", \"#529267\"]\n",
    "cmap = sns.color_palette(colors)\n",
    "\n",
    "mut_data_sample_df[\"organ\"] = mut_data_sample_df[\"cancer_type\"].apply(lambda x: x.split(\"-\")[0])\n",
    "cancers = mut_data_sample_df[\"organ\"].unique().tolist()\n",
    "cancers.sort()\n",
    "print(cancers)\n",
    "\n",
    "\n",
    "ax = sns.boxplot(\n",
    "\tx=\"organ\",\n",
    "\ty=\"tfbs_effect\",\n",
    "    hue=\"driver_status\",\n",
    "\tdata=mut_data_sample_df,\n",
    "\tpalette=cmap,\n",
    "\torder=cancers,\n",
    "\thue_order=hue_order,\n",
    "\tshowfliers=False,\n",
    ")\n",
    "plt.xlabel(\"\")\n",
    "plt.xticks(fontsize=12, rotation=90)\n",
    "plt.ylabel(\"Effect on Transcription Factor Binding\", fontsize=12, labelpad=10)\n",
    "plt.yticks(fontsize=12)\n",
    "plt.legend(title=\"Mutation status\", fontsize=12, title_fontsize='12')\n",
    "\n",
    "# add grid lines\n",
    "ax.grid(axis='y', alpha=0.3)\n",
    "for i in range(len(cancers) - 1):\n",
    "\tax.axvline(i + 0.5, color='black', lw=0.5, alpha=0.3)\n",
    "\n",
    "# get statistical significance annotations\n",
    "box_pairs = []\n",
    "for cancer in cancers:\n",
    "\tcancer_data = mut_data_sample_df[mut_data_sample_df[\"organ\"] == cancer]\n",
    "\tif \"Passengers in presence of driver\" in cancer_data[\"driver_status\"].unique().tolist() \\\n",
    "\t\t\tand \"Passengers in absence of driver\" in cancer_data[\"driver_status\"].unique().tolist():\n",
    "\t\tbox_pairs.append(((cancer, \"Passengers in presence of driver\"), (cancer, \"Passengers in absence of driver\")))\n",
    "\telse:\n",
    "\t\tcontinue\n",
    "print(box_pairs[:2])\n",
    "\n",
    "annotator = Annotator(\n",
    "    plt.gca(),\n",
    "\tx=\"organ\",\n",
    "\ty=\"tfbs_effect\",\n",
    "    hue=\"driver_status\",\n",
    "\tdata=mut_data_sample_df,\n",
    "    order=cancers,\n",
    "\thue_order=hue_order,\n",
    "    pairs=box_pairs\n",
    ")\n",
    "annotator.configure(test='t-test_ind', text_format='star', loc='outside', hide_non_significant=True, color='black')\n",
    "annotator.configure(comparisons_correction=\"fdr_bh\", verbose=2)\n",
    "annotator.apply_test().annotate()\n",
    "\n",
    "plt.tight_layout()\n",
    "# plt.savefig(f\"{TFBS_CHANGES}/all_cancers.png\", dpi=300)"
   ]
  },
  {
   "cell_type": "code",
   "execution_count": 19,
   "metadata": {},
   "outputs": [
    {
     "name": "stdout",
     "output_type": "stream",
     "text": [
      "['ROBO2', 'APC', 'CSMD3', 'CYP2C8', 'TERT', 'BCL2']\n"
     ]
    },
    {
     "data": {
      "application/vnd.microsoft.datawrangler.viewer.v0+json": {
       "columns": [
        {
         "name": "index",
         "rawType": "int64",
         "type": "integer"
        },
        {
         "name": "gene",
         "rawType": "object",
         "type": "string"
        },
        {
         "name": "cancer_type",
         "rawType": "object",
         "type": "string"
        },
        {
         "name": "Tumor_Sample_Barcode",
         "rawType": "int64",
         "type": "integer"
        }
       ],
       "conversionMethod": "pd.DataFrame",
       "ref": "a32e9d44-c078-4f36-a9d8-92ce94f99136",
       "rows": [
        [
         "0",
         "APC",
         "['ColoRect-AdenoCA' 'Eso-AdenoCa' 'Liver-HCC']",
         "6"
        ],
        [
         "1",
         "ARID1A",
         "['Liver-HCC' 'Lymph-BNHL' 'Uterus-AdenoCA']",
         "4"
        ],
        [
         "2",
         "ARID2",
         "['Liver-HCC' 'Skin-Melanoma']",
         "2"
        ],
        [
         "3",
         "AXIN1",
         "['Liver-HCC']",
         "1"
        ],
        [
         "4",
         "BCL2",
         "['Lymph-BNHL']",
         "38"
        ]
       ],
       "shape": {
        "columns": 3,
        "rows": 5
       }
      },
      "text/html": [
       "<div>\n",
       "<style scoped>\n",
       "    .dataframe tbody tr th:only-of-type {\n",
       "        vertical-align: middle;\n",
       "    }\n",
       "\n",
       "    .dataframe tbody tr th {\n",
       "        vertical-align: top;\n",
       "    }\n",
       "\n",
       "    .dataframe thead th {\n",
       "        text-align: right;\n",
       "    }\n",
       "</style>\n",
       "<table border=\"1\" class=\"dataframe\">\n",
       "  <thead>\n",
       "    <tr style=\"text-align: right;\">\n",
       "      <th></th>\n",
       "      <th>gene</th>\n",
       "      <th>cancer_type</th>\n",
       "      <th>Tumor_Sample_Barcode</th>\n",
       "    </tr>\n",
       "  </thead>\n",
       "  <tbody>\n",
       "    <tr>\n",
       "      <th>0</th>\n",
       "      <td>APC</td>\n",
       "      <td>[ColoRect-AdenoCA, Eso-AdenoCa, Liver-HCC]</td>\n",
       "      <td>6</td>\n",
       "    </tr>\n",
       "    <tr>\n",
       "      <th>1</th>\n",
       "      <td>ARID1A</td>\n",
       "      <td>[Liver-HCC, Lymph-BNHL, Uterus-AdenoCA]</td>\n",
       "      <td>4</td>\n",
       "    </tr>\n",
       "    <tr>\n",
       "      <th>2</th>\n",
       "      <td>ARID2</td>\n",
       "      <td>[Liver-HCC, Skin-Melanoma]</td>\n",
       "      <td>2</td>\n",
       "    </tr>\n",
       "    <tr>\n",
       "      <th>3</th>\n",
       "      <td>AXIN1</td>\n",
       "      <td>[Liver-HCC]</td>\n",
       "      <td>1</td>\n",
       "    </tr>\n",
       "    <tr>\n",
       "      <th>4</th>\n",
       "      <td>BCL2</td>\n",
       "      <td>[Lymph-BNHL]</td>\n",
       "      <td>38</td>\n",
       "    </tr>\n",
       "  </tbody>\n",
       "</table>\n",
       "</div>"
      ],
      "text/plain": [
       "     gene                                 cancer_type  Tumor_Sample_Barcode\n",
       "0     APC  [ColoRect-AdenoCA, Eso-AdenoCa, Liver-HCC]                     6\n",
       "1  ARID1A     [Liver-HCC, Lymph-BNHL, Uterus-AdenoCA]                     4\n",
       "2   ARID2                  [Liver-HCC, Skin-Melanoma]                     2\n",
       "3   AXIN1                                 [Liver-HCC]                     1\n",
       "4    BCL2                                [Lymph-BNHL]                    38"
      ]
     },
     "execution_count": 19,
     "metadata": {},
     "output_type": "execute_result"
    }
   ],
   "source": [
    "# get genes with atleast 5 mutations\n",
    "genes = mut_data_df[\"gene\"].unique().tolist()\n",
    "gene_counts = mut_data_df[\"gene\"].value_counts()\n",
    "# print(gene_counts)\n",
    "gene_counts = gene_counts[gene_counts >= 5]\n",
    "genes = gene_counts.index.tolist()\n",
    "genes.reverse()\n",
    "print(genes)\n",
    "cancer_gene_count = mut_data_df.groupby(\"gene\").agg({\n",
    "    \"cancer_type\": lambda x: x.unique(),\n",
    "\t\"Tumor_Sample_Barcode\": \"nunique\",\n",
    "}).reset_index()\n",
    "cancer_gene_count.head()\n"
   ]
  },
  {
   "cell_type": "code",
   "execution_count": 29,
   "metadata": {},
   "outputs": [
    {
     "name": "stdout",
     "output_type": "stream",
     "text": [
      "[(('APC', 'Passengers in presence of driver'), ('APC', 'Passengers in absence of driver')), (('TERT', 'Passengers in presence of driver'), ('TERT', 'Passengers in absence of driver'))]\n",
      "p-value annotation legend:\n",
      "      ns: 5.00e-02 < p <= 1.00e+00\n",
      "       *: 1.00e-02 < p <= 5.00e-02\n",
      "      **: 1.00e-03 < p <= 1.00e-02\n",
      "     ***: 1.00e-04 < p <= 1.00e-03\n",
      "    ****: p <= 1.00e-04\n",
      "\n",
      "p-value annotation legend:\n",
      "      ns: 5.00e-02 < p <= 1.00e+00\n",
      "       *: 1.00e-02 < p <= 5.00e-02\n",
      "      **: 1.00e-03 < p <= 1.00e-02\n",
      "     ***: 1.00e-04 < p <= 1.00e-03\n",
      "    ****: p <= 1.00e-04\n",
      "\n"
     ]
    },
    {
     "data": {
      "image/png": "[encoded data removed]",
      "text/plain": [
       "<Figure size 700x500 with 1 Axes>"
      ]
     },
     "metadata": {},
     "output_type": "display_data"
    }
   ],
   "source": [
    "plt_len = max(len(genes), 8) - 1\n",
    "plt.figure(figsize=(plt_len, 5))\n",
    "hue_order = [\"Passengers in presence of driver\", \"Passengers in absence of driver\"]\n",
    "colors = [\"#CC6677\", \"#106C9A\", \"#529267\"]\n",
    "cmap = sns.color_palette(colors)\n",
    "\n",
    "ax = sns.boxplot(\n",
    "\tx=\"gene\",\n",
    "\ty=\"tfbs_effect\",\n",
    "    hue=\"driver_status\",\n",
    "\tdata=mut_data_df,\n",
    "\tpalette=cmap,\n",
    "\torder=genes,\n",
    "\thue_order=hue_order,\n",
    "\tshowfliers=False,\n",
    ")\n",
    "plt.xlabel(\"\")\n",
    "plt.xticks(fontsize=15)\n",
    "plt.ylabel(\"Effect on Transcription Factor Binding\", fontsize=16, labelpad=10)\n",
    "plt.yticks(fontsize=13)\n",
    "plt.legend(title=\"Mutation status\", fontsize=14, title_fontsize=14, loc=\"lower right\")\n",
    "\n",
    "# add grid lines\n",
    "ax.grid(axis='y', alpha=0.3)\n",
    "for i in range(len(genes) - 1):\n",
    "\tax.axvline(i + 0.5, color='black', lw=0.5, alpha=0.3)\n",
    "\n",
    "# get statistical significance annotations\n",
    "box_pairs = []\n",
    "for gene in genes:\n",
    "\tgene_data = mut_data_df[mut_data_df[\"gene\"] == gene]\n",
    "\tif \"Passengers in presence of driver\" in gene_data[\"driver_status\"].unique().tolist() \\\n",
    "\t\t\tand \"Passengers in absence of driver\" in gene_data[\"driver_status\"].unique().tolist():\n",
    "\t\tbox_pairs.append(((gene, \"Passengers in presence of driver\"), (gene, \"Passengers in absence of driver\")))\n",
    "\telse:\n",
    "\t\tcontinue\n",
    "print(box_pairs[:2])\n",
    "\n",
    "annotator = Annotator(\n",
    "    plt.gca(),\n",
    "\tx=\"gene\",\n",
    "\ty=\"tfbs_effect\",\n",
    "    hue=\"driver_status\",\n",
    "\tdata=mut_data_df,\n",
    "    order=genes,\n",
    "\thue_order=hue_order,\n",
    "    pairs=box_pairs\n",
    ")\n",
    "annotator.configure(test='Mann-Whitney-gt', text_format='star', loc='outside', hide_non_significant=True, color=colors[0])\n",
    "annotator.configure(comparisons_correction=\"fdr_bh\", verbose=2)\n",
    "annotator.apply_test().annotate()\n",
    "annotator.configure(test='Mann-Whitney-ls', text_format='star', loc='outside', hide_non_significant=True, color=colors[1])\n",
    "annotator.configure(comparisons_correction=\"fdr_bh\", verbose=2)\n",
    "annotator.apply_test().annotate()\n",
    "\n",
    "plt.tight_layout()"
   ]
  }
 ],
 "metadata": {
  "kernelspec": {
   "display_name": "cancer-model",
   "language": "python",
   "name": "python3"
  },
  "language_info": {
   "codemirror_mode": {
    "name": "ipython",
    "version": 3
   },
   "file_extension": ".py",
   "mimetype": "text/x-python",
   "name": "python",
   "nbconvert_exporter": "python",
   "pygments_lexer": "ipython3",
   "version": "3.9.19"
  }
 },
 "nbformat": 4,
 "nbformat_minor": 2
}
