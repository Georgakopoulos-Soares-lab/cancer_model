{
 "cells": [
  {
   "cell_type": "code",
   "execution_count": 1,
   "metadata": {},
   "outputs": [],
   "source": [
    "import os\n",
    "import numpy as np\n",
    "import pandas as pd\n",
    "import matplotlib.pyplot as plt\n",
    "import seaborn as sns\n",
    "from statannotations.Annotator import Annotator\n",
    "from scipy.stats import chi2_contingency, ks_2samp, chisquare, poisson"
   ]
  },
  {
   "cell_type": "code",
   "execution_count": 18,
   "metadata": {},
   "outputs": [],
   "source": [
    "# input files/dir\n",
    "ANNOTATED_MUTATIONS = \"../data/annotated_snv_mv_indels_by_cancer_subtype\"\n",
    "GENOME_WIDE_MUTATIONS = \"../data/genome_wide_mutation_data.tsv\"\n",
    "WHITELISTED_SAMPLES = \"../data/datasets/PCAWG/supplementary Tables/Supplementary Table 1.csv\"\n",
    "DRIVER_GENES = \"../data/driver_genes\"\n",
    "\n",
    "# output files/dir\n",
    "PASSENGER_DENSITY_BY_CANCER = \"../results/passenger_density_by_cancer\"\n",
    "PASSENGER_FREQUENCY_DIST = \"../results/passenger_frequency_distribution\"\n",
    "\n",
    "if not os.path.exists(PASSENGER_DENSITY_BY_CANCER):\n",
    "\tos.makedirs(PASSENGER_DENSITY_BY_CANCER)\n",
    "\n",
    "if not os.path.exists(PASSENGER_FREQUENCY_DIST):\n",
    "\tos.makedirs(PASSENGER_FREQUENCY_DIST)"
   ]
  },
  {
   "cell_type": "code",
   "execution_count": 21,
   "metadata": {
    "tags": [
     "parameters"
    ]
   },
   "outputs": [],
   "source": [
    "cancer_type = \"Liver-HCC\""
   ]
  },
  {
   "cell_type": "code",
   "execution_count": 22,
   "metadata": {},
   "outputs": [
    {
     "name": "stdout",
     "output_type": "stream",
     "text": [
      "Number of unique samples in the whitelist: 2583\n"
     ]
    }
   ],
   "source": [
    "whitelisted_data = pd.read_csv(WHITELISTED_SAMPLES, sep=\",\", header=0)\n",
    "whitelisted_samples = whitelisted_data[\"tumour_specimen_aliquot_id\"].unique().tolist()\n",
    "print(f\"Number of unique samples in the whitelist: {len(whitelisted_samples)}\")"
   ]
  },
  {
   "cell_type": "code",
   "execution_count": 24,
   "metadata": {},
   "outputs": [
    {
     "data": {
      "application/vnd.microsoft.datawrangler.viewer.v0+json": {
       "columns": [
        {
         "name": "index",
         "rawType": "int64",
         "type": "integer"
        },
        {
         "name": "Tumor_Sample_Barcode",
         "rawType": "object",
         "type": "string"
        },
        {
         "name": "total_mutations",
         "rawType": "int64",
         "type": "integer"
        },
        {
         "name": "num_drivers",
         "rawType": "int64",
         "type": "integer"
        },
        {
         "name": "cancer_type",
         "rawType": "object",
         "type": "string"
        },
        {
         "name": "cna_burden",
         "rawType": "float64",
         "type": "float"
        }
       ],
       "conversionMethod": "pd.DataFrame",
       "ref": "e016ed9f-f78f-4598-9cfa-ec504212b3b7",
       "rows": [
        [
         "0",
         "00493087-9d9d-40ca-86d5-936f1b951c93",
         "2778",
         "5",
         "CNS-Oligo",
         "17.324179967741937"
        ],
        [
         "1",
         "2aeaab9f-4459-4be8-91e7-e0746cbd671c",
         "3388",
         "4",
         "CNS-Oligo",
         "19.99393458064516"
        ],
        [
         "2",
         "3a81f733-b3a3-4578-b925-a663612bc92c",
         "2489",
         "2",
         "CNS-Oligo",
         "17.64744635483871"
        ],
        [
         "3",
         "3d477ac1-3bdf-4410-9594-1a3a1412c6ae",
         "5801",
         "3",
         "CNS-Oligo",
         "24.94859529032258"
        ],
        [
         "4",
         "4853fd17-7214-4f0c-984b-1be0346ca4ab",
         "2004",
         "2",
         "CNS-Oligo",
         "9.70463829032258"
        ]
       ],
       "shape": {
        "columns": 5,
        "rows": 5
       }
      },
      "text/html": [
       "<div>\n",
       "<style scoped>\n",
       "    .dataframe tbody tr th:only-of-type {\n",
       "        vertical-align: middle;\n",
       "    }\n",
       "\n",
       "    .dataframe tbody tr th {\n",
       "        vertical-align: top;\n",
       "    }\n",
       "\n",
       "    .dataframe thead th {\n",
       "        text-align: right;\n",
       "    }\n",
       "</style>\n",
       "<table border=\"1\" class=\"dataframe\">\n",
       "  <thead>\n",
       "    <tr style=\"text-align: right;\">\n",
       "      <th></th>\n",
       "      <th>Tumor_Sample_Barcode</th>\n",
       "      <th>total_mutations</th>\n",
       "      <th>num_drivers</th>\n",
       "      <th>cancer_type</th>\n",
       "      <th>cna_burden</th>\n",
       "    </tr>\n",
       "  </thead>\n",
       "  <tbody>\n",
       "    <tr>\n",
       "      <th>0</th>\n",
       "      <td>00493087-9d9d-40ca-86d5-936f1b951c93</td>\n",
       "      <td>2778</td>\n",
       "      <td>5</td>\n",
       "      <td>CNS-Oligo</td>\n",
       "      <td>17.324180</td>\n",
       "    </tr>\n",
       "    <tr>\n",
       "      <th>1</th>\n",
       "      <td>2aeaab9f-4459-4be8-91e7-e0746cbd671c</td>\n",
       "      <td>3388</td>\n",
       "      <td>4</td>\n",
       "      <td>CNS-Oligo</td>\n",
       "      <td>19.993935</td>\n",
       "    </tr>\n",
       "    <tr>\n",
       "      <th>2</th>\n",
       "      <td>3a81f733-b3a3-4578-b925-a663612bc92c</td>\n",
       "      <td>2489</td>\n",
       "      <td>2</td>\n",
       "      <td>CNS-Oligo</td>\n",
       "      <td>17.647446</td>\n",
       "    </tr>\n",
       "    <tr>\n",
       "      <th>3</th>\n",
       "      <td>3d477ac1-3bdf-4410-9594-1a3a1412c6ae</td>\n",
       "      <td>5801</td>\n",
       "      <td>3</td>\n",
       "      <td>CNS-Oligo</td>\n",
       "      <td>24.948595</td>\n",
       "    </tr>\n",
       "    <tr>\n",
       "      <th>4</th>\n",
       "      <td>4853fd17-7214-4f0c-984b-1be0346ca4ab</td>\n",
       "      <td>2004</td>\n",
       "      <td>2</td>\n",
       "      <td>CNS-Oligo</td>\n",
       "      <td>9.704638</td>\n",
       "    </tr>\n",
       "  </tbody>\n",
       "</table>\n",
       "</div>"
      ],
      "text/plain": [
       "                   Tumor_Sample_Barcode  total_mutations  num_drivers  \\\n",
       "0  00493087-9d9d-40ca-86d5-936f1b951c93             2778            5   \n",
       "1  2aeaab9f-4459-4be8-91e7-e0746cbd671c             3388            4   \n",
       "2  3a81f733-b3a3-4578-b925-a663612bc92c             2489            2   \n",
       "3  3d477ac1-3bdf-4410-9594-1a3a1412c6ae             5801            3   \n",
       "4  4853fd17-7214-4f0c-984b-1be0346ca4ab             2004            2   \n",
       "\n",
       "  cancer_type  cna_burden  \n",
       "0   CNS-Oligo   17.324180  \n",
       "1   CNS-Oligo   19.993935  \n",
       "2   CNS-Oligo   17.647446  \n",
       "3   CNS-Oligo   24.948595  \n",
       "4   CNS-Oligo    9.704638  "
      ]
     },
     "execution_count": 24,
     "metadata": {},
     "output_type": "execute_result"
    }
   ],
   "source": [
    "# genome-wide mutations\n",
    "genome_wide_mutations = pd.read_csv(GENOME_WIDE_MUTATIONS, sep=\"\\t\")\n",
    "genome_wide_mutations.head()"
   ]
  },
  {
   "cell_type": "code",
   "execution_count": 25,
   "metadata": {},
   "outputs": [
    {
     "data": {
      "application/vnd.microsoft.datawrangler.viewer.v0+json": {
       "columns": [
        {
         "name": "index",
         "rawType": "int64",
         "type": "integer"
        },
        {
         "name": "gene",
         "rawType": "object",
         "type": "string"
        },
        {
         "name": "Strand",
         "rawType": "object",
         "type": "string"
        },
        {
         "name": "Variant_Classification",
         "rawType": "object",
         "type": "string"
        },
        {
         "name": "Tumor_Sample_Barcode",
         "rawType": "object",
         "type": "string"
        },
        {
         "name": "Patient_ID",
         "rawType": "object",
         "type": "string"
        },
        {
         "name": "mutation",
         "rawType": "object",
         "type": "string"
        },
        {
         "name": "mutation_loc",
         "rawType": "object",
         "type": "string"
        },
        {
         "name": "driver",
         "rawType": "bool",
         "type": "boolean"
        },
        {
         "name": "driver_mutation_type",
         "rawType": "object",
         "type": "string"
        },
        {
         "name": "has_driver",
         "rawType": "bool",
         "type": "boolean"
        },
        {
         "name": "genic_region",
         "rawType": "object",
         "type": "string"
        },
        {
         "name": "CADD_score_raw",
         "rawType": "float64",
         "type": "float"
        },
        {
         "name": "CADD_score_PHRED",
         "rawType": "float64",
         "type": "float"
        },
        {
         "name": "gene_length",
         "rawType": "int64",
         "type": "integer"
        }
       ],
       "conversionMethod": "pd.DataFrame",
       "ref": "99e70832-6706-4d11-a734-8d6f69407f53",
       "rows": [
        [
         "0",
         "ARID1A",
         "+",
         "Intron",
         "0040b1b6-b07a-4b6e-90ef-133523eaf412",
         "DO45049",
         "1:27077925-27077925:A:G",
         "1:27077925:A:G",
         "False",
         "None",
         "False",
         "intronic",
         "-0.316733",
         "0.4",
         "86072"
        ],
        [
         "1",
         "SETDB1",
         "+",
         "Intron",
         "0040b1b6-b07a-4b6e-90ef-133523eaf412",
         "DO45049",
         "1:150909417-150909417:A:G",
         "1:150909417:A:G",
         "False",
         "mutational",
         "True",
         "intronic",
         "0.110056",
         "3.182",
         "38475"
        ],
        [
         "2",
         "SETDB1",
         "+",
         "Missense_Mutation",
         "0040b1b6-b07a-4b6e-90ef-133523eaf412",
         "DO45049",
         "1:150933317-150933317:A:C",
         "1:150933317:A:C",
         "True",
         "mutational",
         "True",
         "exonic",
         "5.224169",
         "27.7",
         "38475"
        ],
        [
         "3",
         "ARID2",
         "+",
         "Intron",
         "0040b1b6-b07a-4b6e-90ef-133523eaf412",
         "DO45049",
         "12:46151744-46151744:A:T",
         "12:46151744:A:T",
         "False",
         "None",
         "False",
         "intronic",
         "0.872451",
         "11.09",
         "178376"
        ],
        [
         "4",
         "ARID2",
         "+",
         "Intron",
         "0040b1b6-b07a-4b6e-90ef-133523eaf412",
         "DO45049",
         "12:46259757-46259757:T:G",
         "12:46259757:T:G",
         "False",
         "None",
         "False",
         "intronic",
         "-0.196762",
         "0.71",
         "178376"
        ]
       ],
       "shape": {
        "columns": 14,
        "rows": 5
       }
      },
      "text/html": [
       "<div>\n",
       "<style scoped>\n",
       "    .dataframe tbody tr th:only-of-type {\n",
       "        vertical-align: middle;\n",
       "    }\n",
       "\n",
       "    .dataframe tbody tr th {\n",
       "        vertical-align: top;\n",
       "    }\n",
       "\n",
       "    .dataframe thead th {\n",
       "        text-align: right;\n",
       "    }\n",
       "</style>\n",
       "<table border=\"1\" class=\"dataframe\">\n",
       "  <thead>\n",
       "    <tr style=\"text-align: right;\">\n",
       "      <th></th>\n",
       "      <th>gene</th>\n",
       "      <th>Strand</th>\n",
       "      <th>Variant_Classification</th>\n",
       "      <th>Tumor_Sample_Barcode</th>\n",
       "      <th>Patient_ID</th>\n",
       "      <th>mutation</th>\n",
       "      <th>mutation_loc</th>\n",
       "      <th>driver</th>\n",
       "      <th>driver_mutation_type</th>\n",
       "      <th>has_driver</th>\n",
       "      <th>genic_region</th>\n",
       "      <th>CADD_score_raw</th>\n",
       "      <th>CADD_score_PHRED</th>\n",
       "      <th>gene_length</th>\n",
       "    </tr>\n",
       "  </thead>\n",
       "  <tbody>\n",
       "    <tr>\n",
       "      <th>0</th>\n",
       "      <td>ARID1A</td>\n",
       "      <td>+</td>\n",
       "      <td>Intron</td>\n",
       "      <td>0040b1b6-b07a-4b6e-90ef-133523eaf412</td>\n",
       "      <td>DO45049</td>\n",
       "      <td>1:27077925-27077925:A:G</td>\n",
       "      <td>1:27077925:A:G</td>\n",
       "      <td>False</td>\n",
       "      <td>None</td>\n",
       "      <td>False</td>\n",
       "      <td>intronic</td>\n",
       "      <td>-0.316733</td>\n",
       "      <td>0.400</td>\n",
       "      <td>86072</td>\n",
       "    </tr>\n",
       "    <tr>\n",
       "      <th>1</th>\n",
       "      <td>SETDB1</td>\n",
       "      <td>+</td>\n",
       "      <td>Intron</td>\n",
       "      <td>0040b1b6-b07a-4b6e-90ef-133523eaf412</td>\n",
       "      <td>DO45049</td>\n",
       "      <td>1:150909417-150909417:A:G</td>\n",
       "      <td>1:150909417:A:G</td>\n",
       "      <td>False</td>\n",
       "      <td>mutational</td>\n",
       "      <td>True</td>\n",
       "      <td>intronic</td>\n",
       "      <td>0.110056</td>\n",
       "      <td>3.182</td>\n",
       "      <td>38475</td>\n",
       "    </tr>\n",
       "    <tr>\n",
       "      <th>2</th>\n",
       "      <td>SETDB1</td>\n",
       "      <td>+</td>\n",
       "      <td>Missense_Mutation</td>\n",
       "      <td>0040b1b6-b07a-4b6e-90ef-133523eaf412</td>\n",
       "      <td>DO45049</td>\n",
       "      <td>1:150933317-150933317:A:C</td>\n",
       "      <td>1:150933317:A:C</td>\n",
       "      <td>True</td>\n",
       "      <td>mutational</td>\n",
       "      <td>True</td>\n",
       "      <td>exonic</td>\n",
       "      <td>5.224169</td>\n",
       "      <td>27.700</td>\n",
       "      <td>38475</td>\n",
       "    </tr>\n",
       "    <tr>\n",
       "      <th>3</th>\n",
       "      <td>ARID2</td>\n",
       "      <td>+</td>\n",
       "      <td>Intron</td>\n",
       "      <td>0040b1b6-b07a-4b6e-90ef-133523eaf412</td>\n",
       "      <td>DO45049</td>\n",
       "      <td>12:46151744-46151744:A:T</td>\n",
       "      <td>12:46151744:A:T</td>\n",
       "      <td>False</td>\n",
       "      <td>None</td>\n",
       "      <td>False</td>\n",
       "      <td>intronic</td>\n",
       "      <td>0.872451</td>\n",
       "      <td>11.090</td>\n",
       "      <td>178376</td>\n",
       "    </tr>\n",
       "    <tr>\n",
       "      <th>4</th>\n",
       "      <td>ARID2</td>\n",
       "      <td>+</td>\n",
       "      <td>Intron</td>\n",
       "      <td>0040b1b6-b07a-4b6e-90ef-133523eaf412</td>\n",
       "      <td>DO45049</td>\n",
       "      <td>12:46259757-46259757:T:G</td>\n",
       "      <td>12:46259757:T:G</td>\n",
       "      <td>False</td>\n",
       "      <td>None</td>\n",
       "      <td>False</td>\n",
       "      <td>intronic</td>\n",
       "      <td>-0.196762</td>\n",
       "      <td>0.710</td>\n",
       "      <td>178376</td>\n",
       "    </tr>\n",
       "  </tbody>\n",
       "</table>\n",
       "</div>"
      ],
      "text/plain": [
       "     gene Strand Variant_Classification                  Tumor_Sample_Barcode  \\\n",
       "0  ARID1A      +                 Intron  0040b1b6-b07a-4b6e-90ef-133523eaf412   \n",
       "1  SETDB1      +                 Intron  0040b1b6-b07a-4b6e-90ef-133523eaf412   \n",
       "2  SETDB1      +      Missense_Mutation  0040b1b6-b07a-4b6e-90ef-133523eaf412   \n",
       "3   ARID2      +                 Intron  0040b1b6-b07a-4b6e-90ef-133523eaf412   \n",
       "4   ARID2      +                 Intron  0040b1b6-b07a-4b6e-90ef-133523eaf412   \n",
       "\n",
       "  Patient_ID                   mutation     mutation_loc  driver  \\\n",
       "0    DO45049    1:27077925-27077925:A:G   1:27077925:A:G   False   \n",
       "1    DO45049  1:150909417-150909417:A:G  1:150909417:A:G   False   \n",
       "2    DO45049  1:150933317-150933317:A:C  1:150933317:A:C    True   \n",
       "3    DO45049   12:46151744-46151744:A:T  12:46151744:A:T   False   \n",
       "4    DO45049   12:46259757-46259757:T:G  12:46259757:T:G   False   \n",
       "\n",
       "  driver_mutation_type  has_driver genic_region  CADD_score_raw  \\\n",
       "0                 None       False     intronic       -0.316733   \n",
       "1           mutational        True     intronic        0.110056   \n",
       "2           mutational        True       exonic        5.224169   \n",
       "3                 None       False     intronic        0.872451   \n",
       "4                 None       False     intronic       -0.196762   \n",
       "\n",
       "   CADD_score_PHRED  gene_length  \n",
       "0             0.400        86072  \n",
       "1             3.182        38475  \n",
       "2            27.700        38475  \n",
       "3            11.090       178376  \n",
       "4             0.710       178376  "
      ]
     },
     "execution_count": 25,
     "metadata": {},
     "output_type": "execute_result"
    }
   ],
   "source": [
    "# get all mutations in driver genes\n",
    "mut_df = pd.read_csv(os.path.join(ANNOTATED_MUTATIONS, cancer_type + \".tsv\"), sep=\"\\t\")\n",
    "driver_genes = pd.read_csv(os.path.join(DRIVER_GENES, cancer_type + \".tsv\"), sep=\"\\t\")\n",
    "driver_genes_list = driver_genes[\"gene\"].tolist()\n",
    "mut_df = mut_df[mut_df[\"gene\"].isin(driver_genes_list)]\n",
    "mut_df = pd.merge(mut_df, driver_genes[[\"gene\", \"gene_length\"]], on=\"gene\", how=\"left\")\n",
    "mut_df.head()"
   ]
  },
  {
   "cell_type": "code",
   "execution_count": 26,
   "metadata": {},
   "outputs": [
    {
     "name": "stdout",
     "output_type": "stream",
     "text": [
      "(6275, 14)\n",
      "(6043, 14)\n"
     ]
    }
   ],
   "source": [
    "print(mut_df.shape)\n",
    "# filter out samples that are not in the whitelist\n",
    "mut_df = mut_df[mut_df[\"Tumor_Sample_Barcode\"].isin(whitelisted_samples)]\n",
    "print(mut_df.shape)"
   ]
  },
  {
   "cell_type": "code",
   "execution_count": 27,
   "metadata": {},
   "outputs": [
    {
     "name": "stdout",
     "output_type": "stream",
     "text": [
      "(1334, 5) (2778, 5)\n",
      "(1334, 9)\n"
     ]
    },
    {
     "data": {
      "application/vnd.microsoft.datawrangler.viewer.v0+json": {
       "columns": [
        {
         "name": "index",
         "rawType": "int64",
         "type": "integer"
        },
        {
         "name": "Tumor_Sample_Barcode",
         "rawType": "object",
         "type": "string"
        },
        {
         "name": "gene",
         "rawType": "object",
         "type": "string"
        },
        {
         "name": "has_driver",
         "rawType": "bool",
         "type": "boolean"
        },
        {
         "name": "passenger_count",
         "rawType": "int64",
         "type": "integer"
        },
        {
         "name": "adj_passenger_density",
         "rawType": "float64",
         "type": "float"
        },
        {
         "name": "total_mutations",
         "rawType": "int64",
         "type": "integer"
        },
        {
         "name": "cna_burden",
         "rawType": "float64",
         "type": "float"
        },
        {
         "name": "gene_length",
         "rawType": "int64",
         "type": "integer"
        }
       ],
       "conversionMethod": "pd.DataFrame",
       "ref": "e184237e-5bd7-4869-bb6a-ec25d0e61ab4",
       "rows": [
        [
         "0",
         "0040b1b6-b07a-4b6e-90ef-133523eaf412",
         "APC",
         "False",
         "1",
         "2.61162710751066",
         "15823",
         "0.558138565483871",
         "138742"
        ],
        [
         "1",
         "0040b1b6-b07a-4b6e-90ef-133523eaf412",
         "ARID1A",
         "False",
         "1",
         "4.209758901271539",
         "15823",
         "0.558138565483871",
         "86072"
        ],
        [
         "2",
         "0040b1b6-b07a-4b6e-90ef-133523eaf412",
         "ARID2",
         "False",
         "2",
         "4.062680721063864",
         "15823",
         "0.558138565483871",
         "178376"
        ],
        [
         "3",
         "0040b1b6-b07a-4b6e-90ef-133523eaf412",
         "CSMD3",
         "False",
         "11",
         "3.2827029857818193",
         "15823",
         "0.558138565483871",
         "1214172"
        ],
        [
         "4",
         "0040b1b6-b07a-4b6e-90ef-133523eaf412",
         "CTNNB1",
         "False",
         "1",
         "5.552288816277105",
         "15823",
         "0.558138565483871",
         "65260"
        ]
       ],
       "shape": {
        "columns": 8,
        "rows": 5
       }
      },
      "text/html": [
       "<div>\n",
       "<style scoped>\n",
       "    .dataframe tbody tr th:only-of-type {\n",
       "        vertical-align: middle;\n",
       "    }\n",
       "\n",
       "    .dataframe tbody tr th {\n",
       "        vertical-align: top;\n",
       "    }\n",
       "\n",
       "    .dataframe thead th {\n",
       "        text-align: right;\n",
       "    }\n",
       "</style>\n",
       "<table border=\"1\" class=\"dataframe\">\n",
       "  <thead>\n",
       "    <tr style=\"text-align: right;\">\n",
       "      <th></th>\n",
       "      <th>Tumor_Sample_Barcode</th>\n",
       "      <th>gene</th>\n",
       "      <th>has_driver</th>\n",
       "      <th>passenger_count</th>\n",
       "      <th>adj_passenger_density</th>\n",
       "      <th>total_mutations</th>\n",
       "      <th>cna_burden</th>\n",
       "      <th>gene_length</th>\n",
       "    </tr>\n",
       "  </thead>\n",
       "  <tbody>\n",
       "    <tr>\n",
       "      <th>0</th>\n",
       "      <td>0040b1b6-b07a-4b6e-90ef-133523eaf412</td>\n",
       "      <td>APC</td>\n",
       "      <td>False</td>\n",
       "      <td>1</td>\n",
       "      <td>2.611627</td>\n",
       "      <td>15823</td>\n",
       "      <td>0.558139</td>\n",
       "      <td>138742</td>\n",
       "    </tr>\n",
       "    <tr>\n",
       "      <th>1</th>\n",
       "      <td>0040b1b6-b07a-4b6e-90ef-133523eaf412</td>\n",
       "      <td>ARID1A</td>\n",
       "      <td>False</td>\n",
       "      <td>1</td>\n",
       "      <td>4.209759</td>\n",
       "      <td>15823</td>\n",
       "      <td>0.558139</td>\n",
       "      <td>86072</td>\n",
       "    </tr>\n",
       "    <tr>\n",
       "      <th>2</th>\n",
       "      <td>0040b1b6-b07a-4b6e-90ef-133523eaf412</td>\n",
       "      <td>ARID2</td>\n",
       "      <td>False</td>\n",
       "      <td>2</td>\n",
       "      <td>4.062681</td>\n",
       "      <td>15823</td>\n",
       "      <td>0.558139</td>\n",
       "      <td>178376</td>\n",
       "    </tr>\n",
       "    <tr>\n",
       "      <th>3</th>\n",
       "      <td>0040b1b6-b07a-4b6e-90ef-133523eaf412</td>\n",
       "      <td>CSMD3</td>\n",
       "      <td>False</td>\n",
       "      <td>11</td>\n",
       "      <td>3.282703</td>\n",
       "      <td>15823</td>\n",
       "      <td>0.558139</td>\n",
       "      <td>1214172</td>\n",
       "    </tr>\n",
       "    <tr>\n",
       "      <th>4</th>\n",
       "      <td>0040b1b6-b07a-4b6e-90ef-133523eaf412</td>\n",
       "      <td>CTNNB1</td>\n",
       "      <td>False</td>\n",
       "      <td>1</td>\n",
       "      <td>5.552289</td>\n",
       "      <td>15823</td>\n",
       "      <td>0.558139</td>\n",
       "      <td>65260</td>\n",
       "    </tr>\n",
       "  </tbody>\n",
       "</table>\n",
       "</div>"
      ],
      "text/plain": [
       "                   Tumor_Sample_Barcode    gene  has_driver  passenger_count  \\\n",
       "0  0040b1b6-b07a-4b6e-90ef-133523eaf412     APC       False                1   \n",
       "1  0040b1b6-b07a-4b6e-90ef-133523eaf412  ARID1A       False                1   \n",
       "2  0040b1b6-b07a-4b6e-90ef-133523eaf412   ARID2       False                2   \n",
       "3  0040b1b6-b07a-4b6e-90ef-133523eaf412   CSMD3       False               11   \n",
       "4  0040b1b6-b07a-4b6e-90ef-133523eaf412  CTNNB1       False                1   \n",
       "\n",
       "   adj_passenger_density  total_mutations  cna_burden  gene_length  \n",
       "0               2.611627            15823    0.558139       138742  \n",
       "1               4.209759            15823    0.558139        86072  \n",
       "2               4.062681            15823    0.558139       178376  \n",
       "3               3.282703            15823    0.558139      1214172  \n",
       "4               5.552289            15823    0.558139        65260  "
      ]
     },
     "execution_count": 27,
     "metadata": {},
     "output_type": "execute_result"
    }
   ],
   "source": [
    "# passenger density for each gene in each sample\n",
    "passenger_density = mut_df.groupby([\"Tumor_Sample_Barcode\", \"gene\"]).agg({\n",
    "    \"has_driver\": \"first\",\n",
    "    \"driver\": lambda x: x.value_counts().get(False, 0),\n",
    "    \"gene_length\": \"first\"\n",
    "}).reset_index()\n",
    "passenger_density = passenger_density.rename(columns={\"driver\": \"passenger_count\"})\n",
    "# adjust for genome-wide mutation rate, cna burden and gene length\n",
    "print(passenger_density.shape, genome_wide_mutations.shape)\n",
    "passenger_density = pd.merge(passenger_density, genome_wide_mutations, on=[\"Tumor_Sample_Barcode\"], how=\"left\")\n",
    "passenger_density[\"cna_burden\"] = passenger_density[\"cna_burden\"] / 100 # convert from percentage to fraction\n",
    "print(passenger_density.shape)\n",
    "# mutation rate = total mutations / genome size\n",
    "# expected rate in gene = mutation rate * gene length\n",
    "# adjusted mut (adjusting for genome-wide mutation rate) = mut / expected rate in gene = total mutations * genome size / (total mutations * gene length)\n",
    "# adjusted mut (adjusting for cna burden) = adjusted mut / cna_burden = total mutations * genome size / (total mutations * gene length * cna_burden)\n",
    "passenger_density[\"adj_passenger_density\"] = passenger_density[\"passenger_count\"] * 3.2e9 / (passenger_density[\"total_mutations\"] * passenger_density[\"gene_length\"] * passenger_density[\"cna_burden\"])\n",
    "passenger_density = passenger_density[[\"Tumor_Sample_Barcode\", \"gene\", \"has_driver\", \"passenger_count\", \"adj_passenger_density\", \"total_mutations\", \"cna_burden\", \"gene_length\"]]\n",
    "passenger_density.head()"
   ]
  },
  {
   "cell_type": "code",
   "execution_count": 28,
   "metadata": {},
   "outputs": [
    {
     "name": "stdout",
     "output_type": "stream",
     "text": [
      "(4082, 8)\n"
     ]
    },
    {
     "data": {
      "application/vnd.microsoft.datawrangler.viewer.v0+json": {
       "columns": [
        {
         "name": "index",
         "rawType": "int64",
         "type": "integer"
        },
        {
         "name": "Tumor_Sample_Barcode",
         "rawType": "object",
         "type": "string"
        },
        {
         "name": "gene",
         "rawType": "object",
         "type": "string"
        },
        {
         "name": "has_driver",
         "rawType": "bool",
         "type": "boolean"
        },
        {
         "name": "passenger_count",
         "rawType": "int64",
         "type": "integer"
        },
        {
         "name": "adj_passenger_density",
         "rawType": "float64",
         "type": "float"
        },
        {
         "name": "total_mutations",
         "rawType": "int64",
         "type": "integer"
        },
        {
         "name": "cna_burden",
         "rawType": "float64",
         "type": "float"
        },
        {
         "name": "gene_length",
         "rawType": "int64",
         "type": "integer"
        }
       ],
       "conversionMethod": "pd.DataFrame",
       "ref": "23234e2b-f218-4af4-bbfd-3d1c10d87767",
       "rows": [
        [
         "0",
         "0040b1b6-b07a-4b6e-90ef-133523eaf412",
         "APC",
         "False",
         "1",
         "2.61162710751066",
         "15823",
         "0.558138565483871",
         "138742"
        ],
        [
         "1",
         "0040b1b6-b07a-4b6e-90ef-133523eaf412",
         "ARID1A",
         "False",
         "1",
         "4.209758901271539",
         "15823",
         "0.558138565483871",
         "86072"
        ],
        [
         "2",
         "0040b1b6-b07a-4b6e-90ef-133523eaf412",
         "ARID2",
         "False",
         "2",
         "4.062680721063864",
         "15823",
         "0.558138565483871",
         "178376"
        ],
        [
         "3",
         "0040b1b6-b07a-4b6e-90ef-133523eaf412",
         "CSMD3",
         "False",
         "11",
         "3.2827029857818193",
         "15823",
         "0.558138565483871",
         "1214172"
        ],
        [
         "4",
         "0040b1b6-b07a-4b6e-90ef-133523eaf412",
         "CTNNB1",
         "False",
         "1",
         "5.552288816277105",
         "15823",
         "0.558138565483871",
         "65260"
        ]
       ],
       "shape": {
        "columns": 8,
        "rows": 5
       }
      },
      "text/html": [
       "<div>\n",
       "<style scoped>\n",
       "    .dataframe tbody tr th:only-of-type {\n",
       "        vertical-align: middle;\n",
       "    }\n",
       "\n",
       "    .dataframe tbody tr th {\n",
       "        vertical-align: top;\n",
       "    }\n",
       "\n",
       "    .dataframe thead th {\n",
       "        text-align: right;\n",
       "    }\n",
       "</style>\n",
       "<table border=\"1\" class=\"dataframe\">\n",
       "  <thead>\n",
       "    <tr style=\"text-align: right;\">\n",
       "      <th></th>\n",
       "      <th>Tumor_Sample_Barcode</th>\n",
       "      <th>gene</th>\n",
       "      <th>has_driver</th>\n",
       "      <th>passenger_count</th>\n",
       "      <th>adj_passenger_density</th>\n",
       "      <th>total_mutations</th>\n",
       "      <th>cna_burden</th>\n",
       "      <th>gene_length</th>\n",
       "    </tr>\n",
       "  </thead>\n",
       "  <tbody>\n",
       "    <tr>\n",
       "      <th>0</th>\n",
       "      <td>0040b1b6-b07a-4b6e-90ef-133523eaf412</td>\n",
       "      <td>APC</td>\n",
       "      <td>False</td>\n",
       "      <td>1</td>\n",
       "      <td>2.611627</td>\n",
       "      <td>15823</td>\n",
       "      <td>0.558139</td>\n",
       "      <td>138742</td>\n",
       "    </tr>\n",
       "    <tr>\n",
       "      <th>1</th>\n",
       "      <td>0040b1b6-b07a-4b6e-90ef-133523eaf412</td>\n",
       "      <td>ARID1A</td>\n",
       "      <td>False</td>\n",
       "      <td>1</td>\n",
       "      <td>4.209759</td>\n",
       "      <td>15823</td>\n",
       "      <td>0.558139</td>\n",
       "      <td>86072</td>\n",
       "    </tr>\n",
       "    <tr>\n",
       "      <th>2</th>\n",
       "      <td>0040b1b6-b07a-4b6e-90ef-133523eaf412</td>\n",
       "      <td>ARID2</td>\n",
       "      <td>False</td>\n",
       "      <td>2</td>\n",
       "      <td>4.062681</td>\n",
       "      <td>15823</td>\n",
       "      <td>0.558139</td>\n",
       "      <td>178376</td>\n",
       "    </tr>\n",
       "    <tr>\n",
       "      <th>3</th>\n",
       "      <td>0040b1b6-b07a-4b6e-90ef-133523eaf412</td>\n",
       "      <td>CSMD3</td>\n",
       "      <td>False</td>\n",
       "      <td>11</td>\n",
       "      <td>3.282703</td>\n",
       "      <td>15823</td>\n",
       "      <td>0.558139</td>\n",
       "      <td>1214172</td>\n",
       "    </tr>\n",
       "    <tr>\n",
       "      <th>4</th>\n",
       "      <td>0040b1b6-b07a-4b6e-90ef-133523eaf412</td>\n",
       "      <td>CTNNB1</td>\n",
       "      <td>False</td>\n",
       "      <td>1</td>\n",
       "      <td>5.552289</td>\n",
       "      <td>15823</td>\n",
       "      <td>0.558139</td>\n",
       "      <td>65260</td>\n",
       "    </tr>\n",
       "  </tbody>\n",
       "</table>\n",
       "</div>"
      ],
      "text/plain": [
       "                   Tumor_Sample_Barcode    gene  has_driver  passenger_count  \\\n",
       "0  0040b1b6-b07a-4b6e-90ef-133523eaf412     APC       False                1   \n",
       "1  0040b1b6-b07a-4b6e-90ef-133523eaf412  ARID1A       False                1   \n",
       "2  0040b1b6-b07a-4b6e-90ef-133523eaf412   ARID2       False                2   \n",
       "3  0040b1b6-b07a-4b6e-90ef-133523eaf412   CSMD3       False               11   \n",
       "4  0040b1b6-b07a-4b6e-90ef-133523eaf412  CTNNB1       False                1   \n",
       "\n",
       "   adj_passenger_density  total_mutations  cna_burden  gene_length  \n",
       "0               2.611627            15823    0.558139       138742  \n",
       "1               4.209759            15823    0.558139        86072  \n",
       "2               4.062681            15823    0.558139       178376  \n",
       "3               3.282703            15823    0.558139      1214172  \n",
       "4               5.552289            15823    0.558139        65260  "
      ]
     },
     "execution_count": 28,
     "metadata": {},
     "output_type": "execute_result"
    }
   ],
   "source": [
    "# add rows for samples with no mutations in driver genes\n",
    "tumors = passenger_density[\"Tumor_Sample_Barcode\"].unique()\n",
    "for tumor in tumors:\n",
    "\tfor gene in driver_genes_list:\n",
    "\t\tif len(passenger_density[(passenger_density[\"Tumor_Sample_Barcode\"] == tumor) & (passenger_density[\"gene\"] == gene)]) == 0:\n",
    "\t\t\tpassenger_density = pd.concat([passenger_density, pd.DataFrame({\n",
    "\t\t\t\t\"Tumor_Sample_Barcode\": [tumor], \n",
    "\t\t\t\t\"gene\": [gene], \n",
    "\t\t\t\t\"has_driver\": [False], \n",
    "\t\t\t\t\"adj_passenger_density\": [0],\n",
    "\t\t\t\t\"passenger_count\": [0],\n",
    "\t\t\t\t\"total_mutations\": [0],\n",
    "\t\t\t\t\"cna_burden\": [0],\n",
    "\t\t\t\t\"gene_length\": [driver_genes[driver_genes[\"gene\"] == gene][\"gene_length\"].values[0]],\n",
    "\t\t\t})])\n",
    "print(passenger_density.shape)\n",
    "passenger_density.head()"
   ]
  },
  {
   "cell_type": "code",
   "execution_count": 36,
   "metadata": {},
   "outputs": [
    {
     "name": "stdout",
     "output_type": "stream",
     "text": [
      "p-value annotation legend:\n",
      "      ns: 5.00e-02 < p <= 1.00e+00\n",
      "       *: 1.00e-02 < p <= 5.00e-02\n",
      "      **: 1.00e-03 < p <= 1.00e-02\n",
      "     ***: 1.00e-04 < p <= 1.00e-03\n",
      "    ****: p <= 1.00e-04\n",
      "\n",
      "p-value annotation legend:\n",
      "      ns: 5.00e-02 < p <= 1.00e+00\n",
      "       *: 1.00e-02 < p <= 5.00e-02\n",
      "      **: 1.00e-03 < p <= 1.00e-02\n",
      "     ***: 1.00e-04 < p <= 1.00e-03\n",
      "    ****: p <= 1.00e-04\n",
      "\n",
      "True vs. False: Mann-Whitney-Wilcoxon test smaller, P_val:3.634e-05 U_stat=5.151e+05\n"
     ]
    },
    {
     "data": {
      "image/png": "[encoded data removed]",
      "text/plain": [
       "<Figure size 500x500 with 1 Axes>"
      ]
     },
     "metadata": {},
     "output_type": "display_data"
    }
   ],
   "source": [
    "colors = [\"#CC6677\", \"#106C9A\", \"#529267\"]\n",
    "cmap = sns.color_palette(colors)\n",
    "passenger_density[\"passenger_density_log\"] = passenger_density[\"adj_passenger_density\"].apply(lambda x: np.log10(x + 1))\n",
    "\n",
    "plt.figure(figsize=(5, 5))\n",
    "ax = sns.boxplot(\n",
    "    x=\"has_driver\",\n",
    "    y=\"passenger_density_log\",\n",
    "    data=passenger_density,\n",
    "    order=[True, False],\n",
    "    palette=cmap,\n",
    "    showfliers=False,\n",
    ")\n",
    "# get statistical significance annotations\n",
    "annotator = Annotator(\n",
    "    ax, \n",
    "    data=passenger_density, \n",
    "    x=\"has_driver\",\n",
    "    y=\"passenger_density_log\", \n",
    "    pairs=[(True, False)],\n",
    "    order=[True, False]\n",
    ")\n",
    "annotator.configure(test='Mann-Whitney-gt', text_format='star', hide_non_significant=True, color=colors[0])\n",
    "annotator.apply_and_annotate()\n",
    "annotator.configure(test='Mann-Whitney-ls', text_format='star', hide_non_significant=True, color=colors[1])\n",
    "annotator.apply_and_annotate()\n",
    "\n",
    "plt.xlabel(\"Has Driver mutation\", fontsize=16, labelpad=10)\n",
    "plt.xticks(fontsize=16)\n",
    "plt.yticks(fontsize=13)\n",
    "plt.ylabel(r\"Adjusted passenger density ($\\log_{10}$)\", fontsize=16, labelpad=10)\n",
    "plt.title(cancer_type, fontsize=16, pad=10)\n",
    "plt.savefig(f\"{PASSENGER_DENSITY_BY_CANCER}/{cancer_type}.png\", dpi=300, bbox_inches=\"tight\")"
   ]
  },
  {
   "cell_type": "code",
   "execution_count": null,
   "metadata": {},
   "outputs": [
    {
     "name": "stdout",
     "output_type": "stream",
     "text": [
      "[(('APC', True), ('APC', False)), (('ARID1A', True), ('ARID1A', False)), (('ARID2', True), ('ARID2', False)), (('AXIN1', True), ('AXIN1', False)), (('CTNNB1', True), ('CTNNB1', False)), (('KEAP1', True), ('KEAP1', False)), (('NFE2L2', True), ('NFE2L2', False)), (('RB1', True), ('RB1', False)), (('SETDB1', True), ('SETDB1', False)), (('TERT', True), ('TERT', False)), (('TP53', True), ('TP53', False))]\n",
      "p-value annotation legend:\n",
      "      ns: 5.00e-02 < p <= 1.00e+00\n",
      "       *: 1.00e-02 < p <= 5.00e-02\n",
      "      **: 1.00e-03 < p <= 1.00e-02\n",
      "     ***: 1.00e-04 < p <= 1.00e-03\n",
      "    ****: p <= 1.00e-04\n",
      "\n",
      "p-value annotation legend:\n",
      "      ns: 5.00e-02 < p <= 1.00e+00\n",
      "       *: 1.00e-02 < p <= 5.00e-02\n",
      "      **: 1.00e-03 < p <= 1.00e-02\n",
      "     ***: 1.00e-04 < p <= 1.00e-03\n",
      "    ****: p <= 1.00e-04\n",
      "\n"
     ]
    },
    {
     "data": {
      "image/png": "[encoded data removed]",
      "text/plain": [
       "<Figure size 700x500 with 1 Axes>"
      ]
     },
     "metadata": {},
     "output_type": "display_data"
    }
   ],
   "source": [
    "# distribution of passenger mutation density by gene\n",
    "passenger_density[\"passenger_density_log\"] = passenger_density[\"adj_passenger_density\"].apply(lambda x: np.log10(x + 1))\n",
    "genes = passenger_density[\"gene\"].unique().tolist()\n",
    "genes.sort()\n",
    "plot_len = min(7, len(genes))\n",
    "plt.figure(figsize=(plot_len, 5))\n",
    "colors = [\"#CC6677\", \"#106C9A\", \"#529267\"]\n",
    "cmap = sns.color_palette(colors)\n",
    "ax1 = sns.boxplot(\n",
    "    x=\"gene\",\n",
    "    y=\"passenger_density_log\",\n",
    "    hue=\"has_driver\",\n",
    "    data=passenger_density,\n",
    "    palette=cmap,\n",
    "    order=genes,\n",
    "    hue_order=[True, False],\n",
    "    showmeans=True,\n",
    "    showfliers=False,\n",
    ")\n",
    "# add grid lines\n",
    "ax1.grid(axis='y', alpha=0.3)\n",
    "for i in range(len(genes) - 1):\n",
    "\tax1.axvline(i + 0.5, color='black', lw=0.5, alpha=0.3)\n",
    "\n",
    "# get statistical significance annotations\n",
    "box_pairs = []\n",
    "for gene in genes:\n",
    "    gene_data = passenger_density[passenger_density[\"gene\"] == gene]\n",
    "    if len(gene_data[\"has_driver\"].unique().tolist()) == 2:\n",
    "        box_pairs.append(((gene, True), (gene, False)))\n",
    "print(box_pairs)\n",
    "\n",
    "annotator = Annotator(\n",
    "    ax1, \n",
    "    data=passenger_density, \n",
    "    x=\"gene\", \n",
    "    y=\"passenger_density_log\", \n",
    "    hue=\"has_driver\",\n",
    "    pairs=box_pairs,\n",
    "    order=genes,\n",
    "    hue_order=[True, False]\n",
    ")\n",
    "annotator.configure(test='Mann-Whitney-gt', text_format='star', loc='outside', hide_non_significant=True, color=colors[0])\n",
    "annotator.apply_and_annotate()\n",
    "annotator.configure(test='Mann-Whitney-ls', text_format='star', loc='outside', hide_non_significant=True, color=colors[1])\n",
    "annotator.apply_and_annotate()\n",
    "\n",
    "# change x tick labels\n",
    "xticklabels = ax1.get_xticklabels()\n",
    "ax1.set_xticklabels([x.get_text().replace(\"_\", \"/\") for x in xticklabels])\n",
    "\n",
    "plt.xticks(rotation=90, fontsize=12)\n",
    "plt.xlabel(\"\")\n",
    "plt.ylabel(\"Adjusted passenger density per Gb (log10)\", fontsize=14, labelpad=10)\n",
    "plt.yticks(fontsize=12)\n",
    "plt.legend(title=\"Has Driver mutation\", title_fontsize=12, fontsize=12, loc='upper right')\n",
    "plt.title(cancer_type, fontsize=14, pad=10)\n",
    "plt.tight_layout()\n",
    "plt.savefig(f\"{PASSENGER_DENSITY_BY_CANCER}/{cancer_type}_gene.png\", dpi=300)"
   ]
  },
  {
   "cell_type": "markdown",
   "metadata": {},
   "source": [
    "## Difference in observed and expected frequencies"
   ]
  },
  {
   "cell_type": "code",
   "execution_count": 30,
   "metadata": {},
   "outputs": [
    {
     "data": {
      "application/vnd.microsoft.datawrangler.viewer.v0+json": {
       "columns": [
        {
         "name": "index",
         "rawType": "int64",
         "type": "integer"
        },
        {
         "name": "has_driver",
         "rawType": "bool",
         "type": "boolean"
        },
        {
         "name": "passenger_count",
         "rawType": "int64",
         "type": "integer"
        }
       ],
       "conversionMethod": "pd.DataFrame",
       "ref": "8e5f4396-0f41-4237-bf36-b8de0b54937e",
       "rows": [
        [
         "0",
         "False",
         "1"
        ],
        [
         "1",
         "False",
         "1"
        ],
        [
         "2",
         "False",
         "2"
        ],
        [
         "4",
         "False",
         "1"
        ],
        [
         "5",
         "False",
         "1"
        ]
       ],
       "shape": {
        "columns": 2,
        "rows": 5
       }
      },
      "text/html": [
       "<div>\n",
       "<style scoped>\n",
       "    .dataframe tbody tr th:only-of-type {\n",
       "        vertical-align: middle;\n",
       "    }\n",
       "\n",
       "    .dataframe tbody tr th {\n",
       "        vertical-align: top;\n",
       "    }\n",
       "\n",
       "    .dataframe thead th {\n",
       "        text-align: right;\n",
       "    }\n",
       "</style>\n",
       "<table border=\"1\" class=\"dataframe\">\n",
       "  <thead>\n",
       "    <tr style=\"text-align: right;\">\n",
       "      <th></th>\n",
       "      <th>has_driver</th>\n",
       "      <th>passenger_count</th>\n",
       "    </tr>\n",
       "  </thead>\n",
       "  <tbody>\n",
       "    <tr>\n",
       "      <th>0</th>\n",
       "      <td>False</td>\n",
       "      <td>1</td>\n",
       "    </tr>\n",
       "    <tr>\n",
       "      <th>1</th>\n",
       "      <td>False</td>\n",
       "      <td>1</td>\n",
       "    </tr>\n",
       "    <tr>\n",
       "      <th>2</th>\n",
       "      <td>False</td>\n",
       "      <td>2</td>\n",
       "    </tr>\n",
       "    <tr>\n",
       "      <th>4</th>\n",
       "      <td>False</td>\n",
       "      <td>1</td>\n",
       "    </tr>\n",
       "    <tr>\n",
       "      <th>5</th>\n",
       "      <td>False</td>\n",
       "      <td>1</td>\n",
       "    </tr>\n",
       "  </tbody>\n",
       "</table>\n",
       "</div>"
      ],
      "text/plain": [
       "   has_driver  passenger_count\n",
       "0       False                1\n",
       "1       False                1\n",
       "2       False                2\n",
       "4       False                1\n",
       "5       False                1"
      ]
     },
     "execution_count": 30,
     "metadata": {},
     "output_type": "execute_result"
    }
   ],
   "source": [
    "upper_limit = 10\n",
    "passenger_counts = passenger_density[[\"has_driver\", \"passenger_count\"]].copy()\n",
    "passenger_counts = passenger_counts[passenger_counts[\"passenger_count\"] <= upper_limit]\n",
    "passenger_counts.head()"
   ]
  },
  {
   "cell_type": "code",
   "execution_count": 31,
   "metadata": {},
   "outputs": [
    {
     "name": "stdout",
     "output_type": "stream",
     "text": [
      "All samples\n",
      "passenger_count    0    1    2   3   4   5   6   7   8   9   10\n",
      "has_driver                                                     \n",
      "False            2748  554  126  39  17  10  10   9  18  15  21\n",
      "True              255   35   11   2   2   0   0   0   0   0   0\n",
      "p-value: 0.25954451510392856, stat: 12.394126282436913\n",
      "[[2.76645170e+03 5.42604081e+02 1.26208419e+02 3.77704029e+01\n",
      "  1.75033574e+01 9.21229339e+00 9.21229339e+00 8.29106405e+00\n",
      "  1.65821281e+01 1.38184401e+01 1.93458161e+01]\n",
      " [2.36548295e+02 4.63959194e+01 1.07915806e+01 3.22959711e+00\n",
      "  1.49664256e+00 7.87706612e-01 7.87706612e-01 7.08935950e-01\n",
      "  1.41787190e+00 1.18155992e+00 1.65418388e+00]]\n"
     ]
    }
   ],
   "source": [
    "# chi-square test\n",
    "\n",
    "# all samples\n",
    "print(\"All samples\")\n",
    "observed = pd.crosstab(\n",
    "    passenger_counts[\"has_driver\"],\n",
    "    passenger_counts[\"passenger_count\"],\n",
    ")\n",
    "print(observed)\n",
    "stat, p, dof, expected = chi2_contingency(observed)\n",
    "print(f\"p-value: {p}, stat: {stat}\")\n",
    "print(expected)"
   ]
  },
  {
   "cell_type": "code",
   "execution_count": 32,
   "metadata": {},
   "outputs": [
    {
     "data": {
      "image/png": "[encoded data removed]",
      "text/plain": [
       "<Figure size 1000x400 with 2 Axes>"
      ]
     },
     "metadata": {},
     "output_type": "display_data"
    },
    {
     "data": {
      "application/vnd.microsoft.datawrangler.viewer.v0+json": {
       "columns": [
        {
         "name": "index",
         "rawType": "bool",
         "type": "boolean"
        },
        {
         "name": "0",
         "rawType": "float64",
         "type": "float"
        },
        {
         "name": "1",
         "rawType": "float64",
         "type": "float"
        },
        {
         "name": "2",
         "rawType": "float64",
         "type": "float"
        },
        {
         "name": "3",
         "rawType": "float64",
         "type": "float"
        },
        {
         "name": "4",
         "rawType": "float64",
         "type": "float"
        },
        {
         "name": "5",
         "rawType": "float64",
         "type": "float"
        },
        {
         "name": "6",
         "rawType": "float64",
         "type": "float"
        },
        {
         "name": "7",
         "rawType": "float64",
         "type": "float"
        },
        {
         "name": "8",
         "rawType": "float64",
         "type": "float"
        },
        {
         "name": "9",
         "rawType": "float64",
         "type": "float"
        },
        {
         "name": "10",
         "rawType": "float64",
         "type": "float"
        }
       ],
       "conversionMethod": "pd.DataFrame",
       "ref": "567dae5c-4f40-47f0-afc4-607b4945f8e4",
       "rows": [
        [
         "False",
         "-18.451704545454504",
         "11.395919421487633",
         "-0.20841942148760495",
         "1.2295971074380176",
         "-0.5033574380165291",
         "0.7877066115702487",
         "0.7877066115702487",
         "0.708935950413224",
         "1.417871900826448",
         "1.1815599173553721",
         "1.6541838842975203"
        ],
        [
         "True",
         "18.451704545454533",
         "-11.395919421487605",
         "0.20841942148760317",
         "-1.2295971074380163",
         "0.5033574380165289",
         "-0.7877066115702479",
         "-0.7877066115702479",
         "-0.7089359504132231",
         "-1.4178719008264462",
         "-1.181559917355372",
         "-1.6541838842975207"
        ]
       ],
       "shape": {
        "columns": 11,
        "rows": 2
       }
      },
      "text/html": [
       "<div>\n",
       "<style scoped>\n",
       "    .dataframe tbody tr th:only-of-type {\n",
       "        vertical-align: middle;\n",
       "    }\n",
       "\n",
       "    .dataframe tbody tr th {\n",
       "        vertical-align: top;\n",
       "    }\n",
       "\n",
       "    .dataframe thead th {\n",
       "        text-align: right;\n",
       "    }\n",
       "</style>\n",
       "<table border=\"1\" class=\"dataframe\">\n",
       "  <thead>\n",
       "    <tr style=\"text-align: right;\">\n",
       "      <th></th>\n",
       "      <th>0</th>\n",
       "      <th>1</th>\n",
       "      <th>2</th>\n",
       "      <th>3</th>\n",
       "      <th>4</th>\n",
       "      <th>5</th>\n",
       "      <th>6</th>\n",
       "      <th>7</th>\n",
       "      <th>8</th>\n",
       "      <th>9</th>\n",
       "      <th>10</th>\n",
       "    </tr>\n",
       "  </thead>\n",
       "  <tbody>\n",
       "    <tr>\n",
       "      <th>False</th>\n",
       "      <td>-18.451705</td>\n",
       "      <td>11.395919</td>\n",
       "      <td>-0.208419</td>\n",
       "      <td>1.229597</td>\n",
       "      <td>-0.503357</td>\n",
       "      <td>0.787707</td>\n",
       "      <td>0.787707</td>\n",
       "      <td>0.708936</td>\n",
       "      <td>1.417872</td>\n",
       "      <td>1.18156</td>\n",
       "      <td>1.654184</td>\n",
       "    </tr>\n",
       "    <tr>\n",
       "      <th>True</th>\n",
       "      <td>18.451705</td>\n",
       "      <td>-11.395919</td>\n",
       "      <td>0.208419</td>\n",
       "      <td>-1.229597</td>\n",
       "      <td>0.503357</td>\n",
       "      <td>-0.787707</td>\n",
       "      <td>-0.787707</td>\n",
       "      <td>-0.708936</td>\n",
       "      <td>-1.417872</td>\n",
       "      <td>-1.18156</td>\n",
       "      <td>-1.654184</td>\n",
       "    </tr>\n",
       "  </tbody>\n",
       "</table>\n",
       "</div>"
      ],
      "text/plain": [
       "              0          1         2         3         4         5         6   \\\n",
       "False -18.451705  11.395919 -0.208419  1.229597 -0.503357  0.787707  0.787707   \n",
       "True   18.451705 -11.395919  0.208419 -1.229597  0.503357 -0.787707 -0.787707   \n",
       "\n",
       "             7         8        9         10  \n",
       "False  0.708936  1.417872  1.18156  1.654184  \n",
       "True  -0.708936 -1.417872 -1.18156 -1.654184  "
      ]
     },
     "execution_count": 32,
     "metadata": {},
     "output_type": "execute_result"
    }
   ],
   "source": [
    "expected_df = pd.DataFrame(expected, columns=observed.columns, index=observed.index)\n",
    "expected_df = expected_df.rename_axis(index=None, columns=None)\n",
    "observed_df = pd.DataFrame(observed, columns=observed.columns, index=observed.index)\n",
    "observed_df = observed_df.rename_axis(index=None, columns=None)\n",
    "\n",
    "# get the difference between observed and expected for corresponding cells\n",
    "residuals = observed_df - expected_df\n",
    "plt.figure(figsize=(10, 4))\n",
    "sns.heatmap(residuals, cmap='coolwarm', center=0)\n",
    "plt.title(\"Observed - Expected Frequency\", fontsize=14, pad=10)\n",
    "plt.xlabel(\"Passenger Count\", fontsize=12, labelpad=10)\n",
    "plt.xticks(fontsize=12)\n",
    "plt.ylabel(\"Has Driver mutation\", fontsize=12, labelpad=10)\n",
    "plt.yticks(fontsize=12)\n",
    "plt.show()\n",
    "residuals"
   ]
  },
  {
   "cell_type": "code",
   "execution_count": 35,
   "metadata": {},
   "outputs": [
    {
     "data": {
      "image/png": "[encoded data removed]",
      "text/plain": [
       "<Figure size 600x400 with 1 Axes>"
      ]
     },
     "metadata": {},
     "output_type": "display_data"
    }
   ],
   "source": [
    "plt.figure(figsize=(6, 4))\n",
    "\n",
    "# horizontal line at y=0\n",
    "plt.axhline(0, color='black', lw=1, ls='--')\n",
    "\n",
    "sns.lineplot(\n",
    "\tx=residuals.columns,\n",
    "\ty=residuals.loc[True],\n",
    "\tcolor=colors[0],\n",
    "\tlabel=\"With Drivers\",\n",
    "\tmarker=\"o\",\n",
    ")\n",
    "\n",
    "sns.lineplot(\n",
    "\tx=residuals.columns,\n",
    "\ty=residuals.loc[False],\n",
    "\tcolor=colors[1],\n",
    "\tlabel=\"Without Drivers\",\n",
    "\tmarker=\"o\",\n",
    ")\n",
    "\n",
    "# add p-value annotation\n",
    "plt.annotate(\n",
    "\trf\"$\\chi^2$: {stat:.3f}\" + \"\\n\" + rf\"$p$: {p:.3f}\", \n",
    "\txy=(0.17, 0.95), \n",
    "\txycoords='axes fraction', \n",
    "\tfontsize=13, \n",
    "\tha='left', \n",
    "\tva='top',\n",
    "\tbbox=dict(boxstyle=\"round,pad=0.3\", facecolor=\"white\", alpha=0.8)\n",
    ")\n",
    "\n",
    "plt.xlabel(\"Passenger Count\", fontsize=16, labelpad=10)\n",
    "plt.xticks([i for i in range(0, upper_limit + 1)], fontsize=15)\n",
    "plt.ylabel(\"Observed - Expected\", fontsize=16, labelpad=10)\n",
    "plt.yticks(fontsize=14)\n",
    "plt.grid(axis='y', linestyle='--', alpha=0.6)\n",
    "plt.legend(fontsize=14)\n",
    "plt.tight_layout()\n",
    "plt.title(cancer_type, fontsize=16, pad=10)\n",
    "plt.savefig(f\"{PASSENGER_FREQUENCY_DIST}/{cancer_type}.png\", dpi=300, bbox_inches=\"tight\")"
   ]
  }
 ],
 "metadata": {
  "kernelspec": {
   "display_name": "cancer-model",
   "language": "python",
   "name": "python3"
  },
  "language_info": {
   "codemirror_mode": {
    "name": "ipython",
    "version": 3
   },
   "file_extension": ".py",
   "mimetype": "text/x-python",
   "name": "python",
   "nbconvert_exporter": "python",
   "pygments_lexer": "ipython3",
   "version": "3.9.19"
  }
 },
 "nbformat": 4,
 "nbformat_minor": 2
}
