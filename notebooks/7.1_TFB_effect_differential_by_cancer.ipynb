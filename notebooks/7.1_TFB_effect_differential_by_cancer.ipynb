{
 "cells": [
  {
   "cell_type": "code",
   "execution_count": 1,
   "metadata": {},
   "outputs": [],
   "source": [
    "import os\n",
    "import pandas as pd\n",
    "import numpy as np\n",
    "from numpy import var, mean, sqrt\n",
    "import pyfaidx\n",
    "import pysam\n",
    "from adjustText import adjust_text\n",
    "import matplotlib.pyplot as plt\n",
    "import seaborn as sns\n",
    "from scipy.stats import mannwhitneyu, ttest_ind\n",
    "from statannotations.Annotator import Annotator\n",
    "from statsmodels.stats.multitest import multipletests"
   ]
  },
  {
   "cell_type": "code",
   "execution_count": null,
   "metadata": {},
   "outputs": [],
   "source": [
    "MUT_DATA = \"../data/annotated_snv_mv_indels_by_cancer_subtype\"\n",
    "DRIVER_GENES = \"../data/driver_genes\"\n",
    "TFBS_DATA = \"../data/TFBS_data_diff\"\n",
    "REF_FASTA = \"../data/ref/hg19.fa\"\n",
    "# JASPAR_NON_REDUNDANT_TF = \"../data/datasets/JASPAR2024_CORE_non-redundant_pfms_jaspar.txt\"\n",
    "\n",
    "RESULTS_DIR = \"../results/TFBS_diff\"\n",
    "\n",
    "if not os.path.exists(RESULTS_DIR):\n",
    "\tos.makedirs(RESULTS_DIR)\n",
    "\n",
    "# Fasta sequence extractor\n",
    "pyfaidx.Faidx(REF_FASTA)\n",
    "REF_GENOME_OPEN = pysam.Fastafile(REF_FASTA) "
   ]
  },
  {
   "cell_type": "code",
   "execution_count": 3,
   "metadata": {
    "tags": [
     "parameters"
    ]
   },
   "outputs": [],
   "source": [
    "cancer_type = \"Skin-Melanoma\""
   ]
  },
  {
   "cell_type": "code",
   "execution_count": null,
   "metadata": {},
   "outputs": [
    {
     "name": "stdout",
     "output_type": "stream",
     "text": [
      "Number of TFs in JASPAR non-redundant: 2346\n"
     ]
    },
    {
     "data": {
      "text/plain": [
       "['ARNT', 'PAX6', 'RORA', 'RXRA::VDR', 'REL']"
      ]
     },
     "execution_count": 14,
     "metadata": {},
     "output_type": "execute_result"
    }
   ],
   "source": [
    "# with open(JASPAR_NON_REDUNDANT_TF, \"r\") as jaspar:\n",
    "# \tjaspar_lines = jaspar.readlines()\n",
    "# \tjaspar_lines = [line for line in jaspar_lines if line.startswith(\">\")]\n",
    "# \tjaspar_lines = [line.split(\"\\t\") for line in jaspar_lines]\n",
    "# \tjaspar_lines = [line[1].strip().upper() for line in jaspar_lines]\n",
    "# print(f\"Number of TFs in JASPAR non-redundant: {len(jaspar_lines)}\")\n",
    "# jaspar_lines[:5]"
   ]
  },
  {
   "cell_type": "code",
   "execution_count": 5,
   "metadata": {},
   "outputs": [
    {
     "name": "stdout",
     "output_type": "stream",
     "text": [
      "Skin-Melanoma (12450635, 13)\n",
      "(25121, 13)\n"
     ]
    },
    {
     "data": {
      "application/vnd.microsoft.datawrangler.viewer.v0+json": {
       "columns": [
        {
         "name": "index",
         "rawType": "int64",
         "type": "integer"
        },
        {
         "name": "Tumor_Sample_Barcode",
         "rawType": "object",
         "type": "string"
        },
        {
         "name": "mutation",
         "rawType": "object",
         "type": "string"
        },
        {
         "name": "gene",
         "rawType": "object",
         "type": "string"
        },
        {
         "name": "driver",
         "rawType": "bool",
         "type": "boolean"
        },
        {
         "name": "has_driver",
         "rawType": "bool",
         "type": "boolean"
        },
        {
         "name": "genic_region",
         "rawType": "object",
         "type": "string"
        },
        {
         "name": "driver_status",
         "rawType": "object",
         "type": "string"
        }
       ],
       "conversionMethod": "pd.DataFrame",
       "ref": "e0adbe1f-ee42-4803-85e2-ba0800fb1b8e",
       "rows": [
        [
         "2763",
         "08b5d0e4-4661-460e-a9f7-f2e687414711",
         "1:115250393-115250393:C:T",
         "NRAS",
         "False",
         "False",
         "UTR3",
         "Passengers in absence of driver"
        ],
        [
         "2764",
         "08b5d0e4-4661-460e-a9f7-f2e687414711",
         "1:115251285-115251285:G:A",
         "NRAS",
         "False",
         "False",
         "intronic",
         "Passengers in absence of driver"
        ],
        [
         "5328",
         "08b5d0e4-4661-460e-a9f7-f2e687414711",
         "1:240936738-240936738:G:A",
         "RGS7",
         "False",
         "False",
         "intergenic",
         "Passengers in absence of driver"
        ],
        [
         "5329",
         "08b5d0e4-4661-460e-a9f7-f2e687414711",
         "1:240940982-240940982:T:A",
         "RGS7",
         "False",
         "False",
         "intronic",
         "Passengers in absence of driver"
        ],
        [
         "5330",
         "08b5d0e4-4661-460e-a9f7-f2e687414711",
         "1:240978975-240978975:C:T",
         "RGS7",
         "False",
         "False",
         "intronic",
         "Passengers in absence of driver"
        ]
       ],
       "shape": {
        "columns": 7,
        "rows": 5
       }
      },
      "text/html": [
       "<div>\n",
       "<style scoped>\n",
       "    .dataframe tbody tr th:only-of-type {\n",
       "        vertical-align: middle;\n",
       "    }\n",
       "\n",
       "    .dataframe tbody tr th {\n",
       "        vertical-align: top;\n",
       "    }\n",
       "\n",
       "    .dataframe thead th {\n",
       "        text-align: right;\n",
       "    }\n",
       "</style>\n",
       "<table border=\"1\" class=\"dataframe\">\n",
       "  <thead>\n",
       "    <tr style=\"text-align: right;\">\n",
       "      <th></th>\n",
       "      <th>Tumor_Sample_Barcode</th>\n",
       "      <th>mutation</th>\n",
       "      <th>gene</th>\n",
       "      <th>driver</th>\n",
       "      <th>has_driver</th>\n",
       "      <th>genic_region</th>\n",
       "      <th>driver_status</th>\n",
       "    </tr>\n",
       "  </thead>\n",
       "  <tbody>\n",
       "    <tr>\n",
       "      <th>2763</th>\n",
       "      <td>08b5d0e4-4661-460e-a9f7-f2e687414711</td>\n",
       "      <td>1:115250393-115250393:C:T</td>\n",
       "      <td>NRAS</td>\n",
       "      <td>False</td>\n",
       "      <td>False</td>\n",
       "      <td>UTR3</td>\n",
       "      <td>Passengers in absence of driver</td>\n",
       "    </tr>\n",
       "    <tr>\n",
       "      <th>2764</th>\n",
       "      <td>08b5d0e4-4661-460e-a9f7-f2e687414711</td>\n",
       "      <td>1:115251285-115251285:G:A</td>\n",
       "      <td>NRAS</td>\n",
       "      <td>False</td>\n",
       "      <td>False</td>\n",
       "      <td>intronic</td>\n",
       "      <td>Passengers in absence of driver</td>\n",
       "    </tr>\n",
       "    <tr>\n",
       "      <th>5328</th>\n",
       "      <td>08b5d0e4-4661-460e-a9f7-f2e687414711</td>\n",
       "      <td>1:240936738-240936738:G:A</td>\n",
       "      <td>RGS7</td>\n",
       "      <td>False</td>\n",
       "      <td>False</td>\n",
       "      <td>intergenic</td>\n",
       "      <td>Passengers in absence of driver</td>\n",
       "    </tr>\n",
       "    <tr>\n",
       "      <th>5329</th>\n",
       "      <td>08b5d0e4-4661-460e-a9f7-f2e687414711</td>\n",
       "      <td>1:240940982-240940982:T:A</td>\n",
       "      <td>RGS7</td>\n",
       "      <td>False</td>\n",
       "      <td>False</td>\n",
       "      <td>intronic</td>\n",
       "      <td>Passengers in absence of driver</td>\n",
       "    </tr>\n",
       "    <tr>\n",
       "      <th>5330</th>\n",
       "      <td>08b5d0e4-4661-460e-a9f7-f2e687414711</td>\n",
       "      <td>1:240978975-240978975:C:T</td>\n",
       "      <td>RGS7</td>\n",
       "      <td>False</td>\n",
       "      <td>False</td>\n",
       "      <td>intronic</td>\n",
       "      <td>Passengers in absence of driver</td>\n",
       "    </tr>\n",
       "  </tbody>\n",
       "</table>\n",
       "</div>"
      ],
      "text/plain": [
       "                      Tumor_Sample_Barcode                   mutation  gene  \\\n",
       "2763  08b5d0e4-4661-460e-a9f7-f2e687414711  1:115250393-115250393:C:T  NRAS   \n",
       "2764  08b5d0e4-4661-460e-a9f7-f2e687414711  1:115251285-115251285:G:A  NRAS   \n",
       "5328  08b5d0e4-4661-460e-a9f7-f2e687414711  1:240936738-240936738:G:A  RGS7   \n",
       "5329  08b5d0e4-4661-460e-a9f7-f2e687414711  1:240940982-240940982:T:A  RGS7   \n",
       "5330  08b5d0e4-4661-460e-a9f7-f2e687414711  1:240978975-240978975:C:T  RGS7   \n",
       "\n",
       "      driver  has_driver genic_region                    driver_status  \n",
       "2763   False       False         UTR3  Passengers in absence of driver  \n",
       "2764   False       False     intronic  Passengers in absence of driver  \n",
       "5328   False       False   intergenic  Passengers in absence of driver  \n",
       "5329   False       False     intronic  Passengers in absence of driver  \n",
       "5330   False       False     intronic  Passengers in absence of driver  "
      ]
     },
     "execution_count": 5,
     "metadata": {},
     "output_type": "execute_result"
    }
   ],
   "source": [
    "mut_df = pd.read_csv(f\"{MUT_DATA}/{cancer_type}.tsv\", sep=\"\\t\")\n",
    "print(cancer_type, mut_df.shape)\n",
    "# mutations in driver genes\n",
    "driver_genes = pd.read_csv(f\"{DRIVER_GENES}/{cancer_type}.tsv\", sep=\"\\t\")\n",
    "driver_genes_list = driver_genes[\"gene\"].tolist()\n",
    "mut_df = mut_df[mut_df[\"gene\"].isin(driver_genes_list)]\n",
    "print(mut_df.shape)\n",
    "mut_df = mut_df[[\"Tumor_Sample_Barcode\", \"mutation\", \"gene\", \"driver\", \"has_driver\", \"genic_region\"]]\n",
    "# get driver status\n",
    "mut_df[\"driver_status\"] = mut_df.apply(lambda x: \"Passengers in presence of driver\" if x[\"has_driver\"] else \"Passengers in absence of driver\", axis=1)\n",
    "mut_df[\"driver_status\"] = mut_df.apply(lambda x: \"Drivers\" if x[\"driver\"] else x[\"driver_status\"], axis=1)\n",
    "mut_df.head()"
   ]
  },
  {
   "cell_type": "code",
   "execution_count": 6,
   "metadata": {},
   "outputs": [
    {
     "data": {
      "application/vnd.microsoft.datawrangler.viewer.v0+json": {
       "columns": [
        {
         "name": "index",
         "rawType": "int64",
         "type": "integer"
        },
        {
         "name": "Tumor_Sample_Barcode",
         "rawType": "object",
         "type": "string"
        },
        {
         "name": "mutation",
         "rawType": "object",
         "type": "string"
        },
        {
         "name": "gene",
         "rawType": "object",
         "type": "string"
        },
        {
         "name": "driver",
         "rawType": "bool",
         "type": "boolean"
        },
        {
         "name": "has_driver",
         "rawType": "bool",
         "type": "boolean"
        },
        {
         "name": "genic_region",
         "rawType": "object",
         "type": "string"
        },
        {
         "name": "driver_status",
         "rawType": "object",
         "type": "string"
        },
        {
         "name": "variant",
         "rawType": "object",
         "type": "string"
        }
       ],
       "conversionMethod": "pd.DataFrame",
       "ref": "8bee7a0e-6c95-414b-a719-ede9ab922734",
       "rows": [
        [
         "2763",
         "08b5d0e4-4661-460e-a9f7-f2e687414711",
         "1:115250393-115250393:C:T",
         "NRAS",
         "False",
         "False",
         "UTR3",
         "Passengers in absence of driver",
         "chr1:115250393C>T"
        ],
        [
         "2764",
         "08b5d0e4-4661-460e-a9f7-f2e687414711",
         "1:115251285-115251285:G:A",
         "NRAS",
         "False",
         "False",
         "intronic",
         "Passengers in absence of driver",
         "chr1:115251285G>A"
        ],
        [
         "5328",
         "08b5d0e4-4661-460e-a9f7-f2e687414711",
         "1:240936738-240936738:G:A",
         "RGS7",
         "False",
         "False",
         "intergenic",
         "Passengers in absence of driver",
         "chr1:240936738G>A"
        ],
        [
         "5329",
         "08b5d0e4-4661-460e-a9f7-f2e687414711",
         "1:240940982-240940982:T:A",
         "RGS7",
         "False",
         "False",
         "intronic",
         "Passengers in absence of driver",
         "chr1:240940982T>A"
        ],
        [
         "5330",
         "08b5d0e4-4661-460e-a9f7-f2e687414711",
         "1:240978975-240978975:C:T",
         "RGS7",
         "False",
         "False",
         "intronic",
         "Passengers in absence of driver",
         "chr1:240978975C>T"
        ]
       ],
       "shape": {
        "columns": 8,
        "rows": 5
       }
      },
      "text/html": [
       "<div>\n",
       "<style scoped>\n",
       "    .dataframe tbody tr th:only-of-type {\n",
       "        vertical-align: middle;\n",
       "    }\n",
       "\n",
       "    .dataframe tbody tr th {\n",
       "        vertical-align: top;\n",
       "    }\n",
       "\n",
       "    .dataframe thead th {\n",
       "        text-align: right;\n",
       "    }\n",
       "</style>\n",
       "<table border=\"1\" class=\"dataframe\">\n",
       "  <thead>\n",
       "    <tr style=\"text-align: right;\">\n",
       "      <th></th>\n",
       "      <th>Tumor_Sample_Barcode</th>\n",
       "      <th>mutation</th>\n",
       "      <th>gene</th>\n",
       "      <th>driver</th>\n",
       "      <th>has_driver</th>\n",
       "      <th>genic_region</th>\n",
       "      <th>driver_status</th>\n",
       "      <th>variant</th>\n",
       "    </tr>\n",
       "  </thead>\n",
       "  <tbody>\n",
       "    <tr>\n",
       "      <th>2763</th>\n",
       "      <td>08b5d0e4-4661-460e-a9f7-f2e687414711</td>\n",
       "      <td>1:115250393-115250393:C:T</td>\n",
       "      <td>NRAS</td>\n",
       "      <td>False</td>\n",
       "      <td>False</td>\n",
       "      <td>UTR3</td>\n",
       "      <td>Passengers in absence of driver</td>\n",
       "      <td>chr1:115250393C&gt;T</td>\n",
       "    </tr>\n",
       "    <tr>\n",
       "      <th>2764</th>\n",
       "      <td>08b5d0e4-4661-460e-a9f7-f2e687414711</td>\n",
       "      <td>1:115251285-115251285:G:A</td>\n",
       "      <td>NRAS</td>\n",
       "      <td>False</td>\n",
       "      <td>False</td>\n",
       "      <td>intronic</td>\n",
       "      <td>Passengers in absence of driver</td>\n",
       "      <td>chr1:115251285G&gt;A</td>\n",
       "    </tr>\n",
       "    <tr>\n",
       "      <th>5328</th>\n",
       "      <td>08b5d0e4-4661-460e-a9f7-f2e687414711</td>\n",
       "      <td>1:240936738-240936738:G:A</td>\n",
       "      <td>RGS7</td>\n",
       "      <td>False</td>\n",
       "      <td>False</td>\n",
       "      <td>intergenic</td>\n",
       "      <td>Passengers in absence of driver</td>\n",
       "      <td>chr1:240936738G&gt;A</td>\n",
       "    </tr>\n",
       "    <tr>\n",
       "      <th>5329</th>\n",
       "      <td>08b5d0e4-4661-460e-a9f7-f2e687414711</td>\n",
       "      <td>1:240940982-240940982:T:A</td>\n",
       "      <td>RGS7</td>\n",
       "      <td>False</td>\n",
       "      <td>False</td>\n",
       "      <td>intronic</td>\n",
       "      <td>Passengers in absence of driver</td>\n",
       "      <td>chr1:240940982T&gt;A</td>\n",
       "    </tr>\n",
       "    <tr>\n",
       "      <th>5330</th>\n",
       "      <td>08b5d0e4-4661-460e-a9f7-f2e687414711</td>\n",
       "      <td>1:240978975-240978975:C:T</td>\n",
       "      <td>RGS7</td>\n",
       "      <td>False</td>\n",
       "      <td>False</td>\n",
       "      <td>intronic</td>\n",
       "      <td>Passengers in absence of driver</td>\n",
       "      <td>chr1:240978975C&gt;T</td>\n",
       "    </tr>\n",
       "  </tbody>\n",
       "</table>\n",
       "</div>"
      ],
      "text/plain": [
       "                      Tumor_Sample_Barcode                   mutation  gene  \\\n",
       "2763  08b5d0e4-4661-460e-a9f7-f2e687414711  1:115250393-115250393:C:T  NRAS   \n",
       "2764  08b5d0e4-4661-460e-a9f7-f2e687414711  1:115251285-115251285:G:A  NRAS   \n",
       "5328  08b5d0e4-4661-460e-a9f7-f2e687414711  1:240936738-240936738:G:A  RGS7   \n",
       "5329  08b5d0e4-4661-460e-a9f7-f2e687414711  1:240940982-240940982:T:A  RGS7   \n",
       "5330  08b5d0e4-4661-460e-a9f7-f2e687414711  1:240978975-240978975:C:T  RGS7   \n",
       "\n",
       "      driver  has_driver genic_region                    driver_status  \\\n",
       "2763   False       False         UTR3  Passengers in absence of driver   \n",
       "2764   False       False     intronic  Passengers in absence of driver   \n",
       "5328   False       False   intergenic  Passengers in absence of driver   \n",
       "5329   False       False     intronic  Passengers in absence of driver   \n",
       "5330   False       False     intronic  Passengers in absence of driver   \n",
       "\n",
       "                variant  \n",
       "2763  chr1:115250393C>T  \n",
       "2764  chr1:115251285G>A  \n",
       "5328  chr1:240936738G>A  \n",
       "5329  chr1:240940982T>A  \n",
       "5330  chr1:240978975C>T  "
      ]
     },
     "execution_count": 6,
     "metadata": {},
     "output_type": "execute_result"
    }
   ],
   "source": [
    "def get_key(mutation):\n",
    "\t'''\n",
    "\tGenerate a key to match the mutation format for TFBS data\n",
    "\tUsed to merge the two dataframes on the mutation\n",
    "\t'''\n",
    "\tchrom, pos, ref, alt = mutation.split(\":\")\n",
    "\tpos = pos.split(\"-\")[0]\n",
    "\t# using 0-based indexing for pysam fetch\n",
    "\tstart = int(pos)-1\n",
    "\tend = int(pos)\n",
    "\t# include the previous base in case of indels and MNVs\n",
    "\tif ref == \"-\":\n",
    "\t\tref = REF_GENOME_OPEN.fetch(f\"chr{chrom}\", start-1, start)\n",
    "\t\talt = REF_GENOME_OPEN.fetch(f\"chr{chrom}\", start-1, end)\n",
    "\t\tpos = int(pos) - 1\n",
    "\telif alt == \"-\":\n",
    "\t\tref = REF_GENOME_OPEN.fetch(f\"chr{chrom}\", start-1, end)\n",
    "\t\talt = REF_GENOME_OPEN.fetch(f\"chr{chrom}\", start-1, start)\n",
    "\t\tpos = int(pos) - 1\n",
    "\telif len(ref) > 1 or len(alt) > 1:\n",
    "\t\tref = REF_GENOME_OPEN.fetch(f\"chr{chrom}\", start-1, end)\n",
    "\t\talt = REF_GENOME_OPEN.fetch(f\"chr{chrom}\", start-1, start) + alt\n",
    "\t\tpos = int(pos) - 1\n",
    "\tkey = f\"chr{chrom}:{pos}{ref}>{alt}\"\n",
    "\treturn key\n",
    "\n",
    "# add variant column to use as key for TFBS data\n",
    "mut_df[\"variant\"] = mut_df[\"mutation\"].apply(get_key)\n",
    "mut_df.head()\n"
   ]
  },
  {
   "cell_type": "code",
   "execution_count": 7,
   "metadata": {},
   "outputs": [
    {
     "data": {
      "application/vnd.microsoft.datawrangler.viewer.v0+json": {
       "columns": [
        {
         "name": "index",
         "rawType": "int64",
         "type": "integer"
        },
        {
         "name": "variant",
         "rawType": "object",
         "type": "string"
        },
        {
         "name": "tf",
         "rawType": "object",
         "type": "string"
        },
        {
         "name": "score",
         "rawType": "float64",
         "type": "float"
        },
        {
         "name": "variant_tf",
         "rawType": "object",
         "type": "string"
        }
       ],
       "conversionMethod": "pd.DataFrame",
       "ref": "628dbad0-c193-4090-bc15-e7d7fad7f63d",
       "rows": [
        [
         "0",
         "chr10:96793531G>A",
         "A1CF",
         "0.0255",
         "chr10:96793531G>A_A1CF"
        ],
        [
         "1",
         "chr10:96793531G>A",
         "ABCF2",
         "0.0109",
         "chr10:96793531G>A_ABCF2"
        ],
        [
         "2",
         "chr10:96793531G>A",
         "ADARB1",
         "0.5498",
         "chr10:96793531G>A_ADARB1"
        ],
        [
         "3",
         "chr10:96793531G>A",
         "AGAP2",
         "0.0783",
         "chr10:96793531G>A_AGAP2"
        ],
        [
         "4",
         "chr10:96793531G>A",
         "AGGF1",
         "-0.0448",
         "chr10:96793531G>A_AGGF1"
        ]
       ],
       "shape": {
        "columns": 4,
        "rows": 5
       }
      },
      "text/html": [
       "<div>\n",
       "<style scoped>\n",
       "    .dataframe tbody tr th:only-of-type {\n",
       "        vertical-align: middle;\n",
       "    }\n",
       "\n",
       "    .dataframe tbody tr th {\n",
       "        vertical-align: top;\n",
       "    }\n",
       "\n",
       "    .dataframe thead th {\n",
       "        text-align: right;\n",
       "    }\n",
       "</style>\n",
       "<table border=\"1\" class=\"dataframe\">\n",
       "  <thead>\n",
       "    <tr style=\"text-align: right;\">\n",
       "      <th></th>\n",
       "      <th>variant</th>\n",
       "      <th>tf</th>\n",
       "      <th>score</th>\n",
       "      <th>variant_tf</th>\n",
       "    </tr>\n",
       "  </thead>\n",
       "  <tbody>\n",
       "    <tr>\n",
       "      <th>0</th>\n",
       "      <td>chr10:96793531G&gt;A</td>\n",
       "      <td>A1CF</td>\n",
       "      <td>0.0255</td>\n",
       "      <td>chr10:96793531G&gt;A_A1CF</td>\n",
       "    </tr>\n",
       "    <tr>\n",
       "      <th>1</th>\n",
       "      <td>chr10:96793531G&gt;A</td>\n",
       "      <td>ABCF2</td>\n",
       "      <td>0.0109</td>\n",
       "      <td>chr10:96793531G&gt;A_ABCF2</td>\n",
       "    </tr>\n",
       "    <tr>\n",
       "      <th>2</th>\n",
       "      <td>chr10:96793531G&gt;A</td>\n",
       "      <td>ADARB1</td>\n",
       "      <td>0.5498</td>\n",
       "      <td>chr10:96793531G&gt;A_ADARB1</td>\n",
       "    </tr>\n",
       "    <tr>\n",
       "      <th>3</th>\n",
       "      <td>chr10:96793531G&gt;A</td>\n",
       "      <td>AGAP2</td>\n",
       "      <td>0.0783</td>\n",
       "      <td>chr10:96793531G&gt;A_AGAP2</td>\n",
       "    </tr>\n",
       "    <tr>\n",
       "      <th>4</th>\n",
       "      <td>chr10:96793531G&gt;A</td>\n",
       "      <td>AGGF1</td>\n",
       "      <td>-0.0448</td>\n",
       "      <td>chr10:96793531G&gt;A_AGGF1</td>\n",
       "    </tr>\n",
       "  </tbody>\n",
       "</table>\n",
       "</div>"
      ],
      "text/plain": [
       "             variant      tf   score                variant_tf\n",
       "0  chr10:96793531G>A    A1CF  0.0255    chr10:96793531G>A_A1CF\n",
       "1  chr10:96793531G>A   ABCF2  0.0109   chr10:96793531G>A_ABCF2\n",
       "2  chr10:96793531G>A  ADARB1  0.5498  chr10:96793531G>A_ADARB1\n",
       "3  chr10:96793531G>A   AGAP2  0.0783   chr10:96793531G>A_AGAP2\n",
       "4  chr10:96793531G>A   AGGF1 -0.0448   chr10:96793531G>A_AGGF1"
      ]
     },
     "execution_count": 7,
     "metadata": {},
     "output_type": "execute_result"
    }
   ],
   "source": [
    "# TFBS data\n",
    "tfbs_df = pd.read_csv(f\"{TFBS_DATA}/{cancer_type}.tsv\", sep=\"\\t\")\n",
    "tfbs_df[\"variant_tf\"] = tfbs_df.apply(lambda x: f\"{x['variant']}_{x['tf']}\", axis=1)\n",
    "tfbs_var_dict = tfbs_df.set_index(\"variant_tf\")[\"score\"].to_dict()\n",
    "tfbs_df.head()"
   ]
  },
  {
   "cell_type": "code",
   "execution_count": 8,
   "metadata": {},
   "outputs": [
    {
     "name": "stdout",
     "output_type": "stream",
     "text": [
      "(91, 5)\n",
      "(91, 5)\n"
     ]
    },
    {
     "data": {
      "application/vnd.microsoft.datawrangler.viewer.v0+json": {
       "columns": [
        {
         "name": "index",
         "rawType": "int64",
         "type": "integer"
        },
        {
         "name": "Tumor_Sample_Barcode",
         "rawType": "object",
         "type": "string"
        },
        {
         "name": "variant",
         "rawType": "object",
         "type": "string"
        },
        {
         "name": "gene",
         "rawType": "object",
         "type": "string"
        },
        {
         "name": "driver_status",
         "rawType": "object",
         "type": "string"
        },
        {
         "name": "genic_region",
         "rawType": "object",
         "type": "string"
        }
       ],
       "conversionMethod": "pd.DataFrame",
       "ref": "6f95a4b4-d525-4dcc-bf2b-5a1e1cdb91b8",
       "rows": [
        [
         "49242",
         "08b5d0e4-4661-460e-a9f7-f2e687414711",
         "chr5:1295250G>A",
         "TERT",
         "Drivers",
         "upstream"
        ],
        [
         "216166",
         "0ab4d782-9a50-48b9-96e4-6ce42b2ea034",
         "chr5:1295250G>A",
         "TERT",
         "Drivers",
         "upstream"
        ],
        [
         "216167",
         "0ab4d782-9a50-48b9-96e4-6ce42b2ea034",
         "chr5:1295283G>A",
         "TERT",
         "Drivers",
         "upstream"
        ],
        [
         "362871",
         "108749d2-5c62-4ef1-92df-aec6941ba53b",
         "chr5:1295205G>A",
         "TERT",
         "Drivers",
         "upstream"
        ],
        [
         "490305",
         "13c62975-9f5e-4d40-a461-dceab08a31ec",
         "chr5:1295228G>A",
         "TERT",
         "Drivers",
         "upstream"
        ]
       ],
       "shape": {
        "columns": 5,
        "rows": 5
       }
      },
      "text/html": [
       "<div>\n",
       "<style scoped>\n",
       "    .dataframe tbody tr th:only-of-type {\n",
       "        vertical-align: middle;\n",
       "    }\n",
       "\n",
       "    .dataframe tbody tr th {\n",
       "        vertical-align: top;\n",
       "    }\n",
       "\n",
       "    .dataframe thead th {\n",
       "        text-align: right;\n",
       "    }\n",
       "</style>\n",
       "<table border=\"1\" class=\"dataframe\">\n",
       "  <thead>\n",
       "    <tr style=\"text-align: right;\">\n",
       "      <th></th>\n",
       "      <th>Tumor_Sample_Barcode</th>\n",
       "      <th>variant</th>\n",
       "      <th>gene</th>\n",
       "      <th>driver_status</th>\n",
       "      <th>genic_region</th>\n",
       "    </tr>\n",
       "  </thead>\n",
       "  <tbody>\n",
       "    <tr>\n",
       "      <th>49242</th>\n",
       "      <td>08b5d0e4-4661-460e-a9f7-f2e687414711</td>\n",
       "      <td>chr5:1295250G&gt;A</td>\n",
       "      <td>TERT</td>\n",
       "      <td>Drivers</td>\n",
       "      <td>upstream</td>\n",
       "    </tr>\n",
       "    <tr>\n",
       "      <th>216166</th>\n",
       "      <td>0ab4d782-9a50-48b9-96e4-6ce42b2ea034</td>\n",
       "      <td>chr5:1295250G&gt;A</td>\n",
       "      <td>TERT</td>\n",
       "      <td>Drivers</td>\n",
       "      <td>upstream</td>\n",
       "    </tr>\n",
       "    <tr>\n",
       "      <th>216167</th>\n",
       "      <td>0ab4d782-9a50-48b9-96e4-6ce42b2ea034</td>\n",
       "      <td>chr5:1295283G&gt;A</td>\n",
       "      <td>TERT</td>\n",
       "      <td>Drivers</td>\n",
       "      <td>upstream</td>\n",
       "    </tr>\n",
       "    <tr>\n",
       "      <th>362871</th>\n",
       "      <td>108749d2-5c62-4ef1-92df-aec6941ba53b</td>\n",
       "      <td>chr5:1295205G&gt;A</td>\n",
       "      <td>TERT</td>\n",
       "      <td>Drivers</td>\n",
       "      <td>upstream</td>\n",
       "    </tr>\n",
       "    <tr>\n",
       "      <th>490305</th>\n",
       "      <td>13c62975-9f5e-4d40-a461-dceab08a31ec</td>\n",
       "      <td>chr5:1295228G&gt;A</td>\n",
       "      <td>TERT</td>\n",
       "      <td>Drivers</td>\n",
       "      <td>upstream</td>\n",
       "    </tr>\n",
       "  </tbody>\n",
       "</table>\n",
       "</div>"
      ],
      "text/plain": [
       "                        Tumor_Sample_Barcode          variant  gene  \\\n",
       "49242   08b5d0e4-4661-460e-a9f7-f2e687414711  chr5:1295250G>A  TERT   \n",
       "216166  0ab4d782-9a50-48b9-96e4-6ce42b2ea034  chr5:1295250G>A  TERT   \n",
       "216167  0ab4d782-9a50-48b9-96e4-6ce42b2ea034  chr5:1295283G>A  TERT   \n",
       "362871  108749d2-5c62-4ef1-92df-aec6941ba53b  chr5:1295205G>A  TERT   \n",
       "490305  13c62975-9f5e-4d40-a461-dceab08a31ec  chr5:1295228G>A  TERT   \n",
       "\n",
       "       driver_status genic_region  \n",
       "49242        Drivers     upstream  \n",
       "216166       Drivers     upstream  \n",
       "216167       Drivers     upstream  \n",
       "362871       Drivers     upstream  \n",
       "490305       Drivers     upstream  "
      ]
     },
     "execution_count": 8,
     "metadata": {},
     "output_type": "execute_result"
    }
   ],
   "source": [
    "mut_tf_df = mut_df[[\"Tumor_Sample_Barcode\", \"variant\", \"gene\", \"driver_status\", \"genic_region\"]].copy()\n",
    "mut_tf_df = mut_tf_df[mut_tf_df[\"genic_region\"] == \"upstream\"]\n",
    "print(mut_tf_df.shape)\n",
    "mut_tf_df.drop_duplicates(inplace=True)\n",
    "print(mut_tf_df.shape)\n",
    "mut_tf_df.head()"
   ]
  },
  {
   "cell_type": "code",
   "execution_count": 9,
   "metadata": {},
   "outputs": [],
   "source": [
    "def cohen_d(x, y):\n",
    "    # size of samples\n",
    "    n1, n2 = len(x), len(y)\n",
    "    # variance of the samples\n",
    "    s1, s2 = var(x, ddof=1), var(y, ddof=1)\n",
    "    # pooled standard deviation\n",
    "    s = sqrt(((n1 - 1) * s1 + (n2 - 1) * s2) / (n1 + n2 - 2))\n",
    "    # means of the samples\n",
    "    u1, u2 = mean(x), mean(y)\n",
    "    # return the effect size\n",
    "    return (u1 - u2) / s"
   ]
  },
  {
   "cell_type": "code",
   "execution_count": 10,
   "metadata": {},
   "outputs": [
    {
     "name": "stdout",
     "output_type": "stream",
     "text": [
      "(126217, 9)\n"
     ]
    },
    {
     "data": {
      "application/vnd.microsoft.datawrangler.viewer.v0+json": {
       "columns": [
        {
         "name": "index",
         "rawType": "int64",
         "type": "integer"
        },
        {
         "name": "Tumor_Sample_Barcode",
         "rawType": "object",
         "type": "string"
        },
        {
         "name": "variant",
         "rawType": "object",
         "type": "string"
        },
        {
         "name": "gene",
         "rawType": "object",
         "type": "string"
        },
        {
         "name": "driver_status",
         "rawType": "object",
         "type": "string"
        },
        {
         "name": "genic_region",
         "rawType": "object",
         "type": "string"
        },
        {
         "name": "tf",
         "rawType": "object",
         "type": "string"
        },
        {
         "name": "score",
         "rawType": "float64",
         "type": "float"
        },
        {
         "name": "abs_score",
         "rawType": "float64",
         "type": "float"
        },
        {
         "name": "prediction",
         "rawType": "object",
         "type": "string"
        }
       ],
       "conversionMethod": "pd.DataFrame",
       "ref": "428bccf4-8d7c-472c-b47a-7dee54eded7a",
       "rows": [
        [
         "0",
         "08b5d0e4-4661-460e-a9f7-f2e687414711",
         "chr5:1295250G>A",
         "TERT",
         "Drivers",
         "upstream",
         "A1CF",
         "0.0",
         "0.0",
         "loss"
        ],
        [
         "1",
         "0ab4d782-9a50-48b9-96e4-6ce42b2ea034",
         "chr5:1295250G>A",
         "TERT",
         "Drivers",
         "upstream",
         "A1CF",
         "0.0",
         "0.0",
         "loss"
        ],
        [
         "2",
         "0ab4d782-9a50-48b9-96e4-6ce42b2ea034",
         "chr5:1295283G>A",
         "TERT",
         "Drivers",
         "upstream",
         "A1CF",
         "0.0",
         "0.0",
         "loss"
        ],
        [
         "3",
         "108749d2-5c62-4ef1-92df-aec6941ba53b",
         "chr5:1295205G>A",
         "TERT",
         "Drivers",
         "upstream",
         "A1CF",
         "0.0",
         "0.0",
         "loss"
        ],
        [
         "4",
         "13c62975-9f5e-4d40-a461-dceab08a31ec",
         "chr5:1295228G>A",
         "TERT",
         "Drivers",
         "upstream",
         "A1CF",
         "0.0",
         "0.0",
         "loss"
        ]
       ],
       "shape": {
        "columns": 9,
        "rows": 5
       }
      },
      "text/html": [
       "<div>\n",
       "<style scoped>\n",
       "    .dataframe tbody tr th:only-of-type {\n",
       "        vertical-align: middle;\n",
       "    }\n",
       "\n",
       "    .dataframe tbody tr th {\n",
       "        vertical-align: top;\n",
       "    }\n",
       "\n",
       "    .dataframe thead th {\n",
       "        text-align: right;\n",
       "    }\n",
       "</style>\n",
       "<table border=\"1\" class=\"dataframe\">\n",
       "  <thead>\n",
       "    <tr style=\"text-align: right;\">\n",
       "      <th></th>\n",
       "      <th>Tumor_Sample_Barcode</th>\n",
       "      <th>variant</th>\n",
       "      <th>gene</th>\n",
       "      <th>driver_status</th>\n",
       "      <th>genic_region</th>\n",
       "      <th>tf</th>\n",
       "      <th>score</th>\n",
       "      <th>abs_score</th>\n",
       "      <th>prediction</th>\n",
       "    </tr>\n",
       "  </thead>\n",
       "  <tbody>\n",
       "    <tr>\n",
       "      <th>0</th>\n",
       "      <td>08b5d0e4-4661-460e-a9f7-f2e687414711</td>\n",
       "      <td>chr5:1295250G&gt;A</td>\n",
       "      <td>TERT</td>\n",
       "      <td>Drivers</td>\n",
       "      <td>upstream</td>\n",
       "      <td>A1CF</td>\n",
       "      <td>0.0</td>\n",
       "      <td>0.0</td>\n",
       "      <td>loss</td>\n",
       "    </tr>\n",
       "    <tr>\n",
       "      <th>1</th>\n",
       "      <td>0ab4d782-9a50-48b9-96e4-6ce42b2ea034</td>\n",
       "      <td>chr5:1295250G&gt;A</td>\n",
       "      <td>TERT</td>\n",
       "      <td>Drivers</td>\n",
       "      <td>upstream</td>\n",
       "      <td>A1CF</td>\n",
       "      <td>0.0</td>\n",
       "      <td>0.0</td>\n",
       "      <td>loss</td>\n",
       "    </tr>\n",
       "    <tr>\n",
       "      <th>2</th>\n",
       "      <td>0ab4d782-9a50-48b9-96e4-6ce42b2ea034</td>\n",
       "      <td>chr5:1295283G&gt;A</td>\n",
       "      <td>TERT</td>\n",
       "      <td>Drivers</td>\n",
       "      <td>upstream</td>\n",
       "      <td>A1CF</td>\n",
       "      <td>0.0</td>\n",
       "      <td>0.0</td>\n",
       "      <td>loss</td>\n",
       "    </tr>\n",
       "    <tr>\n",
       "      <th>3</th>\n",
       "      <td>108749d2-5c62-4ef1-92df-aec6941ba53b</td>\n",
       "      <td>chr5:1295205G&gt;A</td>\n",
       "      <td>TERT</td>\n",
       "      <td>Drivers</td>\n",
       "      <td>upstream</td>\n",
       "      <td>A1CF</td>\n",
       "      <td>0.0</td>\n",
       "      <td>0.0</td>\n",
       "      <td>loss</td>\n",
       "    </tr>\n",
       "    <tr>\n",
       "      <th>4</th>\n",
       "      <td>13c62975-9f5e-4d40-a461-dceab08a31ec</td>\n",
       "      <td>chr5:1295228G&gt;A</td>\n",
       "      <td>TERT</td>\n",
       "      <td>Drivers</td>\n",
       "      <td>upstream</td>\n",
       "      <td>A1CF</td>\n",
       "      <td>0.0</td>\n",
       "      <td>0.0</td>\n",
       "      <td>loss</td>\n",
       "    </tr>\n",
       "  </tbody>\n",
       "</table>\n",
       "</div>"
      ],
      "text/plain": [
       "                   Tumor_Sample_Barcode          variant  gene driver_status  \\\n",
       "0  08b5d0e4-4661-460e-a9f7-f2e687414711  chr5:1295250G>A  TERT       Drivers   \n",
       "1  0ab4d782-9a50-48b9-96e4-6ce42b2ea034  chr5:1295250G>A  TERT       Drivers   \n",
       "2  0ab4d782-9a50-48b9-96e4-6ce42b2ea034  chr5:1295283G>A  TERT       Drivers   \n",
       "3  108749d2-5c62-4ef1-92df-aec6941ba53b  chr5:1295205G>A  TERT       Drivers   \n",
       "4  13c62975-9f5e-4d40-a461-dceab08a31ec  chr5:1295228G>A  TERT       Drivers   \n",
       "\n",
       "  genic_region    tf  score  abs_score prediction  \n",
       "0     upstream  A1CF    0.0        0.0       loss  \n",
       "1     upstream  A1CF    0.0        0.0       loss  \n",
       "2     upstream  A1CF    0.0        0.0       loss  \n",
       "3     upstream  A1CF    0.0        0.0       loss  \n",
       "4     upstream  A1CF    0.0        0.0       loss  "
      ]
     },
     "execution_count": 10,
     "metadata": {},
     "output_type": "execute_result"
    }
   ],
   "source": [
    "tf_diff = []\n",
    "tfs = tfbs_df[\"tf\"].unique().tolist()\n",
    "mut_tf_data = pd.DataFrame()\n",
    "for tf in tfs:\n",
    "\tmut_data_df = mut_tf_df.copy()\n",
    "\tmut_data_df[\"tf\"] = tf\n",
    "\tmut_data_df[\"score\"] = mut_data_df.apply(lambda x: tfbs_var_dict.get(f\"{x['variant']}_{tf}\", 0), axis=1).astype(float)\n",
    "\tmut_data_df[\"abs_score\"] = mut_data_df[\"score\"].abs()\n",
    "\tmut_data_df[\"prediction\"] = mut_data_df[\"score\"].apply(lambda x: \"gain\" if x > 0 else \"loss\")\n",
    "\tmut_data_df[\"prediction\"] = mut_data_df[\"prediction\"].apply(lambda x: \"no change\" if x == 0 else x)\n",
    "\tmut_tf_data = pd.concat([mut_tf_data, mut_data_df], axis=0)\n",
    "mut_tf_data.reset_index(drop=True, inplace=True)\n",
    "print(mut_tf_data.shape)\n",
    "mut_tf_data.head()"
   ]
  },
  {
   "cell_type": "code",
   "execution_count": 11,
   "metadata": {},
   "outputs": [
    {
     "data": {
      "application/vnd.microsoft.datawrangler.viewer.v0+json": {
       "columns": [
        {
         "name": "index",
         "rawType": "int64",
         "type": "integer"
        },
        {
         "name": "Tumor_Sample_Barcode",
         "rawType": "object",
         "type": "string"
        },
        {
         "name": "variant",
         "rawType": "object",
         "type": "string"
        },
        {
         "name": "gene",
         "rawType": "object",
         "type": "string"
        },
        {
         "name": "driver_status",
         "rawType": "object",
         "type": "string"
        },
        {
         "name": "genic_region",
         "rawType": "object",
         "type": "string"
        },
        {
         "name": "tf",
         "rawType": "object",
         "type": "string"
        },
        {
         "name": "score",
         "rawType": "float64",
         "type": "float"
        },
        {
         "name": "abs_score",
         "rawType": "float64",
         "type": "float"
        },
        {
         "name": "prediction",
         "rawType": "object",
         "type": "string"
        }
       ],
       "conversionMethod": "pd.DataFrame",
       "ref": "5d8162f8-9834-44d4-91f1-d19bce179de0",
       "rows": [
        [
         "7",
         "22d67778-61fc-4f15-95b8-7e7c6cc7112b",
         "chr10:96830190G>A",
         "CYP2C8",
         "Passengers in absence of driver",
         "upstream",
         "A1CF",
         "0.0",
         "0.0",
         "loss"
        ],
        [
         "8",
         "22d67778-61fc-4f15-95b8-7e7c6cc7112b",
         "chr17:48279225G>A",
         "COL1A1",
         "Passengers in absence of driver",
         "upstream",
         "A1CF",
         "0.0235",
         "0.0235",
         "gain"
        ],
        [
         "9",
         "25103371-28ac-4f43-b0e2-2d376d0dcb84",
         "chr10:96829300G>A",
         "CYP2C8",
         "Passengers in absence of driver",
         "upstream",
         "A1CF",
         "0.2707",
         "0.2707",
         "gain"
        ],
        [
         "10",
         "25103371-28ac-4f43-b0e2-2d376d0dcb84",
         "chr10:96830028C>T",
         "CYP2C8",
         "Passengers in absence of driver",
         "upstream",
         "A1CF",
         "0.0",
         "0.0",
         "loss"
        ],
        [
         "12",
         "2790b964-63e3-49aa-bf8c-9a00d3448c25",
         "chr7:98475319C>T",
         "TRRAP",
         "Passengers in absence of driver",
         "upstream",
         "A1CF",
         "0.0121",
         "0.0121",
         "gain"
        ],
        [
         "16",
         "4e8396f7-9506-4401-96b6-bb2e89557d59",
         "chr17:48279083G>T",
         "COL1A1",
         "Passengers in absence of driver",
         "upstream",
         "A1CF",
         "0.0",
         "0.0",
         "loss"
        ],
        [
         "18",
         "5c3def3a-b515-41f6-8157-681b963534e7",
         "chr17:48279578G>A",
         "COL1A1",
         "Passengers in absence of driver",
         "upstream",
         "A1CF",
         "0.0",
         "0.0",
         "loss"
        ],
        [
         "20",
         "5c3def3a-b515-41f6-8157-681b963534e7",
         "chr7:140624864C>T",
         "BRAF",
         "Passengers in absence of driver",
         "upstream",
         "A1CF",
         "0.4044",
         "0.4044",
         "gain"
        ],
        [
         "21",
         "60413de1-6cd2-4f74-8180-3bdd394d6d16",
         "chr1:241521177G>A",
         "RGS7",
         "Passengers in absence of driver",
         "upstream",
         "A1CF",
         "0.0",
         "0.0",
         "loss"
        ],
        [
         "22",
         "60413de1-6cd2-4f74-8180-3bdd394d6d16",
         "chr10:96829346C>T",
         "CYP2C8",
         "Passengers in absence of driver",
         "upstream",
         "A1CF",
         "0.0",
         "0.0",
         "loss"
        ],
        [
         "23",
         "60413de1-6cd2-4f74-8180-3bdd394d6d16",
         "chr10:96829545G>A",
         "CYP2C8",
         "Passengers in absence of driver",
         "upstream",
         "A1CF",
         "0.0",
         "0.0",
         "loss"
        ],
        [
         "24",
         "60413de1-6cd2-4f74-8180-3bdd394d6d16",
         "chr10:96829998C>T",
         "CYP2C8",
         "Passengers in absence of driver",
         "upstream",
         "A1CF",
         "0.0",
         "0.0",
         "loss"
        ],
        [
         "25",
         "60413de1-6cd2-4f74-8180-3bdd394d6d16",
         "chr3:77088333C>T",
         "ROBO2",
         "Passengers in absence of driver",
         "upstream",
         "A1CF",
         "-0.0204",
         "0.0204",
         "loss"
        ],
        [
         "28",
         "72108583-5320-46ec-945f-5ff173d7dc15",
         "chr10:96829564T>A",
         "CYP2C8",
         "Passengers in absence of driver",
         "upstream",
         "A1CF",
         "0.0",
         "0.0",
         "loss"
        ],
        [
         "29",
         "72108583-5320-46ec-945f-5ff173d7dc15",
         "chr12:57119117A>C",
         "NACA",
         "Passengers in absence of driver",
         "upstream",
         "A1CF",
         "-0.0318",
         "0.0318",
         "loss"
        ],
        [
         "32",
         "98e8f23c-5970-4fce-9551-4b11a772fe1b",
         "chr1:241520679C>T",
         "RGS7",
         "Passengers in absence of driver",
         "upstream",
         "A1CF",
         "0.0",
         "0.0",
         "loss"
        ],
        [
         "33",
         "98e8f23c-5970-4fce-9551-4b11a772fe1b",
         "chr3:169382331C>T",
         "MECOM",
         "Passengers in absence of driver",
         "upstream",
         "A1CF",
         "0.0",
         "0.0",
         "loss"
        ],
        [
         "36",
         "9fc5b5c7-3973-42b4-8710-454de0cb5b50",
         "chr12:57119519TC>T",
         "NACA",
         "Passengers in absence of driver",
         "upstream",
         "A1CF",
         "0.0",
         "0.0",
         "loss"
        ],
        [
         "37",
         "9fc5b5c7-3973-42b4-8710-454de0cb5b50",
         "chr7:98475925GC>G",
         "TRRAP",
         "Passengers in absence of driver",
         "upstream",
         "A1CF",
         "0.0",
         "0.0",
         "loss"
        ],
        [
         "38",
         "a84915de-6562-4836-86f9-f2a05598296e",
         "chr3:77089006C>CT",
         "ROBO2",
         "Passengers in absence of driver",
         "upstream",
         "A1CF",
         "0.0",
         "0.0",
         "loss"
        ],
        [
         "39",
         "b42d183c-bc9c-4652-9e56-10c54c5ee96e",
         "chr7:98475340G>A",
         "TRRAP",
         "Passengers in presence of driver",
         "upstream",
         "A1CF",
         "0.0041",
         "0.0041",
         "gain"
        ],
        [
         "42",
         "ca8fa9f5-3190-440d-9879-22e33d05ca6c",
         "chr1:241520789C>A",
         "RGS7",
         "Passengers in absence of driver",
         "upstream",
         "A1CF",
         "0.0",
         "0.0",
         "loss"
        ],
        [
         "44",
         "e2b2357c-da6f-4ca3-9c07-a22f0423e8fe",
         "chr10:96829315G>A",
         "CYP2C8",
         "Passengers in absence of driver",
         "upstream",
         "A1CF",
         "0.0",
         "0.0",
         "loss"
        ],
        [
         "47",
         "ead1bc2e-42c3-46d9-8f6f-8cb16ba9d2c3",
         "chr5:1295566G>A",
         "TERT",
         "Passengers in presence of driver",
         "upstream",
         "A1CF",
         "-0.3317",
         "0.3317",
         "loss"
        ],
        [
         "48",
         "ead1bc2e-42c3-46d9-8f6f-8cb16ba9d2c3",
         "chr5:1295750G>A",
         "TERT",
         "Passengers in presence of driver",
         "upstream",
         "A1CF",
         "0.0",
         "0.0",
         "loss"
        ],
        [
         "51",
         "04aa6b77-8074-480c-872e-a1a47afa5314",
         "chr10:96829276C>T",
         "CYP2C8",
         "Passengers in absence of driver",
         "upstream",
         "A1CF",
         "0.0",
         "0.0",
         "loss"
        ],
        [
         "52",
         "04aa6b77-8074-480c-872e-a1a47afa5314",
         "chr3:77088677C>T",
         "ROBO2",
         "Passengers in absence of driver",
         "upstream",
         "A1CF",
         "0.0",
         "0.0",
         "loss"
        ],
        [
         "60",
         "3869ff3f-21b9-4817-8ff4-83c6fc75ab11",
         "chr10:96830006G>A",
         "CYP2C8",
         "Passengers in absence of driver",
         "upstream",
         "A1CF",
         "0.0",
         "0.0",
         "loss"
        ],
        [
         "61",
         "3869ff3f-21b9-4817-8ff4-83c6fc75ab11",
         "chr3:169381814G>A",
         "MECOM",
         "Passengers in absence of driver",
         "upstream",
         "A1CF",
         "0.0",
         "0.0",
         "loss"
        ],
        [
         "65",
         "507620ef-f0fc-4ac3-a7c0-ea2e36c40f77",
         "chr7:140624821C>T",
         "BRAF",
         "Passengers in absence of driver",
         "upstream",
         "A1CF",
         "0.042",
         "0.042",
         "gain"
        ],
        [
         "74",
         "978ae91e-6ebe-4efa-97ff-cfad511ae7b3",
         "chr12:46123258G>A",
         "ARID2",
         "Passengers in absence of driver",
         "upstream",
         "A1CF",
         "0.2509",
         "0.2509",
         "gain"
        ],
        [
         "75",
         "978ae91e-6ebe-4efa-97ff-cfad511ae7b3",
         "chr12:46123395C>T",
         "ARID2",
         "Passengers in absence of driver",
         "upstream",
         "A1CF",
         "0.0558",
         "0.0558",
         "gain"
        ],
        [
         "79",
         "b07bad52-d44c-4b27-900a-960985bfadec",
         "chr3:77088443C>T",
         "ROBO2",
         "Passengers in absence of driver",
         "upstream",
         "A1CF",
         "0.0",
         "0.0",
         "loss"
        ],
        [
         "80",
         "b07bad52-d44c-4b27-900a-960985bfadec",
         "chr3:169382259A>G",
         "MECOM",
         "Passengers in absence of driver",
         "upstream",
         "A1CF",
         "-0.3662",
         "0.3662",
         "loss"
        ],
        [
         "87",
         "e2774050-1257-4c29-b201-d79ce70fe17e",
         "chr10:96829300G>A",
         "CYP2C8",
         "Passengers in absence of driver",
         "upstream",
         "A1CF",
         "0.2707",
         "0.2707",
         "gain"
        ],
        [
         "98",
         "22d67778-61fc-4f15-95b8-7e7c6cc7112b",
         "chr10:96830190G>A",
         "CYP2C8",
         "Passengers in absence of driver",
         "upstream",
         "ABCF2",
         "0.0",
         "0.0",
         "loss"
        ],
        [
         "99",
         "22d67778-61fc-4f15-95b8-7e7c6cc7112b",
         "chr17:48279225G>A",
         "COL1A1",
         "Passengers in absence of driver",
         "upstream",
         "ABCF2",
         "0.009",
         "0.009",
         "gain"
        ],
        [
         "100",
         "25103371-28ac-4f43-b0e2-2d376d0dcb84",
         "chr10:96829300G>A",
         "CYP2C8",
         "Passengers in absence of driver",
         "upstream",
         "ABCF2",
         "0.0",
         "0.0",
         "loss"
        ],
        [
         "101",
         "25103371-28ac-4f43-b0e2-2d376d0dcb84",
         "chr10:96830028C>T",
         "CYP2C8",
         "Passengers in absence of driver",
         "upstream",
         "ABCF2",
         "0.0",
         "0.0",
         "loss"
        ],
        [
         "103",
         "2790b964-63e3-49aa-bf8c-9a00d3448c25",
         "chr7:98475319C>T",
         "TRRAP",
         "Passengers in absence of driver",
         "upstream",
         "ABCF2",
         "0.362",
         "0.362",
         "gain"
        ],
        [
         "107",
         "4e8396f7-9506-4401-96b6-bb2e89557d59",
         "chr17:48279083G>T",
         "COL1A1",
         "Passengers in absence of driver",
         "upstream",
         "ABCF2",
         "0.0",
         "0.0",
         "loss"
        ],
        [
         "109",
         "5c3def3a-b515-41f6-8157-681b963534e7",
         "chr17:48279578G>A",
         "COL1A1",
         "Passengers in absence of driver",
         "upstream",
         "ABCF2",
         "0.0",
         "0.0",
         "loss"
        ],
        [
         "111",
         "5c3def3a-b515-41f6-8157-681b963534e7",
         "chr7:140624864C>T",
         "BRAF",
         "Passengers in absence of driver",
         "upstream",
         "ABCF2",
         "-0.1207",
         "0.1207",
         "loss"
        ],
        [
         "112",
         "60413de1-6cd2-4f74-8180-3bdd394d6d16",
         "chr1:241521177G>A",
         "RGS7",
         "Passengers in absence of driver",
         "upstream",
         "ABCF2",
         "-0.4173",
         "0.4173",
         "loss"
        ],
        [
         "113",
         "60413de1-6cd2-4f74-8180-3bdd394d6d16",
         "chr10:96829346C>T",
         "CYP2C8",
         "Passengers in absence of driver",
         "upstream",
         "ABCF2",
         "0.0",
         "0.0",
         "loss"
        ],
        [
         "114",
         "60413de1-6cd2-4f74-8180-3bdd394d6d16",
         "chr10:96829545G>A",
         "CYP2C8",
         "Passengers in absence of driver",
         "upstream",
         "ABCF2",
         "-0.328",
         "0.328",
         "loss"
        ],
        [
         "115",
         "60413de1-6cd2-4f74-8180-3bdd394d6d16",
         "chr10:96829998C>T",
         "CYP2C8",
         "Passengers in absence of driver",
         "upstream",
         "ABCF2",
         "0.0",
         "0.0",
         "loss"
        ],
        [
         "116",
         "60413de1-6cd2-4f74-8180-3bdd394d6d16",
         "chr3:77088333C>T",
         "ROBO2",
         "Passengers in absence of driver",
         "upstream",
         "ABCF2",
         "0.0",
         "0.0",
         "loss"
        ],
        [
         "119",
         "72108583-5320-46ec-945f-5ff173d7dc15",
         "chr10:96829564T>A",
         "CYP2C8",
         "Passengers in absence of driver",
         "upstream",
         "ABCF2",
         "0.0",
         "0.0",
         "loss"
        ],
        [
         "120",
         "72108583-5320-46ec-945f-5ff173d7dc15",
         "chr12:57119117A>C",
         "NACA",
         "Passengers in absence of driver",
         "upstream",
         "ABCF2",
         "0.0",
         "0.0",
         "loss"
        ]
       ],
       "shape": {
        "columns": 9,
        "rows": 48545
       }
      },
      "text/html": [
       "<div>\n",
       "<style scoped>\n",
       "    .dataframe tbody tr th:only-of-type {\n",
       "        vertical-align: middle;\n",
       "    }\n",
       "\n",
       "    .dataframe tbody tr th {\n",
       "        vertical-align: top;\n",
       "    }\n",
       "\n",
       "    .dataframe thead th {\n",
       "        text-align: right;\n",
       "    }\n",
       "</style>\n",
       "<table border=\"1\" class=\"dataframe\">\n",
       "  <thead>\n",
       "    <tr style=\"text-align: right;\">\n",
       "      <th></th>\n",
       "      <th>Tumor_Sample_Barcode</th>\n",
       "      <th>variant</th>\n",
       "      <th>gene</th>\n",
       "      <th>driver_status</th>\n",
       "      <th>genic_region</th>\n",
       "      <th>tf</th>\n",
       "      <th>score</th>\n",
       "      <th>abs_score</th>\n",
       "      <th>prediction</th>\n",
       "    </tr>\n",
       "  </thead>\n",
       "  <tbody>\n",
       "    <tr>\n",
       "      <th>7</th>\n",
       "      <td>22d67778-61fc-4f15-95b8-7e7c6cc7112b</td>\n",
       "      <td>chr10:96830190G&gt;A</td>\n",
       "      <td>CYP2C8</td>\n",
       "      <td>Passengers in absence of driver</td>\n",
       "      <td>upstream</td>\n",
       "      <td>A1CF</td>\n",
       "      <td>0.0000</td>\n",
       "      <td>0.0000</td>\n",
       "      <td>loss</td>\n",
       "    </tr>\n",
       "    <tr>\n",
       "      <th>8</th>\n",
       "      <td>22d67778-61fc-4f15-95b8-7e7c6cc7112b</td>\n",
       "      <td>chr17:48279225G&gt;A</td>\n",
       "      <td>COL1A1</td>\n",
       "      <td>Passengers in absence of driver</td>\n",
       "      <td>upstream</td>\n",
       "      <td>A1CF</td>\n",
       "      <td>0.0235</td>\n",
       "      <td>0.0235</td>\n",
       "      <td>gain</td>\n",
       "    </tr>\n",
       "    <tr>\n",
       "      <th>9</th>\n",
       "      <td>25103371-28ac-4f43-b0e2-2d376d0dcb84</td>\n",
       "      <td>chr10:96829300G&gt;A</td>\n",
       "      <td>CYP2C8</td>\n",
       "      <td>Passengers in absence of driver</td>\n",
       "      <td>upstream</td>\n",
       "      <td>A1CF</td>\n",
       "      <td>0.2707</td>\n",
       "      <td>0.2707</td>\n",
       "      <td>gain</td>\n",
       "    </tr>\n",
       "    <tr>\n",
       "      <th>10</th>\n",
       "      <td>25103371-28ac-4f43-b0e2-2d376d0dcb84</td>\n",
       "      <td>chr10:96830028C&gt;T</td>\n",
       "      <td>CYP2C8</td>\n",
       "      <td>Passengers in absence of driver</td>\n",
       "      <td>upstream</td>\n",
       "      <td>A1CF</td>\n",
       "      <td>0.0000</td>\n",
       "      <td>0.0000</td>\n",
       "      <td>loss</td>\n",
       "    </tr>\n",
       "    <tr>\n",
       "      <th>12</th>\n",
       "      <td>2790b964-63e3-49aa-bf8c-9a00d3448c25</td>\n",
       "      <td>chr7:98475319C&gt;T</td>\n",
       "      <td>TRRAP</td>\n",
       "      <td>Passengers in absence of driver</td>\n",
       "      <td>upstream</td>\n",
       "      <td>A1CF</td>\n",
       "      <td>0.0121</td>\n",
       "      <td>0.0121</td>\n",
       "      <td>gain</td>\n",
       "    </tr>\n",
       "    <tr>\n",
       "      <th>...</th>\n",
       "      <td>...</td>\n",
       "      <td>...</td>\n",
       "      <td>...</td>\n",
       "      <td>...</td>\n",
       "      <td>...</td>\n",
       "      <td>...</td>\n",
       "      <td>...</td>\n",
       "      <td>...</td>\n",
       "      <td>...</td>\n",
       "    </tr>\n",
       "    <tr>\n",
       "      <th>126200</th>\n",
       "      <td>978ae91e-6ebe-4efa-97ff-cfad511ae7b3</td>\n",
       "      <td>chr12:46123258G&gt;A</td>\n",
       "      <td>ARID2</td>\n",
       "      <td>Passengers in absence of driver</td>\n",
       "      <td>upstream</td>\n",
       "      <td>UGP2</td>\n",
       "      <td>0.0000</td>\n",
       "      <td>0.0000</td>\n",
       "      <td>loss</td>\n",
       "    </tr>\n",
       "    <tr>\n",
       "      <th>126201</th>\n",
       "      <td>978ae91e-6ebe-4efa-97ff-cfad511ae7b3</td>\n",
       "      <td>chr12:46123395C&gt;T</td>\n",
       "      <td>ARID2</td>\n",
       "      <td>Passengers in absence of driver</td>\n",
       "      <td>upstream</td>\n",
       "      <td>UGP2</td>\n",
       "      <td>-0.3715</td>\n",
       "      <td>0.3715</td>\n",
       "      <td>loss</td>\n",
       "    </tr>\n",
       "    <tr>\n",
       "      <th>126205</th>\n",
       "      <td>b07bad52-d44c-4b27-900a-960985bfadec</td>\n",
       "      <td>chr3:77088443C&gt;T</td>\n",
       "      <td>ROBO2</td>\n",
       "      <td>Passengers in absence of driver</td>\n",
       "      <td>upstream</td>\n",
       "      <td>UGP2</td>\n",
       "      <td>-0.0381</td>\n",
       "      <td>0.0381</td>\n",
       "      <td>loss</td>\n",
       "    </tr>\n",
       "    <tr>\n",
       "      <th>126206</th>\n",
       "      <td>b07bad52-d44c-4b27-900a-960985bfadec</td>\n",
       "      <td>chr3:169382259A&gt;G</td>\n",
       "      <td>MECOM</td>\n",
       "      <td>Passengers in absence of driver</td>\n",
       "      <td>upstream</td>\n",
       "      <td>UGP2</td>\n",
       "      <td>0.7061</td>\n",
       "      <td>0.7061</td>\n",
       "      <td>gain</td>\n",
       "    </tr>\n",
       "    <tr>\n",
       "      <th>126213</th>\n",
       "      <td>e2774050-1257-4c29-b201-d79ce70fe17e</td>\n",
       "      <td>chr10:96829300G&gt;A</td>\n",
       "      <td>CYP2C8</td>\n",
       "      <td>Passengers in absence of driver</td>\n",
       "      <td>upstream</td>\n",
       "      <td>UGP2</td>\n",
       "      <td>-0.0147</td>\n",
       "      <td>0.0147</td>\n",
       "      <td>loss</td>\n",
       "    </tr>\n",
       "  </tbody>\n",
       "</table>\n",
       "<p>48545 rows × 9 columns</p>\n",
       "</div>"
      ],
      "text/plain": [
       "                        Tumor_Sample_Barcode            variant    gene  \\\n",
       "7       22d67778-61fc-4f15-95b8-7e7c6cc7112b  chr10:96830190G>A  CYP2C8   \n",
       "8       22d67778-61fc-4f15-95b8-7e7c6cc7112b  chr17:48279225G>A  COL1A1   \n",
       "9       25103371-28ac-4f43-b0e2-2d376d0dcb84  chr10:96829300G>A  CYP2C8   \n",
       "10      25103371-28ac-4f43-b0e2-2d376d0dcb84  chr10:96830028C>T  CYP2C8   \n",
       "12      2790b964-63e3-49aa-bf8c-9a00d3448c25   chr7:98475319C>T   TRRAP   \n",
       "...                                      ...                ...     ...   \n",
       "126200  978ae91e-6ebe-4efa-97ff-cfad511ae7b3  chr12:46123258G>A   ARID2   \n",
       "126201  978ae91e-6ebe-4efa-97ff-cfad511ae7b3  chr12:46123395C>T   ARID2   \n",
       "126205  b07bad52-d44c-4b27-900a-960985bfadec   chr3:77088443C>T   ROBO2   \n",
       "126206  b07bad52-d44c-4b27-900a-960985bfadec  chr3:169382259A>G   MECOM   \n",
       "126213  e2774050-1257-4c29-b201-d79ce70fe17e  chr10:96829300G>A  CYP2C8   \n",
       "\n",
       "                          driver_status genic_region    tf   score  abs_score  \\\n",
       "7       Passengers in absence of driver     upstream  A1CF  0.0000     0.0000   \n",
       "8       Passengers in absence of driver     upstream  A1CF  0.0235     0.0235   \n",
       "9       Passengers in absence of driver     upstream  A1CF  0.2707     0.2707   \n",
       "10      Passengers in absence of driver     upstream  A1CF  0.0000     0.0000   \n",
       "12      Passengers in absence of driver     upstream  A1CF  0.0121     0.0121   \n",
       "...                                 ...          ...   ...     ...        ...   \n",
       "126200  Passengers in absence of driver     upstream  UGP2  0.0000     0.0000   \n",
       "126201  Passengers in absence of driver     upstream  UGP2 -0.3715     0.3715   \n",
       "126205  Passengers in absence of driver     upstream  UGP2 -0.0381     0.0381   \n",
       "126206  Passengers in absence of driver     upstream  UGP2  0.7061     0.7061   \n",
       "126213  Passengers in absence of driver     upstream  UGP2 -0.0147     0.0147   \n",
       "\n",
       "       prediction  \n",
       "7            loss  \n",
       "8            gain  \n",
       "9            gain  \n",
       "10           loss  \n",
       "12           gain  \n",
       "...           ...  \n",
       "126200       loss  \n",
       "126201       loss  \n",
       "126205       loss  \n",
       "126206       gain  \n",
       "126213       loss  \n",
       "\n",
       "[48545 rows x 9 columns]"
      ]
     },
     "execution_count": 11,
     "metadata": {},
     "output_type": "execute_result"
    }
   ],
   "source": [
    "# gene = \"FBXW7\"\n",
    "# plot_data = mut_tf_data[mut_tf_data[\"gene\"] == gene]\n",
    "plot_data = mut_tf_data[mut_tf_data[\"driver_status\"] != \"Drivers\"]\n",
    "plot_data"
   ]
  },
  {
   "cell_type": "code",
   "execution_count": 12,
   "metadata": {},
   "outputs": [
    {
     "data": {
      "application/vnd.microsoft.datawrangler.viewer.v0+json": {
       "columns": [
        {
         "name": "index",
         "rawType": "int64",
         "type": "integer"
        },
        {
         "name": "tf",
         "rawType": "object",
         "type": "string"
        },
        {
         "name": "p_val",
         "rawType": "float64",
         "type": "float"
        },
        {
         "name": "diff",
         "rawType": "float64",
         "type": "float"
        },
        {
         "name": "log_p",
         "rawType": "float64",
         "type": "float"
        },
        {
         "name": "pval_adj",
         "rawType": "float64",
         "type": "float"
        },
        {
         "name": "log_p_adj",
         "rawType": "float64",
         "type": "float"
        }
       ],
       "conversionMethod": "pd.DataFrame",
       "ref": "9b36c449-0c5d-4559-8db5-d4859c7913a4",
       "rows": [
        [
         "0",
         "A1CF",
         "0.656296246615571",
         "-0.057292708333333324",
         "0.1829000794834505",
         "0.8739442525822327",
         "0.05851626938857524"
        ],
        [
         "1",
         "ABCF2",
         "0.4926303207418475",
         "-0.07502083333333331",
         "0.3074788614258178",
         "0.842513261244072",
         "0.074423254563689"
        ],
        [
         "2",
         "ACO1",
         "0.005836788869656038",
         "0.045284375",
         "2.233826015855798",
         "0.07859831225449442",
         "1.1045867794876851"
        ],
        [
         "3",
         "ADARB1",
         "0.0010960117976623375",
         "0.09018437500000001",
         "2.9601847710048648",
         "0.03794934140778401",
         "1.420795756670928"
        ],
        [
         "4",
         "AFF4",
         "0.4734863524492628",
         "-0.10050416666666666",
         "0.32469253438276735",
         "0.8323518008201869",
         "0.0796930765189028"
        ],
        [
         "5",
         "AGAP2",
         "0.009507229473990486",
         "0.04335",
         "2.0219460234893143",
         "0.09105834222133673",
         "1.0406802605804246"
        ],
        [
         "6",
         "AGGF1",
         "0.48698040184479674",
         "-0.06416770833333332",
         "0.3124885162841845",
         "0.8419127160950572",
         "0.0747329309269255"
        ],
        [
         "7",
         "AHR",
         "0.1398902265123194",
         "0.020522135416666726",
         "0.8542126266092414",
         "0.44501776186373165",
         "0.3516226548045425"
        ],
        [
         "8",
         "AIRE",
         "0.19005421590553023",
         "0.03465572916666669",
         "0.7211224921529571",
         "0.5261580787644121",
         "0.27888375694691786"
        ],
        [
         "9",
         "AKR1A1",
         "0.4752947022870679",
         "-0.09477395833333335",
         "0.32303702639599563",
         "0.8334181442125956",
         "0.07913704882038733"
        ],
        [
         "10",
         "ALX1",
         "0.3361742378226298",
         "0.0066052083333333275",
         "0.47343557108739925",
         "0.7230634368299952",
         "0.14082359889268706"
        ],
        [
         "11",
         "ALX3",
         "0.014639826129577514",
         "0.033591840277777785",
         "1.8344640811610597",
         "0.10975912887418385",
         "0.9595593484907886"
        ],
        [
         "12",
         "ALX4",
         "0.9681218099764611",
         "0.00042152777777776373",
         "0.014069995922570373",
         "0.9869898791820217",
         "0.005687300661605435"
        ],
        [
         "13",
         "ANDR",
         "0.760027172325895",
         "0.008067013888888891",
         "0.11917088063993957",
         "0.9025322671370004",
         "0.04453726234303534"
        ],
        [
         "14",
         "ANXA1",
         "0.015245082458343124",
         "0.054584375000000004",
         "1.8168702222591413",
         "0.11354212737086095",
         "0.9448429729186869"
        ],
        [
         "15",
         "ANXA11",
         "0.025177495485154675",
         "0.07126874999999999",
         "1.5989874732382574",
         "0.15249426304763988",
         "0.8167464945048605"
        ],
        [
         "16",
         "AP2A",
         "0.5794337798259308",
         "0.01841875000000001",
         "0.23699618989793547",
         "0.8513467530087531",
         "0.06989351600716447"
        ],
        [
         "17",
         "AP2B",
         "0.0014042568571845733",
         "0.033840625",
         "2.8525534467253464",
         "0.04021821552364462",
         "1.3955772028945983"
        ],
        [
         "18",
         "AP2C",
         "0.5963287667237975",
         "0.017224999999999997",
         "0.2245142399112321",
         "0.8513467530087531",
         "0.06989351600716447"
        ],
        [
         "19",
         "AP2D",
         "0.0007602247087935001",
         "0.0481625",
         "3.1190580190813995",
         "0.03625066262057113",
         "1.4406840506149863"
        ],
        [
         "20",
         "APEX2",
         "0.3856387669630013",
         "-0.077078125",
         "0.41381931441693465",
         "0.7727458828113244",
         "0.1119633001787127"
        ],
        [
         "21",
         "AR",
         "0.4327742256289442",
         "0.025457465277777765",
         "0.36373861204299196",
         "0.8067714491664763",
         "0.09324947943405268"
        ],
        [
         "22",
         "ARFGAP1",
         "0.21794749626576698",
         "-0.195809375",
         "0.6616481156997829",
         "0.5757965282297501",
         "0.23973095803245487"
        ],
        [
         "23",
         "ARGFX",
         "0.45043430364903053",
         "-0.03727083333333334",
         "0.3463685424058646",
         "0.8125494663569326",
         "0.09015019058056764"
        ],
        [
         "24",
         "ARI3A",
         "0.9824782443466471",
         "0.0004833333333333287",
         "0.007677057710613227",
         "0.9961237755181284",
         "0.0016866940214257634"
        ],
        [
         "25",
         "ARI5B",
         "0.014273783469995915",
         "0.029038541666666664",
         "1.845460895676274",
         "0.10818435886822042",
         "0.9658355243334186"
        ],
        [
         "26",
         "ARID3A",
         "0.959194875267592",
         "0.001006597222222197",
         "0.018093150227130546",
         "0.9818474479676385",
         "0.007955984364270195"
        ],
        [
         "27",
         "ARID5A",
         "0.11289829153368715",
         "0.034186458333333336",
         "0.9473126301131743",
         "0.38580037679507917",
         "0.4136373525346854"
        ],
        [
         "28",
         "ARID5B",
         "0.04407783354030061",
         "0.017726041666666626",
         "1.355779759542271",
         "0.2096752256365483",
         "0.6784528809555248"
        ],
        [
         "29",
         "ARNT",
         "0.9808392212700237",
         "0.00037767857142854966",
         "0.00840217614481277",
         "0.9961237755181284",
         "0.0016866940214257634"
        ],
        [
         "30",
         "ARNT2",
         "0.44826377074353624",
         "-0.029125347222222202",
         "0.34846635995637265",
         "0.8125494663569326",
         "0.09015019058056764"
        ],
        [
         "31",
         "ARNTL",
         "0.2970496871535841",
         "0.00946666666666666",
         "0.5271709006767695",
         "0.6878262371986997",
         "0.1625212619927961"
        ],
        [
         "32",
         "ARX",
         "0.1638457711993328",
         "0.012538541666666705",
         "0.7855647631219771",
         "0.4827116391934997",
         "0.3163122293011157"
        ],
        [
         "33",
         "ASAP3",
         "0.8498897742472308",
         "-0.01122395833333334",
         "0.07063739609784311",
         "0.9370406334506433",
         "0.028241576133808323"
        ],
        [
         "34",
         "ASCC1",
         "0.12554730234216538",
         "0.07170729166666667",
         "0.9011926146157223",
         "0.41166455874369595",
         "0.38545652091747973"
        ],
        [
         "35",
         "ASCL1",
         "0.024397833157917458",
         "0.020426458333333352",
         "1.612648742896801",
         "0.1510705115626407",
         "0.8208203001576789"
        ],
        [
         "36",
         "ASCL2",
         "0.006864694608025217",
         "0.0161377604166667",
         "2.1633787786019676",
         "0.08425957010027413",
         "1.0743807610121026"
        ],
        [
         "37",
         "ASPSCR1",
         "0.015791663923493873",
         "0.040646875",
         "1.8015721071849",
         "0.11354212737086095",
         "0.9448429729186869"
        ],
        [
         "38",
         "ATF1",
         "0.31767665391539673",
         "-0.04981083333333334",
         "0.4980147003389492",
         "0.7045356619189853",
         "0.15209701904483677"
        ],
        [
         "39",
         "ATF2",
         "0.33504914235413513",
         "-0.041602546296296304",
         "0.47489148941689874",
         "0.7227265325741609",
         "0.14102600126783593"
        ],
        [
         "40",
         "ATF3",
         "0.8348478152269256",
         "0.0040051339285714325",
         "0.07839268503241165",
         "0.9347046968015911",
         "0.029325575016615594"
        ],
        [
         "41",
         "ATF4",
         "0.9477843123031929",
         "-0.0022410416666666655",
         "0.0232904840060434",
         "0.9777887135237294",
         "0.009754980042784446"
        ],
        [
         "42",
         "ATF5",
         "0.26236048873497514",
         "-0.12593645833333333",
         "0.581101568749172",
         "0.6395325094471187",
         "0.19413737407095819"
        ],
        [
         "43",
         "ATF6",
         "0.3527004735263155",
         "-0.0870963541666667",
         "0.4525939572598486",
         "0.7389660978564949",
         "0.13137548562626364"
        ],
        [
         "44",
         "ATF6A",
         "0.48106752474761183",
         "-0.071228125",
         "0.3177939598693143",
         "0.8382420311871076",
         "0.07663056653369846"
        ],
        [
         "45",
         "ATF7",
         "0.3037170293560685",
         "-0.0348784226190476",
         "0.51753085659004",
         "0.6917167811442808",
         "0.16007168814963038"
        ],
        [
         "46",
         "ATOH1",
         "0.7530406846679477",
         "-0.006924851190476172",
         "0.12318155945737037",
         "0.9010179261037867",
         "0.04526656847652947"
        ],
        [
         "47",
         "ATOH7",
         "0.7186182689312233",
         "0.007997916666666667",
         "0.1435017462252071",
         "0.8932463861028492",
         "0.04902873219103118"
        ],
        [
         "48",
         "AVEN",
         "0.2664247446730633",
         "0.03830520833333333",
         "0.5744254417543513",
         "0.6407420871133432",
         "0.19331674845894375"
        ],
        [
         "49",
         "BACH1",
         "0.00028003359480302374",
         "0.020034054487179487",
         "3.552789864506434",
         "0.03042375530486313",
         "1.516787180568307"
        ]
       ],
       "shape": {
        "columns": 6,
        "rows": 1387
       }
      },
      "text/html": [
       "<div>\n",
       "<style scoped>\n",
       "    .dataframe tbody tr th:only-of-type {\n",
       "        vertical-align: middle;\n",
       "    }\n",
       "\n",
       "    .dataframe tbody tr th {\n",
       "        vertical-align: top;\n",
       "    }\n",
       "\n",
       "    .dataframe thead th {\n",
       "        text-align: right;\n",
       "    }\n",
       "</style>\n",
       "<table border=\"1\" class=\"dataframe\">\n",
       "  <thead>\n",
       "    <tr style=\"text-align: right;\">\n",
       "      <th></th>\n",
       "      <th>tf</th>\n",
       "      <th>p_val</th>\n",
       "      <th>diff</th>\n",
       "      <th>log_p</th>\n",
       "      <th>pval_adj</th>\n",
       "      <th>log_p_adj</th>\n",
       "    </tr>\n",
       "  </thead>\n",
       "  <tbody>\n",
       "    <tr>\n",
       "      <th>0</th>\n",
       "      <td>A1CF</td>\n",
       "      <td>0.656296</td>\n",
       "      <td>-0.057293</td>\n",
       "      <td>0.182900</td>\n",
       "      <td>0.873944</td>\n",
       "      <td>0.058516</td>\n",
       "    </tr>\n",
       "    <tr>\n",
       "      <th>1</th>\n",
       "      <td>ABCF2</td>\n",
       "      <td>0.492630</td>\n",
       "      <td>-0.075021</td>\n",
       "      <td>0.307479</td>\n",
       "      <td>0.842513</td>\n",
       "      <td>0.074423</td>\n",
       "    </tr>\n",
       "    <tr>\n",
       "      <th>2</th>\n",
       "      <td>ACO1</td>\n",
       "      <td>0.005837</td>\n",
       "      <td>0.045284</td>\n",
       "      <td>2.233826</td>\n",
       "      <td>0.078598</td>\n",
       "      <td>1.104587</td>\n",
       "    </tr>\n",
       "    <tr>\n",
       "      <th>3</th>\n",
       "      <td>ADARB1</td>\n",
       "      <td>0.001096</td>\n",
       "      <td>0.090184</td>\n",
       "      <td>2.960185</td>\n",
       "      <td>0.037949</td>\n",
       "      <td>1.420796</td>\n",
       "    </tr>\n",
       "    <tr>\n",
       "      <th>4</th>\n",
       "      <td>AFF4</td>\n",
       "      <td>0.473486</td>\n",
       "      <td>-0.100504</td>\n",
       "      <td>0.324693</td>\n",
       "      <td>0.832352</td>\n",
       "      <td>0.079693</td>\n",
       "    </tr>\n",
       "    <tr>\n",
       "      <th>...</th>\n",
       "      <td>...</td>\n",
       "      <td>...</td>\n",
       "      <td>...</td>\n",
       "      <td>...</td>\n",
       "      <td>...</td>\n",
       "      <td>...</td>\n",
       "    </tr>\n",
       "    <tr>\n",
       "      <th>1382</th>\n",
       "      <td>ZSCAN29</td>\n",
       "      <td>0.224137</td>\n",
       "      <td>0.027575</td>\n",
       "      <td>0.649487</td>\n",
       "      <td>0.584341</td>\n",
       "      <td>0.233334</td>\n",
       "    </tr>\n",
       "    <tr>\n",
       "      <th>1383</th>\n",
       "      <td>ZSCAN31</td>\n",
       "      <td>0.504779</td>\n",
       "      <td>0.011407</td>\n",
       "      <td>0.296899</td>\n",
       "      <td>0.845811</td>\n",
       "      <td>0.072727</td>\n",
       "    </tr>\n",
       "    <tr>\n",
       "      <th>1384</th>\n",
       "      <td>ZSCAN4</td>\n",
       "      <td>0.710705</td>\n",
       "      <td>0.004835</td>\n",
       "      <td>0.148311</td>\n",
       "      <td>0.893246</td>\n",
       "      <td>0.049029</td>\n",
       "    </tr>\n",
       "    <tr>\n",
       "      <th>1385</th>\n",
       "      <td>ZSCAN9</td>\n",
       "      <td>0.853309</td>\n",
       "      <td>0.021694</td>\n",
       "      <td>0.068894</td>\n",
       "      <td>0.939541</td>\n",
       "      <td>0.027084</td>\n",
       "    </tr>\n",
       "    <tr>\n",
       "      <th>1386</th>\n",
       "      <td>ZSWIM1</td>\n",
       "      <td>0.012298</td>\n",
       "      <td>0.049678</td>\n",
       "      <td>1.910152</td>\n",
       "      <td>0.102127</td>\n",
       "      <td>0.990862</td>\n",
       "    </tr>\n",
       "  </tbody>\n",
       "</table>\n",
       "<p>1387 rows × 6 columns</p>\n",
       "</div>"
      ],
      "text/plain": [
       "           tf     p_val      diff     log_p  pval_adj  log_p_adj\n",
       "0        A1CF  0.656296 -0.057293  0.182900  0.873944   0.058516\n",
       "1       ABCF2  0.492630 -0.075021  0.307479  0.842513   0.074423\n",
       "2        ACO1  0.005837  0.045284  2.233826  0.078598   1.104587\n",
       "3      ADARB1  0.001096  0.090184  2.960185  0.037949   1.420796\n",
       "4        AFF4  0.473486 -0.100504  0.324693  0.832352   0.079693\n",
       "...       ...       ...       ...       ...       ...        ...\n",
       "1382  ZSCAN29  0.224137  0.027575  0.649487  0.584341   0.233334\n",
       "1383  ZSCAN31  0.504779  0.011407  0.296899  0.845811   0.072727\n",
       "1384   ZSCAN4  0.710705  0.004835  0.148311  0.893246   0.049029\n",
       "1385   ZSCAN9  0.853309  0.021694  0.068894  0.939541   0.027084\n",
       "1386   ZSWIM1  0.012298  0.049678  1.910152  0.102127   0.990862\n",
       "\n",
       "[1387 rows x 6 columns]"
      ]
     },
     "execution_count": 12,
     "metadata": {},
     "output_type": "execute_result"
    }
   ],
   "source": [
    "# Group by TF and condition to get list of scores\n",
    "grouped = plot_data.groupby(['tf', 'driver_status'])['abs_score'].apply(list).unstack()\n",
    "\n",
    "# Compute statistics\n",
    "results = []\n",
    "for tf in grouped.index:\n",
    "    group1 = grouped.loc[tf, 'Passengers in absence of driver']\n",
    "    group2 = grouped.loc[tf, 'Passengers in presence of driver']\n",
    "    stat, pval = ttest_ind(group1, group2, equal_var=False)\n",
    "    diff = np.mean(group1) - np.mean(group2)\n",
    "    results.append({'tf': tf, 'p_val': pval, 'diff': diff})\n",
    "    \n",
    "volcano_df = pd.DataFrame(results)\n",
    "volcano_df.dropna(inplace=True) \n",
    "volcano_df[\"log_p\"] = volcano_df[\"p_val\"].apply(lambda x: -np.log10(x))\n",
    "# multiple testing correction\n",
    "rejected, pvals_corrected, _, _ = multipletests(volcano_df['p_val'], method='fdr_bh')\n",
    "volcano_df['pval_adj'] = pvals_corrected\n",
    "volcano_df[\"log_p_adj\"] = volcano_df[\"pval_adj\"].apply(lambda x: -np.log10(x))\n",
    "volcano_df"
   ]
  },
  {
   "cell_type": "code",
   "execution_count": null,
   "metadata": {},
   "outputs": [
    {
     "data": {
      "image/png": "[encoded data removed]",
      "text/plain": [
       "<Figure size 600x500 with 1 Axes>"
      ]
     },
     "metadata": {},
     "output_type": "display_data"
    }
   ],
   "source": [
    "plt.figure(figsize=(6, 5))\n",
    "sns.set(style=\"white\")\n",
    "sns.scatterplot(\n",
    "    data=volcano_df, \n",
    "    x='diff', \n",
    "    y='log_p_adj'\n",
    ")\n",
    "plt.axhline(-np.log10(0.05), color='red', linestyle='--')  # p = 0.05 cutoff\n",
    "plt.axvline(0, color='gray', linestyle='--')  # no difference cutoff\n",
    "\n",
    "# center x axis at 0\n",
    "max_abs = max(abs(volcano_df[\"diff\"].min()), abs(volcano_df[\"diff\"].max()))\n",
    "max_abs += 0.01\n",
    "plt.xlim(-max_abs, max_abs)\n",
    "\n",
    "# annotate passenger mutations that cause big splicing changes (>= 50% change in probablity)\n",
    "# avoid overlapping text\n",
    "annot = []\n",
    "top_tfs = volcano_df.nlargest(10, 'log_p_adj')[\"tf\"].tolist() # get top 10 TFs by significance\n",
    "for index, row in volcano_df.iterrows():\n",
    "\tif row[\"log_p_adj\"] > -np.log10(0.05) and row[\"diff\"] > 0 and row[\"tf\"] in top_tfs:\n",
    "\t\tannot.append(plt.text(row[\"diff\"], row[\"log_p_adj\"], row[\"tf\"], fontsize=12, ha='center', va='bottom', color='red'))\n",
    "\telif row[\"log_p_adj\"] > -np.log10(0.05) and row[\"diff\"] < 0 and row[\"tf\"] in top_tfs:\n",
    "\t\tannot.append(plt.text(row[\"diff\"], row[\"log_p_adj\"], row[\"tf\"], fontsize=12, ha='center', va='bottom', color='black'))\n",
    "adjust_text(annot)\n",
    "\n",
    "plt.xticks(fontsize=16)\n",
    "plt.xlabel('Difference in mean score of TF binding effects', fontsize=17, labelpad=10)\n",
    "plt.yticks(fontsize=16)\n",
    "plt.ylabel('-log10(p-value)', fontsize=18, labelpad=10)\n",
    "# plt.title(f\"TF binding changes caused by\\n{gene} mutations in {cancer_type}\", fontsize=17, pad=10)\n",
    "plt.title(cancer_type, fontsize=17, pad=10)\n",
    "plt.tight_layout()\n",
    "plt.savefig(f\"{RESULTS_DIR}/{cancer_type}_TFBS_diff.png\", dpi=300)"
   ]
  }
 ],
 "metadata": {
  "kernelspec": {
   "display_name": "cancer-model",
   "language": "python",
   "name": "python3"
  },
  "language_info": {
   "codemirror_mode": {
    "name": "ipython",
    "version": 3
   },
   "file_extension": ".py",
   "mimetype": "text/x-python",
   "name": "python",
   "nbconvert_exporter": "python",
   "pygments_lexer": "ipython3",
   "version": "3.9.19"
  }
 },
 "nbformat": 4,
 "nbformat_minor": 2
}
