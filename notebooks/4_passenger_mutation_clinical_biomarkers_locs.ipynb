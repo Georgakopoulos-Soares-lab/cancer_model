{
 "cells": [
  {
   "cell_type": "code",
   "execution_count": 43,
   "metadata": {},
   "outputs": [],
   "source": [
    "import os\n",
    "import numpy as np\n",
    "import pandas as pd\n",
    "import matplotlib.pyplot as plt\n",
    "import seaborn as sns"
   ]
  },
  {
   "cell_type": "code",
   "execution_count": 44,
   "metadata": {
    "tags": [
     "parameters"
    ]
   },
   "outputs": [],
   "source": [
    "param = \"Lung-AdenoCA:KRAS\""
   ]
  },
  {
   "cell_type": "code",
   "execution_count": 45,
   "metadata": {},
   "outputs": [
    {
     "name": "stdout",
     "output_type": "stream",
     "text": [
      "Cancer type: Lung-AdenoCA, gene: KRAS\n"
     ]
    }
   ],
   "source": [
    "# Extract cancer type and gene from the parameter\n",
    "cancer_type = param.split(\":\")[0]\n",
    "gene = param.split(\":\")[1]\n",
    "print(f\"Cancer type: {cancer_type}, gene: {gene}\")"
   ]
  },
  {
   "cell_type": "code",
   "execution_count": 46,
   "metadata": {},
   "outputs": [],
   "source": [
    "# input files/dirs\n",
    "ANNOTATED_MUTATIONS = \"../data/annotated_snv_mv_indels_by_cancer_subtype\"\n",
    "DRIVER_GENES = \"../data/driver_genes\"\n",
    "\n",
    "# output files/dirs\n",
    "PASS_LOCS = \"../results/passenger_locations\"\n",
    "\n",
    "if not os.path.exists(PASS_LOCS):\n",
    "\tos.makedirs(PASS_LOCS)"
   ]
  },
  {
   "cell_type": "code",
   "execution_count": 47,
   "metadata": {},
   "outputs": [
    {
     "data": {
      "application/vnd.microsoft.datawrangler.viewer.v0+json": {
       "columns": [
        {
         "name": "index",
         "rawType": "int64",
         "type": "integer"
        },
        {
         "name": "Tumor_Sample_Barcode",
         "rawType": "object",
         "type": "string"
        },
        {
         "name": "Patient_ID",
         "rawType": "object",
         "type": "string"
        },
        {
         "name": "mutation",
         "rawType": "object",
         "type": "string"
        },
        {
         "name": "driver",
         "rawType": "bool",
         "type": "boolean"
        },
        {
         "name": "has_driver",
         "rawType": "bool",
         "type": "boolean"
        },
        {
         "name": "genic_region",
         "rawType": "object",
         "type": "string"
        },
        {
         "name": "CADD_score_raw",
         "rawType": "float64",
         "type": "float"
        },
        {
         "name": "mutation_pos",
         "rawType": "int64",
         "type": "integer"
        },
        {
         "name": "mut",
         "rawType": "object",
         "type": "string"
        }
       ],
       "conversionMethod": "pd.DataFrame",
       "ref": "a81228e0-5072-4a3d-b159-8c183557fc63",
       "rows": [
        [
         "503093",
         "3b20d548-2a7d-4031-85a1-425ca7201d7a",
         "DO25797",
         "12:25401091-25401091:G:C",
         "False",
         "False",
         "intronic",
         "-0.17534",
         "25401091",
         "G->C"
        ],
        [
         "692515",
         "49dec0c2-8e75-4f44-a253-82b2ea605890",
         "DO25622",
         "12:25406505-25406505:T:G",
         "False",
         "False",
         "intergenic",
         "0.177999",
         "25406505",
         "T->G"
        ],
        [
         "1022199",
         "bd3e88b3-b37c-4641-85fa-d8125ba324ca",
         "DO25189",
         "12:25404117-25404117:G:T",
         "False",
         "False",
         "upstream",
         "0.472976",
         "25404117",
         "G->T"
        ]
       ],
       "shape": {
        "columns": 9,
        "rows": 3
       }
      },
      "text/html": [
       "<div>\n",
       "<style scoped>\n",
       "    .dataframe tbody tr th:only-of-type {\n",
       "        vertical-align: middle;\n",
       "    }\n",
       "\n",
       "    .dataframe tbody tr th {\n",
       "        vertical-align: top;\n",
       "    }\n",
       "\n",
       "    .dataframe thead th {\n",
       "        text-align: right;\n",
       "    }\n",
       "</style>\n",
       "<table border=\"1\" class=\"dataframe\">\n",
       "  <thead>\n",
       "    <tr style=\"text-align: right;\">\n",
       "      <th></th>\n",
       "      <th>Tumor_Sample_Barcode</th>\n",
       "      <th>Patient_ID</th>\n",
       "      <th>mutation</th>\n",
       "      <th>driver</th>\n",
       "      <th>has_driver</th>\n",
       "      <th>genic_region</th>\n",
       "      <th>CADD_score_raw</th>\n",
       "      <th>mutation_pos</th>\n",
       "      <th>mut</th>\n",
       "    </tr>\n",
       "  </thead>\n",
       "  <tbody>\n",
       "    <tr>\n",
       "      <th>503093</th>\n",
       "      <td>3b20d548-2a7d-4031-85a1-425ca7201d7a</td>\n",
       "      <td>DO25797</td>\n",
       "      <td>12:25401091-25401091:G:C</td>\n",
       "      <td>False</td>\n",
       "      <td>False</td>\n",
       "      <td>intronic</td>\n",
       "      <td>-0.175340</td>\n",
       "      <td>25401091</td>\n",
       "      <td>G-&gt;C</td>\n",
       "    </tr>\n",
       "    <tr>\n",
       "      <th>692515</th>\n",
       "      <td>49dec0c2-8e75-4f44-a253-82b2ea605890</td>\n",
       "      <td>DO25622</td>\n",
       "      <td>12:25406505-25406505:T:G</td>\n",
       "      <td>False</td>\n",
       "      <td>False</td>\n",
       "      <td>intergenic</td>\n",
       "      <td>0.177999</td>\n",
       "      <td>25406505</td>\n",
       "      <td>T-&gt;G</td>\n",
       "    </tr>\n",
       "    <tr>\n",
       "      <th>1022199</th>\n",
       "      <td>bd3e88b3-b37c-4641-85fa-d8125ba324ca</td>\n",
       "      <td>DO25189</td>\n",
       "      <td>12:25404117-25404117:G:T</td>\n",
       "      <td>False</td>\n",
       "      <td>False</td>\n",
       "      <td>upstream</td>\n",
       "      <td>0.472976</td>\n",
       "      <td>25404117</td>\n",
       "      <td>G-&gt;T</td>\n",
       "    </tr>\n",
       "  </tbody>\n",
       "</table>\n",
       "</div>"
      ],
      "text/plain": [
       "                         Tumor_Sample_Barcode Patient_ID  \\\n",
       "503093   3b20d548-2a7d-4031-85a1-425ca7201d7a    DO25797   \n",
       "692515   49dec0c2-8e75-4f44-a253-82b2ea605890    DO25622   \n",
       "1022199  bd3e88b3-b37c-4641-85fa-d8125ba324ca    DO25189   \n",
       "\n",
       "                         mutation  driver  has_driver genic_region  \\\n",
       "503093   12:25401091-25401091:G:C   False       False     intronic   \n",
       "692515   12:25406505-25406505:T:G   False       False   intergenic   \n",
       "1022199  12:25404117-25404117:G:T   False       False     upstream   \n",
       "\n",
       "         CADD_score_raw  mutation_pos   mut  \n",
       "503093        -0.175340      25401091  G->C  \n",
       "692515         0.177999      25406505  T->G  \n",
       "1022199        0.472976      25404117  G->T  "
      ]
     },
     "execution_count": 47,
     "metadata": {},
     "output_type": "execute_result"
    }
   ],
   "source": [
    "mut_data = pd.read_csv(f\"{ANNOTATED_MUTATIONS}/{cancer_type}.tsv\", sep=\"\\t\")\n",
    "mut_data = mut_data[mut_data[\"gene\"] == gene]\n",
    "mut_data = mut_data[[\"Tumor_Sample_Barcode\", \"Patient_ID\", \"mutation\", \"driver\", \"has_driver\", \"genic_region\", \"CADD_score_raw\"]]\n",
    "# passenger mutations in the absence of driver mutations in the gene\n",
    "mut_data = mut_data[(~mut_data[\"driver\"]) & (~mut_data[\"has_driver\"])]\n",
    "mut_data[\"mutation_pos\"] = mut_data[\"mutation\"].apply(lambda x: int(x.split(\":\")[1].split(\"-\")[0])).astype(int)\n",
    "mut_data[\"mut\"] = mut_data[\"mutation\"].apply(lambda x: '->'.join(x.split(\":\")[-2:]))\n",
    "mut_data.head()"
   ]
  },
  {
   "cell_type": "code",
   "execution_count": 48,
   "metadata": {},
   "outputs": [
    {
     "name": "stdout",
     "output_type": "stream",
     "text": [
      "65773\n"
     ]
    }
   ],
   "source": [
    "gene_data = pd.read_csv(f\"{DRIVER_GENES}/{cancer_type}.tsv\", sep=\"\\t\")\n",
    "gene_data = gene_data[gene_data[\"gene\"] == gene]\n",
    "gene_start = gene_data[\"start\"].values[0]\n",
    "gene_end = gene_data[\"end\"].values[0]\n",
    "gene_span = np.arange(gene_start, gene_end + 1)\n",
    "print(gene_end - gene_start)"
   ]
  },
  {
   "cell_type": "code",
   "execution_count": 51,
   "metadata": {},
   "outputs": [
    {
     "name": "stdout",
     "output_type": "stream",
     "text": [
      "2\n",
      "['-', '3b20d548-2a7d-4031-85a1-425ca7201d7a', '49dec0c2-8e75-4f44-a253-82b2ea605890', 'bd3e88b3-b37c-4641-85fa-d8125ba324ca', '.']\n"
     ]
    },
    {
     "name": "stderr",
     "output_type": "stream",
     "text": [
      "/var/folders/1r/lnpzqmmd429dz0fv3s3z1hdh0000gr/T/ipykernel_72167/602672178.py:13: FutureWarning: The frame.append method is deprecated and will be removed from pandas in a future version. Use pandas.concat instead.\n",
      "  plot_data = plot_data.append({\"Tumor_Sample_Barcode\": \"-\", \"mutation_pos\": gene_end+10000}, ignore_index=True)\n",
      "/var/folders/1r/lnpzqmmd429dz0fv3s3z1hdh0000gr/T/ipykernel_72167/602672178.py:14: FutureWarning: The frame.append method is deprecated and will be removed from pandas in a future version. Use pandas.concat instead.\n",
      "  plot_data = plot_data.append({\"Tumor_Sample_Barcode\": \".\", \"mutation_pos\": gene_start-10000}, ignore_index=True)\n"
     ]
    },
    {
     "data": {
      "image/png": "[encoded data removed]",
      "text/plain": [
       "<Figure size 1500x200 with 1 Axes>"
      ]
     },
     "metadata": {},
     "output_type": "display_data"
    }
   ],
   "source": [
    "n_rows = mut_data[\"Tumor_Sample_Barcode\"].nunique()\n",
    "plt_height = round(n_rows * 0.5) if n_rows < 10 else round(n_rows * 0.3)\n",
    "print(plt_height)\n",
    "plt.figure(figsize=(15, plt_height))\n",
    "\n",
    "plot_data = mut_data.copy()\n",
    "# add dummy rows to make the plot more readable if no. of rows is small\n",
    "y_order = mut_data[\"Tumor_Sample_Barcode\"].unique()\n",
    "y_order.sort()\n",
    "if n_rows < 10:\n",
    "\ty_order = [\"-\"] + list(y_order) + [\".\"]\n",
    "\tprint(y_order)\n",
    "\tplot_data = plot_data.append({\"Tumor_Sample_Barcode\": \"-\", \"mutation_pos\": gene_end+10000}, ignore_index=True)\n",
    "\tplot_data = plot_data.append({\"Tumor_Sample_Barcode\": \".\", \"mutation_pos\": gene_start-10000}, ignore_index=True)\n",
    "\tplot_data[\"Tumor_Sample_Barcode\"] = pd.Categorical(plot_data[\"Tumor_Sample_Barcode\"], categories=y_order, ordered=True)\n",
    "\tplot_data = plot_data.sort_values(by=\"Tumor_Sample_Barcode\")\n",
    "\n",
    "# plot mutations\n",
    "plt.scatter(\n",
    "    x=\"mutation_pos\",\n",
    "    y=\"Tumor_Sample_Barcode\",\n",
    "\tdata=plot_data,\n",
    "\ts=200,  # size of the points\n",
    "\tmarker=\"o\",  # shape of the points\n",
    ")\n",
    "\n",
    "# add horizonal lines for each sample\n",
    "if n_rows < 10:\n",
    "\ty_order = y_order[1:-1]  # skip the dummy rows\n",
    "for sample in y_order:  # skip the dummy rows\n",
    "\tplt.axhline(y=sample, color='gray', linestyle='solid', linewidth=1)\n",
    "\n",
    "interval = (gene_end - gene_start) // 5\n",
    "plt.xticks(\n",
    "\tticks=gene_span[::interval],\n",
    "\tlabels=gene_span[::interval],\n",
    ")\n",
    "plt.yticks(ticks=y_order, labels=y_order)\n",
    "plt.xlim(gene_start - 10, gene_end + 10)\n",
    "plt.title(f\"Passenger mutations (in absence of drivers) in {gene} - {cancer_type}\", fontsize=16)\n",
    "plt.tight_layout()\n",
    "plt.savefig(f\"{PASS_LOCS}/{cancer_type}_{gene}.png\", dpi=300)"
   ]
  },
  {
   "cell_type": "code",
   "execution_count": null,
   "metadata": {},
   "outputs": [],
   "source": []
  }
 ],
 "metadata": {
  "kernelspec": {
   "display_name": "cancer-model",
   "language": "python",
   "name": "python3"
  },
  "language_info": {
   "codemirror_mode": {
    "name": "ipython",
    "version": 3
   },
   "file_extension": ".py",
   "mimetype": "text/x-python",
   "name": "python",
   "nbconvert_exporter": "python",
   "pygments_lexer": "ipython3",
   "version": "3.9.19"
  }
 },
 "nbformat": 4,
 "nbformat_minor": 2
}
